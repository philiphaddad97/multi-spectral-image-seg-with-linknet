{
  "nbformat": 4,
  "nbformat_minor": 0,
  "metadata": {
    "colab": {
      "name": "Training.ipynb",
      "provenance": [],
      "machine_shape": "hm",
      "collapsed_sections": [
        "ywG2hYxPCdS0",
        "xNX7s2FXCBdC",
        "hSCpiLTVMkSZ",
        "hO-Wb86ZM6oV",
        "0OLQE32jiDXs",
        "6208RpydiDXy",
        "Lyi5eeMZsmLF",
        "8bfue_Wq2wdF",
        "rHq54kAm6wDW",
        "Nd6gjWzM-Bn5",
        "w0qQhBg5BDYk",
        "5GJvS9atDQ6m",
        "F6Uxfj1QGqKo",
        "o5MyQYEzKTbh"
      ],
      "toc_visible": true
    },
    "kernelspec": {
      "name": "python3",
      "display_name": "Python 3"
    },
    "language_info": {
      "name": "python"
    },
    "accelerator": "GPU"
  },
  "cells": [
    {
      "cell_type": "markdown",
      "source": [
        "# General"
      ],
      "metadata": {
        "id": "jrY58Kg1Cj6P"
      }
    },
    {
      "cell_type": "code",
      "execution_count": 1,
      "metadata": {
        "colab": {
          "base_uri": "https://localhost:8080/"
        },
        "id": "lRwUA7HeVON5",
        "outputId": "1f366741-9cc1-4a41-9d6d-6e70a08b90d6"
      },
      "outputs": [
        {
          "output_type": "stream",
          "name": "stdout",
          "text": [
            "Drive already mounted at /content/drive; to attempt to forcibly remount, call drive.mount(\"/content/drive\", force_remount=True).\n"
          ]
        }
      ],
      "source": [
        "from google.colab import drive\n",
        "drive.mount('/content/drive')"
      ]
    },
    {
      "cell_type": "code",
      "source": [
        "import numpy as np\n",
        "import torch\n",
        "from torch.utils.data import Dataset, DataLoader\n",
        "from torchvision import transforms, datasets, models\n",
        "import torch.nn as nn\n",
        "import torchvision.models\n",
        "import torchvision.utils\n",
        "from PIL import Image\n",
        "import matplotlib.pyplot as plt\n",
        "from tqdm import tqdm\n",
        "import itertools\n",
        "import torch.optim as optim\n",
        "from torch.optim import lr_scheduler\n",
        "import time\n",
        "from sklearn.model_selection import train_test_split\n",
        "!pip install torchmetrics\n",
        "import gc"
      ],
      "metadata": {
        "id": "S4NXKFoSWVs-",
        "colab": {
          "base_uri": "https://localhost:8080/"
        },
        "outputId": "2beb77f0-6c99-4bc2-b647-51736ceded8d"
      },
      "execution_count": 2,
      "outputs": [
        {
          "output_type": "stream",
          "name": "stdout",
          "text": [
            "Looking in indexes: https://pypi.org/simple, https://us-python.pkg.dev/colab-wheels/public/simple/\n",
            "Requirement already satisfied: torchmetrics in /usr/local/lib/python3.7/dist-packages (0.9.1)\n",
            "Requirement already satisfied: torch>=1.3.1 in /usr/local/lib/python3.7/dist-packages (from torchmetrics) (1.11.0+cu113)\n",
            "Requirement already satisfied: numpy>=1.17.2 in /usr/local/lib/python3.7/dist-packages (from torchmetrics) (1.21.6)\n",
            "Requirement already satisfied: packaging in /usr/local/lib/python3.7/dist-packages (from torchmetrics) (21.3)\n",
            "Requirement already satisfied: typing-extensions in /usr/local/lib/python3.7/dist-packages (from torchmetrics) (4.2.0)\n",
            "Requirement already satisfied: pyparsing!=3.0.5,>=2.0.2 in /usr/local/lib/python3.7/dist-packages (from packaging->torchmetrics) (3.0.9)\n"
          ]
        }
      ]
    },
    {
      "cell_type": "code",
      "source": [
        "folder_path = '/content/drive/MyDrive/DS-LAB1/'\n",
        "train_dataset_path = folder_path + 'train_data.npy'\n",
        "train_labels_path = folder_path + 'train_labels.npy'\n",
        "test_dataset_path = folder_path + 'val_data.npy'\n",
        "test_labels_path = folder_path + 'val_labels.npy'\n",
        "\n",
        "classes = [ \"bg\",\"RoadMarkings\",\"Tree\",\"Building\",\"Vehicle\",\"Person\",\n",
        "            \"LifeguardChair\",\"PicnicTable\",\"BlackWoodPanel\",\n",
        "            \"WhiteWoodPanel\",\"OrangeLandingPad\",\"Buoy\",\"Rocks\",\n",
        "            \"LowLevelVegetation\",\"Grass_Lawn\",\"Sand_Beach\",\n",
        "            \"Water_Lake\",\"Water_Pond\",\"Asphalt\"]; "
      ],
      "metadata": {
        "id": "I5uRaKa4Vzyx"
      },
      "execution_count": 3,
      "outputs": []
    },
    {
      "cell_type": "markdown",
      "source": [
        "# Utils function"
      ],
      "metadata": {
        "id": "ywG2hYxPCdS0"
      }
    },
    {
      "cell_type": "code",
      "source": [
        "# Inevert the one-hot encoding\n",
        "def decode_mask(img):\n",
        "  array = np.zeros(256*256).reshape(256,256)\n",
        "  for i in range(array.shape[0]):\n",
        "    for j in range(array.shape[1]):\n",
        "      array[i][j] = np.argmax(img[i][j])\n",
        "  return Image.fromarray(array.astype(np.uint8))\n",
        "\n",
        "# Get an image with the differnce between the target and the pred\n",
        "def sim(target, pred):\n",
        "  sim_arr = np.zeros(256*256).reshape(256,256)\n",
        "  a1 = np.asarray(target)\n",
        "  a2 = np.asarray(pred)\n",
        "  for i in range(256):\n",
        "    for j in range(256):\n",
        "      sim_arr[i][j] = 1 if a1[i][j] == a2[i][j] else 0\n",
        "  return sim_arr\n",
        "\n",
        "# plot list of images\n",
        "def img2plot(model, loader,l):\n",
        "  images = []\n",
        "  for i in l:\n",
        "    data, target = get_loader_sample(i,dataloader=loader,batch_size=1)\n",
        "    with torch.no_grad():\n",
        "      output = model(data.to(device=device))\n",
        "    out = output[0]\n",
        "    m = nn.Softmax()\n",
        "    test = m(output)\n",
        "    out = test[0]\n",
        "    out = np.rollaxis(out.to(device='cpu').detach().numpy(),0,3)\n",
        "    img = np.rollaxis(data[0].to(device='cpu').detach().numpy(),0,3)\n",
        "    t = target[0]\n",
        "    t = np.rollaxis(t.detach().numpy(),0,3)\n",
        "\n",
        "    masked_target = decode_mask(t.copy())\n",
        "    masked_pred = decode_mask(out.copy())\n",
        "    sim_arr = sim(masked_target.copy(), masked_pred.copy())\n",
        "    masked_sim = Image.fromarray(sim_arr.astype(np.uint8))\n",
        "    img_rgb = get_rgb(img)\n",
        "\n",
        "    images.append(masked_target)\n",
        "    images.append(masked_pred)\n",
        "    images.append(img_rgb)\n",
        "    images.append(masked_sim)\n",
        "  return images\n",
        "\n",
        "# Load the dataset from a numpy file\n",
        "def load_npy(path):\n",
        "    return np.load(path)\n",
        "\n",
        "# Rescale the image pixel values to plot it\n",
        "def rescale(arr):\n",
        "    arr_min = arr.min()\n",
        "    arr_max = arr.max()\n",
        "    return (arr - arr_min) / (arr_max - arr_min)\n",
        "\n",
        "# To plot the RGB channels of the image\n",
        "def get_rgb(img, loader_image=False):\n",
        "    if loader_image:\n",
        "      img = np.rollaxis(img.to(device='cpu').detach().numpy(),0,3)\n",
        "    r = rescale(img[:,:,2])\n",
        "    g = rescale(img[:,:,1])\n",
        "    b = rescale(img[:,:,0])\n",
        "    rgb_uint8 = (np.dstack([r,g,b]) * 255.999) .astype(np.uint8)\n",
        "    return Image.fromarray(rgb_uint8, 'RGB')\n",
        "\n",
        "# Load the data and the target from numpy files\n",
        "def load_data():\n",
        "    dataset_rw = load_npy(train_dataset_path).astype('float32')\n",
        "    target_rw = load_npy(train_labels_path).astype('float32')\n",
        "    target_rw = np.rollaxis(target_rw,3,1)\n",
        "    target_rw = torch.from_numpy(target_rw)\n",
        "    return dataset_rw, target_rw\n",
        "\n",
        "def load_test_data():\n",
        "    test_dataset_rw = load_npy(test_dataset_path).astype('float32')\n",
        "    test_target_rw = load_npy(test_labels_path).astype('float32')\n",
        "    test_target_rw = np.rollaxis(test_target_rw,3,1)\n",
        "    test_target_rw = torch.from_numpy(test_target_rw)\n",
        "    return test_dataset_rw, test_target_rw\n",
        "\n",
        "# Get list of samples from the pytorch dataloader\n",
        "def get_loader_sample(idx, dataloader, batch_size = 1):\n",
        "  k = int(np.floor(idx/batch_size))\n",
        "  return next(itertools.islice(dataloader, k, None))"
      ],
      "metadata": {
        "id": "OOAFVQ73WF_y"
      },
      "execution_count": 4,
      "outputs": []
    },
    {
      "cell_type": "markdown",
      "source": [
        "# Hyper parameters"
      ],
      "metadata": {
        "id": "FSAKJuq9Dqk7"
      }
    },
    {
      "cell_type": "code",
      "source": [
        "lr = 0.0016\n",
        "num_epochs = 30\n",
        "device = \"cuda\" if torch.cuda.is_available() else \"cpu\"\n",
        "batch_size = 64 # 64, 32, 16\n",
        "num_workers = 2\n",
        "h = 256 \n",
        "w = 256  \n",
        "num_channels = 6\n",
        "num_classes = 19\n",
        "pin_memory = True\n",
        "load_model = False\n",
        "random_state=12"
      ],
      "metadata": {
        "id": "HYP489ycD1UL"
      },
      "execution_count": 5,
      "outputs": []
    },
    {
      "cell_type": "markdown",
      "source": [
        "# Dataset and Loaders"
      ],
      "metadata": {
        "id": "81BijhFsLLev"
      }
    },
    {
      "cell_type": "code",
      "source": [
        "X, y = load_data()\n",
        "X_train, X_val, y_train, y_val = train_test_split(X, y, test_size=0.2, random_state=random_state)\n",
        "dataset_len = {\n",
        "    'train': len(X_train),\n",
        "    'val': len(X_val)\n",
        "}"
      ],
      "metadata": {
        "id": "pj2muQnAdfGw"
      },
      "execution_count": 6,
      "outputs": []
    },
    {
      "cell_type": "code",
      "source": [
        "class RIT18Dataset(Dataset):\n",
        "    def __init__(self, data, target, transform=None):\n",
        "        self.data = data\n",
        "        self.target = target\n",
        "        self.transform = transform\n",
        "        \n",
        "    def __getitem__(self, index):\n",
        "        x = self.data[index]\n",
        "        y = self.target[index]\n",
        "        \n",
        "        if self.transform:\n",
        "            x = self.transform(x)\n",
        "            \n",
        "        return x, y\n",
        "    \n",
        "    def __len__(self):\n",
        "        return len(self.data)"
      ],
      "metadata": {
        "id": "sMIUBMSvdiWj"
      },
      "execution_count": 7,
      "outputs": []
    },
    {
      "cell_type": "code",
      "source": [
        "\n",
        "def get_loaders(X_train, y_train, X_val, y_val):\n",
        "    trans = transforms.Compose([\n",
        "    transforms.ToTensor(),\n",
        "    ])\n",
        "    train_ds = RIT18Dataset(X_train, y_train, trans)\n",
        "\n",
        "    train_loader =  DataLoader(\n",
        "        train_ds,\n",
        "        batch_size=batch_size,\n",
        "        num_workers=num_workers,\n",
        "        pin_memory=pin_memory,\n",
        "        drop_last=True,\n",
        "        shuffle=True,\n",
        "    )\n",
        "\n",
        "    val_ds = RIT18Dataset(X_val, y_val, trans)\n",
        "    val_loader =  DataLoader(\n",
        "        val_ds,\n",
        "        batch_size=batch_size,\n",
        "        num_workers=num_workers,\n",
        "        pin_memory=pin_memory,\n",
        "        drop_last=True,\n",
        "        shuffle=False,\n",
        "    )\n",
        "\n",
        "    del X_train, y_train, X_val, y_val\n",
        "    gc.collect()\n",
        "    return train_loader, val_loader\n",
        "\n",
        "\n",
        "def get_test_loader(X,y):\n",
        "    trans = transforms.Compose([\n",
        "    transforms.ToTensor(),\n",
        "\n",
        "    ])\n",
        "\n",
        "    test_ds = RIT18Dataset(X, y, trans)\n",
        "    test_loader =  DataLoader(\n",
        "        test_ds,\n",
        "        batch_size=batch_size,\n",
        "        num_workers=num_workers,\n",
        "        pin_memory=pin_memory,\n",
        "        shuffle=False,\n",
        "        drop_last=True, \n",
        "    )\n",
        "    del X, y\n",
        "    gc.collect()\n",
        "    return test_loader"
      ],
      "metadata": {
        "id": "HCKm41VHeaKt"
      },
      "execution_count": 8,
      "outputs": []
    },
    {
      "cell_type": "code",
      "source": [
        "train_loader, val_loader = get_loaders(X_train, y_train, X_val, y_val)"
      ],
      "metadata": {
        "id": "CjdP526FhyGe"
      },
      "execution_count": 9,
      "outputs": []
    },
    {
      "cell_type": "code",
      "source": [
        "del X, X_train, X_val, y, y_train, y_val\n",
        "gc.collect()\n",
        "X_test, y_test = load_test_data()\n",
        "dataset_len['test']=len(X_test)\n",
        "test_loader = get_test_loader(X_test, y_test)"
      ],
      "metadata": {
        "id": "YMQam5onjqSB"
      },
      "execution_count": 10,
      "outputs": []
    },
    {
      "cell_type": "markdown",
      "source": [
        "# LinkNet with ResNet Backbone"
      ],
      "metadata": {
        "id": "xNX7s2FXCBdC"
      }
    },
    {
      "cell_type": "code",
      "source": [
        "import torch\n",
        "import torch.nn as nn\n",
        "from torch.autograd import Variable\n",
        "from torchvision.models import resnet\n",
        "\n",
        "class BasicBlock(nn.Module):\n",
        "\n",
        "    def __init__(self, in_channels, out_channels, kernel_size, stride=1, padding=0, groups=1, bias=False):\n",
        "        super(BasicBlock, self).__init__()\n",
        "        self.conv1 = nn.Conv2d(in_channels, out_channels, kernel_size, stride, padding, groups=groups, bias=bias)\n",
        "        self.bn1 = nn.BatchNorm2d(out_channels)\n",
        "        self.relu = nn.ReLU(inplace=True)\n",
        "        self.conv2 = nn.Conv2d(out_channels, out_channels, kernel_size, 1, padding, groups=groups, bias=bias)\n",
        "        self.bn2 = nn.BatchNorm2d(out_channels)\n",
        "        self.downsample = None\n",
        "        if stride > 1:\n",
        "            self.downsample = nn.Sequential(nn.Conv2d(in_channels, out_channels, kernel_size=1, stride=stride, bias=False),\n",
        "                            nn.BatchNorm2d(out_channels),)\n",
        "\n",
        "    def forward(self, x):\n",
        "        residual = x\n",
        "\n",
        "        out = self.conv1(x)\n",
        "        out = self.bn1(out)\n",
        "        out = self.relu(out)\n",
        "\n",
        "        out = self.conv2(out)\n",
        "        out = self.bn2(out)\n",
        "\n",
        "        if self.downsample is not None:\n",
        "            residual = self.downsample(x)\n",
        "\n",
        "        out += residual\n",
        "        out = self.relu(out)\n",
        "\n",
        "        return out\n",
        "\n",
        "\n",
        "class Encoder(nn.Module):\n",
        "\n",
        "    def __init__(self, in_channels, out_channels, kernel_size, stride=1, padding=0, groups=1, bias=False):\n",
        "        super(Encoder, self).__init__()\n",
        "        self.block1 = BasicBlock(in_channels, out_channels, kernel_size, stride, padding, groups, bias)\n",
        "        self.block2 = BasicBlock(out_channels, out_channels, kernel_size, 1, padding, groups, bias)\n",
        "\n",
        "    def forward(self, x):\n",
        "        x = self.block1(x)\n",
        "        x = self.block2(x)\n",
        "\n",
        "        return x\n",
        "\n",
        "\n",
        "class Decoder(nn.Module):\n",
        "\n",
        "    def __init__(self, in_channels, out_channels, kernel_size, stride=1, padding=0, output_padding=0, groups=1, bias=False):\n",
        "        super(Decoder, self).__init__()\n",
        "        self.conv1 = nn.Sequential(nn.Conv2d(in_channels, in_channels//4, 1, 1, 0, bias=bias),\n",
        "                                nn.BatchNorm2d(in_channels//4),\n",
        "                                nn.ReLU(inplace=True),)\n",
        "        self.tp_conv = nn.Sequential(nn.ConvTranspose2d(in_channels//4, in_channels//4, kernel_size, stride, padding, output_padding, bias=bias),\n",
        "                                nn.BatchNorm2d(in_channels//4),\n",
        "                                nn.ReLU(inplace=True),)\n",
        "        self.conv2 = nn.Sequential(nn.Conv2d(in_channels//4, out_channels, 1, 1, 0, bias=bias),\n",
        "                                nn.BatchNorm2d(out_channels),\n",
        "                                nn.ReLU(inplace=True),)\n",
        "\n",
        "    def forward(self, x):\n",
        "        x = self.conv1(x)\n",
        "        x = self.tp_conv(x)\n",
        "        x = self.conv2(x)\n",
        "\n",
        "        return x"
      ],
      "metadata": {
        "id": "4SVGJ_HvjBQr"
      },
      "execution_count": 11,
      "outputs": []
    },
    {
      "cell_type": "code",
      "source": [
        "class LinkResNet(nn.Module):\n",
        "    def __init__(self,n_channels=6, n_classes=19):\n",
        "        super(LinkResNet, self).__init__()\n",
        "\n",
        "        base = resnet.resnet18(pretrained=True)\n",
        "\n",
        "        self.in_block = nn.Sequential(\n",
        "            nn.Conv2d(n_channels, 64, kernel_size=7, stride=2, padding=3,bias=False),\n",
        "            base.bn1,\n",
        "            base.relu,\n",
        "            base.maxpool\n",
        "        )\n",
        "\n",
        "        self.encoder1 = base.layer1\n",
        "        self.encoder2 = base.layer2\n",
        "        self.encoder3 = base.layer3\n",
        "        self.encoder4 = base.layer4\n",
        "\n",
        "        self.decoder1 = Decoder(64, 64, 3, 1, 1, 0)\n",
        "        self.decoder2 = Decoder(128, 64, 3, 2, 1, 1)\n",
        "        self.decoder3 = Decoder(256, 128, 3, 2, 1, 1)\n",
        "        self.decoder4 = Decoder(512, 256, 3, 2, 1, 1)\n",
        "\n",
        "        # Classifier\n",
        "        self.tp_conv1 = nn.Sequential(nn.ConvTranspose2d(64, 32, 3, 2, 1, 1),\n",
        "                                      nn.BatchNorm2d(32),\n",
        "                                      nn.ReLU(inplace=True),)\n",
        "        self.conv2 = nn.Sequential(nn.Conv2d(32, 32, 3, 1, 1),\n",
        "                                nn.BatchNorm2d(32),\n",
        "                                nn.ReLU(inplace=True),)\n",
        "        self.tp_conv2 = nn.ConvTranspose2d(32, n_classes, 2, 2, 0)\n",
        "\n",
        "    def forward(self, x):\n",
        "        # Initial block\n",
        "        x = self.in_block(x)\n",
        "\n",
        "        # Encoder blocks\n",
        "        e1 = self.encoder1(x)\n",
        "        e2 = self.encoder2(e1)\n",
        "        e3 = self.encoder3(e2)\n",
        "        e4 = self.encoder4(e3)\n",
        "\n",
        "        # Decoder blocks\n",
        "        d4 = e3 + self.decoder4(e4)\n",
        "        d3 = e2 + self.decoder3(d4)\n",
        "        d2 = e1 + self.decoder2(d3)\n",
        "        d1 = x + self.decoder1(d2)\n",
        "\n",
        "        # Classifier\n",
        "        y = self.tp_conv1(d1)\n",
        "        y = self.conv2(y)\n",
        "        y = self.tp_conv2(y)\n",
        "\n",
        "        return y"
      ],
      "metadata": {
        "id": "DoVXfApKB-8K"
      },
      "execution_count": 12,
      "outputs": []
    },
    {
      "cell_type": "markdown",
      "source": [
        "# Training"
      ],
      "metadata": {
        "id": "sopnlgBoEju8"
      }
    },
    {
      "cell_type": "markdown",
      "source": [
        "## Train Functions"
      ],
      "metadata": {
        "id": "k79WEMkVjpnq"
      }
    },
    {
      "cell_type": "code",
      "source": [
        "def save_checkpoint(state, filename):\n",
        "    print(\"=> Saving checkpoint\")\n",
        "    torch.save(state, filename)\n",
        "\n",
        "def load_checkpoint(path, model):\n",
        "    checkpoint = torch.load(path)\n",
        "    print(\"=> Loading checkpoint\")\n",
        "    model.load_state_dict(checkpoint[\"state_dict\"])\n",
        "\n",
        "def print_acc(tr_acc,v_acc):\n",
        "  print(f'idx\\tClasses\\t\\ttrain\\tval')\n",
        "  for i,(x,y) in enumerate(zip(tr_acc,v_acc)):\n",
        "    if i == 0:continue\n",
        "    print(f'{i+1}\\t{classes[i]} {x:.4f}\\t{y:.4f}')\n",
        "  print(f'Average: {tr_acc.mean():.4f},{v_acc.mean():.4f}')\n",
        "\n",
        "def print_single_acc(acc):\n",
        "  print(f'idx\\tClasses\\t\\tAccuarcy')\n",
        "  for i,x in enumerate(acc):\n",
        "    if i == 0:continue\n",
        "    print(f'{i+1}\\t{classes[i]} {x:.4f}')\n",
        "  print(f'Average: {acc.mean():.4f}')\n",
        "\n",
        "import torchmetrics\n",
        "def check_accuracy(loader, model, device=\"cuda\", check_type='val'):\n",
        "    \n",
        "    model.eval()\n",
        "    accuracy = {};\n",
        "    acc_per_class = np.zeros(num_classes)\n",
        "    for i in range(0,num_classes):\n",
        "      accuracy[i] = torchmetrics.Accuracy(ignore_index=0)\n",
        "\n",
        "    with torch.no_grad():\n",
        "        for x, y in loader:\n",
        "            x = x.to(device)\n",
        "            preds = nn.Softmax(dim=1)(model(x))\n",
        "            preds = (preds > 0.5).float()\n",
        "            preds = preds.cpu()\n",
        "            for j in range(preds.shape[1]):\n",
        "              for i in range(preds.shape[0]):\n",
        "                 a1 = preds[i][j].flatten().to(torch.long)\n",
        "                 a2 = y[i][j].flatten().to(torch.long)\n",
        "                 accuracy[j](a1,a2)\n",
        "    for i in range(1,num_classes):\n",
        "        acc = accuracy[i].compute()\n",
        "        acc_per_class[i] = acc\n",
        "\n",
        "    model.train()\n",
        "    return acc_per_class\n",
        "\n",
        "def train_model(loader, model, optimizer, loss_fn, scaler, phase='train'):\n",
        "    running_loss = 0.0\n",
        "    for batch_idx, (data, targets) in enumerate(loader):\n",
        "        data = data.to(device=device)\n",
        "        targets = targets.float().to(device=device)\n",
        "\n",
        "        optimizer.zero_grad()\n",
        "        # forward\n",
        "        with torch.set_grad_enabled(phase == 'train'):\n",
        "            with torch.cuda.amp.autocast():\n",
        "                predictions = model(data)\n",
        "                loss = loss_fn(predictions, targets)\n",
        "\n",
        "            if phase == 'train':\n",
        "                scaler.scale(loss).backward()\n",
        "                scaler.step(optimizer)\n",
        "                scaler.update()\n",
        "        # statistics\n",
        "        running_loss += loss.item() * data.size(0)\n",
        "\n",
        "    return running_loss /dataset_len[phase]\n",
        "\n",
        "def train(path2save,loader, model, optimizer, loss_fn, scaler):\n",
        "    loss_values = {\n",
        "        'train': [],\n",
        "        'val': []\n",
        "    }\n",
        "    accuarcy_values = {\n",
        "        'train':[],\n",
        "        'val': []\n",
        "    }\n",
        "    # To save the best model\n",
        "    best_accuracy = 0\n",
        "\n",
        "    # For Early Stopping\n",
        "    last_loss = None\n",
        "    patience = 2\n",
        "    triggertimes = 0\n",
        "    \n",
        "    for epoch in range(num_epochs):\n",
        "        \n",
        "        model.train()\n",
        "        train_loss = train_model(loader['train'], model, optimizer, loss_fn, scaler, phase='train')\n",
        "        loss_values['train'].append(train_loss)\n",
        "        model.eval()\n",
        "        val_loss = train_model(loader['val'], model, optimizer, loss_fn, scaler, phase='val')\n",
        "        loss_values['val'].append(val_loss)\n",
        "        checkpoint = {\n",
        "                \"state_dict\": model.state_dict(),\n",
        "                \"optimizer\":optimizer.state_dict(),\n",
        "            }\n",
        "\n",
        "        print(f'Epoch {epoch}: Train Loss: {train_loss:.2f}, Val loss: {val_loss:.2f}')\n",
        "       \n",
        "    return loss_values, accuarcy_values"
      ],
      "metadata": {
        "id": "UO7TfnO2qGll"
      },
      "execution_count": 13,
      "outputs": []
    },
    {
      "cell_type": "code",
      "source": [
        "def get_link_resnet_model(freeze=False):\n",
        "  model = LinkResNet(num_channels,num_classes)\n",
        "  model = model.to(device)\n",
        "  if freeze:\n",
        "    for l in [model.in_block,model.encoder1, model.encoder2, model.encoder3, model.encoder4]:\n",
        "      for param in l.parameters():\n",
        "        param.requires_grad = False\n",
        "  return model"
      ],
      "metadata": {
        "id": "uVmQUuk9PObt"
      },
      "execution_count": 14,
      "outputs": []
    },
    {
      "cell_type": "code",
      "source": [
        "models = {\n",
        "    'link_res':{\n",
        "        'model': get_link_resnet_model(),\n",
        "        'path': folder_path + 'models/linknet_resnet_with_cel_check_points.pt'\n",
        "    }\n",
        "}\n",
        "loss_values = {}\n",
        "accuracy_values = {}"
      ],
      "metadata": {
        "id": "TCQE0NigO-jx"
      },
      "execution_count": 15,
      "outputs": []
    },
    {
      "cell_type": "markdown",
      "source": [
        "## Train LinkNet"
      ],
      "metadata": {
        "id": "hSCpiLTVMkSZ"
      }
    },
    {
      "cell_type": "markdown",
      "source": [
        "#### Load or Create the model"
      ],
      "metadata": {
        "id": "C9s1jq-TMolC"
      }
    },
    {
      "cell_type": "code",
      "source": [
        "model_name = 'link_res'"
      ],
      "metadata": {
        "id": "6d2JEIqrOi33"
      },
      "execution_count": null,
      "outputs": []
    },
    {
      "cell_type": "markdown",
      "source": [
        "#### Set Optimiazers and Train function"
      ],
      "metadata": {
        "id": "hO-Wb86ZM6oV"
      }
    },
    {
      "cell_type": "code",
      "source": [
        "model_name = 'link_res'\n",
        "optimizer = optim.Adam(filter(lambda p: p.requires_grad, models[model_name]['model'].parameters()), lr=lr)\n",
        "loss_fn = nn.CrossEntropyLoss()\n",
        "scaler = torch.cuda.amp.GradScaler()\n",
        "loss_values[model_name],accuracy_values[model_name] = train( models[model_name]['path'], {'train':train_loader,'val':val_loader}, models[model_name]['model'], optimizer, loss_fn,scaler)\n",
        "plt.plot(loss_values[model_name]['train'], label = \"train loss\")\n",
        "plt.plot(loss_values[model_name]['val'], label = \"val loss\")\n",
        "plt.legend()\n",
        "plt.show()"
      ],
      "metadata": {
        "colab": {
          "base_uri": "https://localhost:8080/",
          "height": 786
        },
        "id": "9ePA71BeVAD4",
        "outputId": "ff79ab96-fd03-4bbf-c859-0c0f08caf57f"
      },
      "execution_count": null,
      "outputs": [
        {
          "output_type": "stream",
          "name": "stdout",
          "text": [
            "Epoch 0: Train Loss: 2.27, Val loss: 2.20\n",
            "Epoch 1: Train Loss: 1.61, Val loss: 2.05\n",
            "Epoch 2: Train Loss: 1.38, Val loss: 1.81\n",
            "Epoch 3: Train Loss: 1.27, Val loss: 1.13\n",
            "Epoch 4: Train Loss: 1.20, Val loss: 1.31\n",
            "Epoch 5: Train Loss: 1.16, Val loss: 1.68\n",
            "Epoch 6: Train Loss: 1.12, Val loss: 1.06\n",
            "Epoch 7: Train Loss: 1.11, Val loss: 1.24\n",
            "Epoch 8: Train Loss: 1.03, Val loss: 1.19\n",
            "Epoch 9: Train Loss: 1.02, Val loss: 1.02\n",
            "Epoch 10: Train Loss: 0.99, Val loss: 1.03\n",
            "Epoch 11: Train Loss: 0.97, Val loss: 0.93\n",
            "Epoch 12: Train Loss: 0.95, Val loss: 1.41\n",
            "Epoch 13: Train Loss: 0.97, Val loss: 0.85\n",
            "Epoch 14: Train Loss: 0.98, Val loss: 0.81\n",
            "Epoch 15: Train Loss: 0.91, Val loss: 0.81\n",
            "Epoch 16: Train Loss: 0.90, Val loss: 1.32\n",
            "Epoch 17: Train Loss: 0.86, Val loss: 0.78\n",
            "Epoch 18: Train Loss: 0.92, Val loss: 0.92\n",
            "Epoch 19: Train Loss: 0.90, Val loss: 0.88\n",
            "Epoch 20: Train Loss: 0.86, Val loss: 0.88\n",
            "Epoch 21: Train Loss: 0.81, Val loss: 0.74\n",
            "Epoch 22: Train Loss: 0.90, Val loss: 0.76\n",
            "Epoch 23: Train Loss: 0.86, Val loss: 1.15\n",
            "Epoch 24: Train Loss: 0.76, Val loss: 0.75\n",
            "Epoch 25: Train Loss: 0.76, Val loss: 0.96\n",
            "Epoch 26: Train Loss: 0.72, Val loss: 0.69\n",
            "Epoch 27: Train Loss: 0.76, Val loss: 1.60\n",
            "Epoch 28: Train Loss: 0.77, Val loss: 0.61\n",
            "Epoch 29: Train Loss: 0.71, Val loss: 0.73\n"
          ]
        },
        {
          "output_type": "display_data",
          "data": {
            "text/plain": [
              "<Figure size 432x288 with 1 Axes>"
            ],
            "image/png": "[encoded data removed]"
          },
          "metadata": {
            "needs_background": "light"
          }
        }
      ]
    },
    {
      "cell_type": "markdown",
      "source": [
        "### Check Accuarcy"
      ],
      "metadata": {
        "id": "0Qmt0IJFVLQf"
      }
    },
    {
      "cell_type": "code",
      "source": [
        "train_acc = check_accuracy(train_loader, models[model_name]['model'], device=\"cuda\", check_type='train')"
      ],
      "metadata": {
        "id": "8x4aJ1NhVKgF"
      },
      "execution_count": null,
      "outputs": []
    },
    {
      "cell_type": "code",
      "source": [
        "val_acc = check_accuracy(val_loader, models[model_name]['model'], device=\"cuda\", check_type='val')"
      ],
      "metadata": {
        "id": "RJZ8N_feVPkz"
      },
      "execution_count": null,
      "outputs": []
    },
    {
      "cell_type": "code",
      "source": [
        "print_acc(train_acc,val_acc)"
      ],
      "metadata": {
        "colab": {
          "base_uri": "https://localhost:8080/"
        },
        "id": "To8ZdoDDpwSF",
        "outputId": "37b640cb-5067-4490-e0fa-862820160062"
      },
      "execution_count": null,
      "outputs": [
        {
          "output_type": "stream",
          "name": "stdout",
          "text": [
            "idx\tClasses\t\ttrain\tval\n",
            "2\tRoadMarkings 0.0000\t0.0000\n",
            "3\tTree 0.7104\t0.6722\n",
            "4\tBuilding 0.0000\t0.0000\n",
            "5\tVehicle 0.0000\t0.0000\n",
            "6\tPerson 0.0000\t0.0000\n",
            "7\tLifeguardChair 0.0000\t0.0000\n",
            "8\tPicnicTable 0.0000\t0.0000\n",
            "9\tBlackWoodPanel 0.0000\t0.0000\n",
            "10\tWhiteWoodPanel 0.0000\t0.0000\n",
            "11\tOrangeLandingPad 0.0000\t0.0000\n",
            "12\tBuoy 0.0000\t0.0000\n",
            "13\tRocks 0.0000\t0.0000\n",
            "14\tLowLevelVegetation 0.0000\t0.0000\n",
            "15\tGrass_Lawn 0.8776\t0.8261\n",
            "16\tSand_Beach 0.1461\t0.1526\n",
            "17\tWater_Lake 0.8769\t0.8609\n",
            "18\tWater_Pond 0.0000\t0.0000\n",
            "19\tAsphalt 0.1318\t0.2119\n",
            "Average: 0.1444,0.1434\n"
          ]
        }
      ]
    },
    {
      "cell_type": "markdown",
      "source": [
        "## Train LinkNet **2**"
      ],
      "metadata": {
        "id": "0OLQE32jiDXs"
      }
    },
    {
      "cell_type": "code",
      "source": [
        "lr = 1e-4"
      ],
      "metadata": {
        "id": "tOcl6H4KiDXv"
      },
      "execution_count": null,
      "outputs": []
    },
    {
      "cell_type": "markdown",
      "source": [
        "#### Load or Create the model"
      ],
      "metadata": {
        "id": "ZcHSooWsiDXw"
      }
    },
    {
      "cell_type": "code",
      "source": [
        "model_name = 'link_res_lr2'\n",
        "models[model_name] = {\n",
        "        'model': get_link_resnet_model(),\n",
        "        'path': f\"{folder_path}models/{model_name}_check_points.pt\"}"
      ],
      "metadata": {
        "id": "Hes-lz1FiMTz"
      },
      "execution_count": null,
      "outputs": []
    },
    {
      "cell_type": "markdown",
      "source": [
        "#### Set Optimiazers and Train function"
      ],
      "metadata": {
        "id": "6208RpydiDXy"
      }
    },
    {
      "cell_type": "code",
      "source": [
        "optimizer = optim.Adam(filter(lambda p: p.requires_grad, models[model_name]['model'].parameters()), lr=lr)\n",
        "loss_fn = nn.CrossEntropyLoss()\n",
        "scaler = torch.cuda.amp.GradScaler()\n",
        "loss_values[model_name],accuracy_values[model_name] = train( models[model_name]['path'], {'train':train_loader,'val':val_loader}, models[model_name]['model'], optimizer, loss_fn,scaler)\n",
        "plt.plot(loss_values[model_name]['train'], label = \"train loss\")\n",
        "plt.plot(loss_values[model_name]['val'], label = \"val loss\")\n",
        "plt.legend()\n",
        "plt.show()"
      ],
      "metadata": {
        "colab": {
          "base_uri": "https://localhost:8080/",
          "height": 575
        },
        "outputId": "2c59a689-eb38-432c-922f-46fd5a84e4f4",
        "id": "P1pkEUwqiDXy"
      },
      "execution_count": null,
      "outputs": [
        {
          "output_type": "stream",
          "name": "stdout",
          "text": [
            "Epoch 0: Train Loss: 2.84, Val loss: 2.66\n",
            "Epoch 1: Train Loss: 2.67, Val loss: 2.63\n",
            "Epoch 2: Train Loss: 2.55, Val loss: 2.47\n",
            "Epoch 3: Train Loss: 2.47, Val loss: 2.16\n",
            "Epoch 4: Train Loss: 2.36, Val loss: 2.02\n",
            "Epoch 5: Train Loss: 2.27, Val loss: 1.92\n",
            "Epoch 6: Train Loss: 2.19, Val loss: 1.91\n",
            "Epoch 7: Train Loss: 2.10, Val loss: 1.82\n",
            "Epoch 8: Train Loss: 2.03, Val loss: 1.89\n",
            "Epoch 9: Train Loss: 1.96, Val loss: 1.62\n",
            "Epoch 10: Train Loss: 1.88, Val loss: 1.66\n",
            "Epoch 11: Train Loss: 1.84, Val loss: 1.53\n",
            "Epoch 12: Train Loss: 1.76, Val loss: 1.49\n",
            "Epoch 13: Train Loss: 1.74, Val loss: 1.46\n",
            "Epoch 14: Train Loss: 1.65, Val loss: 1.41\n",
            "Epoch 15: Train Loss: 1.60, Val loss: 1.39\n",
            "Epoch 16: Train Loss: 1.54, Val loss: 1.32\n",
            "Epoch 17: Train Loss: 1.48, Val loss: 1.38\n",
            "Epoch 18: Train Loss: 1.45, Val loss: 1.30\n",
            "Epoch 19: Train Loss: 1.42, Val loss: 1.23\n",
            "Epoch 20: Train Loss: 1.36, Val loss: 1.16\n",
            "Epoch 21: Train Loss: 1.32, Val loss: 1.21\n",
            "Epoch 22: Train Loss: 1.26, Val loss: 1.11\n",
            "Epoch 23: Train Loss: 1.24, Val loss: 1.10\n",
            "Epoch 24: Train Loss: 1.20, Val loss: 1.05\n",
            "Epoch 25: Train Loss: 1.14, Val loss: 1.04\n",
            "Epoch 26: Train Loss: 1.12, Val loss: 1.02\n",
            "Epoch 27: Train Loss: 1.11, Val loss: 0.95\n",
            "Epoch 28: Train Loss: 1.06, Val loss: 0.93\n",
            "Epoch 29: Train Loss: 1.03, Val loss: 1.40\n"
          ]
        },
        {
          "output_type": "display_data",
          "data": {
            "text/plain": [
              "<Figure size 432x288 with 1 Axes>"
            ],
            "image/png": "[encoded data removed]"
          },
          "metadata": {
            "needs_background": "light"
          }
        }
      ]
    },
    {
      "cell_type": "markdown",
      "source": [
        "### Check Accuarcy"
      ],
      "metadata": {
        "id": "9YxoFTn7iDXz"
      }
    },
    {
      "cell_type": "code",
      "source": [
        "train_acc_2 = check_accuracy(train_loader, models[model_name]['model'], device=\"cuda\", check_type='train')"
      ],
      "metadata": {
        "id": "0M2_4pI8iDX0"
      },
      "execution_count": null,
      "outputs": []
    },
    {
      "cell_type": "code",
      "source": [
        "val_acc_2 = check_accuracy(val_loader, models[model_name]['model'], device=\"cuda\", check_type='val')"
      ],
      "metadata": {
        "id": "XgBh5k5PiDX1"
      },
      "execution_count": null,
      "outputs": []
    },
    {
      "cell_type": "code",
      "source": [
        "print_acc(train_acc_2, val_acc_2)"
      ],
      "metadata": {
        "colab": {
          "base_uri": "https://localhost:8080/"
        },
        "id": "tUnoYbpCiDX4",
        "outputId": "215a1c5e-f5bd-4fea-c953-3c429508c92a"
      },
      "execution_count": null,
      "outputs": [
        {
          "output_type": "stream",
          "name": "stdout",
          "text": [
            "idx\tClasses\t\ttrain\tval\n",
            "2\tRoadMarkings 0.0000\t0.0000\n",
            "3\tTree 0.5499\t0.4963\n",
            "4\tBuilding 0.0000\t0.0000\n",
            "5\tVehicle 0.0000\t0.0000\n",
            "6\tPerson 0.0000\t0.0000\n",
            "7\tLifeguardChair 0.0000\t0.0000\n",
            "8\tPicnicTable 0.0000\t0.0000\n",
            "9\tBlackWoodPanel 0.0000\t0.0000\n",
            "10\tWhiteWoodPanel 0.0000\t0.0000\n",
            "11\tOrangeLandingPad 0.0000\t0.0000\n",
            "12\tBuoy 0.0000\t0.0000\n",
            "13\tRocks 0.0000\t0.0000\n",
            "14\tLowLevelVegetation 0.0000\t0.0000\n",
            "15\tGrass_Lawn 0.9580\t0.9274\n",
            "16\tSand_Beach 0.0000\t0.0000\n",
            "17\tWater_Lake 0.0000\t0.0000\n",
            "18\tWater_Pond 0.0000\t0.0000\n",
            "19\tAsphalt 0.0000\t0.0000\n",
            "Average: 0.0794,0.0749\n"
          ]
        }
      ]
    },
    {
      "cell_type": "markdown",
      "source": [
        "## Train LinkNet 3"
      ],
      "metadata": {
        "id": "Lyi5eeMZsmLF"
      }
    },
    {
      "cell_type": "code",
      "source": [
        "lr = 1e-2"
      ],
      "metadata": {
        "id": "37O8kj1OsmLH"
      },
      "execution_count": null,
      "outputs": []
    },
    {
      "cell_type": "markdown",
      "source": [
        "#### Load or Create the model"
      ],
      "metadata": {
        "id": "M-Dr3qtHsmLI"
      }
    },
    {
      "cell_type": "code",
      "source": [
        "model_name = 'link_res_lr3'\n",
        "models[model_name] = {\n",
        "        'model': get_link_resnet_model(),\n",
        "        'path': f\"{folder_path}models/{model_name}_check_points.pt\"}"
      ],
      "metadata": {
        "id": "Ur_sQlIJsmLI"
      },
      "execution_count": null,
      "outputs": []
    },
    {
      "cell_type": "markdown",
      "source": [
        "#### Set Optimiazers and Train function"
      ],
      "metadata": {
        "id": "zAxMkANTsmLJ"
      }
    },
    {
      "cell_type": "code",
      "source": [
        "optimizer = optim.Adam(filter(lambda p: p.requires_grad, models[model_name]['model'].parameters()), lr=lr)\n",
        "loss_fn = nn.CrossEntropyLoss()\n",
        "scaler = torch.cuda.amp.GradScaler()\n",
        "loss_values[model_name],accuracy_values[model_name] = train( models[model_name]['path'], {'train':train_loader,'val':val_loader}, models[model_name]['model'], optimizer, loss_fn,scaler)\n",
        "plt.plot(loss_values[model_name]['train'], label = \"train loss\")\n",
        "plt.plot(loss_values[model_name]['val'], label = \"val loss\")\n",
        "plt.legend()\n",
        "plt.show()"
      ],
      "metadata": {
        "colab": {
          "base_uri": "https://localhost:8080/",
          "height": 786
        },
        "outputId": "b008faba-d007-45d6-f973-5113f685ea5d",
        "id": "3YjdirV1smLK"
      },
      "execution_count": null,
      "outputs": [
        {
          "output_type": "stream",
          "name": "stdout",
          "text": [
            "Epoch 0: Train Loss: 1.74, Val loss: 10.01\n",
            "Epoch 1: Train Loss: 1.39, Val loss: 2.40\n",
            "Epoch 2: Train Loss: 1.26, Val loss: 1.07\n",
            "Epoch 3: Train Loss: 1.23, Val loss: 1.38\n",
            "Epoch 4: Train Loss: 1.21, Val loss: 1.02\n",
            "Epoch 5: Train Loss: 1.18, Val loss: 1.16\n",
            "Epoch 6: Train Loss: 1.17, Val loss: 1.01\n",
            "Epoch 7: Train Loss: 1.14, Val loss: 1.03\n",
            "Epoch 8: Train Loss: 1.06, Val loss: 0.88\n",
            "Epoch 9: Train Loss: 1.04, Val loss: 0.91\n",
            "Epoch 10: Train Loss: 1.00, Val loss: 1.18\n",
            "Epoch 11: Train Loss: 1.01, Val loss: 1.22\n",
            "Epoch 12: Train Loss: 1.05, Val loss: 1.52\n",
            "Epoch 13: Train Loss: 0.99, Val loss: 0.95\n",
            "Epoch 14: Train Loss: 0.98, Val loss: 0.92\n",
            "Epoch 15: Train Loss: 0.96, Val loss: 0.91\n",
            "Epoch 16: Train Loss: 0.92, Val loss: 0.77\n",
            "Epoch 17: Train Loss: 0.92, Val loss: 1.30\n",
            "Epoch 18: Train Loss: 0.92, Val loss: 0.76\n",
            "Epoch 19: Train Loss: 0.89, Val loss: 0.82\n",
            "Epoch 20: Train Loss: 0.85, Val loss: 1.40\n",
            "Epoch 21: Train Loss: 0.86, Val loss: 0.70\n",
            "Epoch 22: Train Loss: 0.84, Val loss: 0.98\n",
            "Epoch 23: Train Loss: 0.87, Val loss: 0.71\n",
            "Epoch 24: Train Loss: 0.84, Val loss: 0.73\n",
            "Epoch 25: Train Loss: 0.85, Val loss: 0.83\n",
            "Epoch 26: Train Loss: 0.84, Val loss: 0.81\n",
            "Epoch 27: Train Loss: 0.80, Val loss: 0.74\n",
            "Epoch 28: Train Loss: 0.76, Val loss: 0.71\n",
            "Epoch 29: Train Loss: 0.74, Val loss: 1.33\n"
          ]
        },
        {
          "output_type": "display_data",
          "data": {
            "text/plain": [
              "<Figure size 432x288 with 1 Axes>"
            ],
            "image/png": "[encoded data removed]"
          },
          "metadata": {
            "needs_background": "light"
          }
        }
      ]
    },
    {
      "cell_type": "markdown",
      "source": [
        "### Check Accuarcy"
      ],
      "metadata": {
        "id": "Pw_tfG5vsmLL"
      }
    },
    {
      "cell_type": "code",
      "source": [
        "train_acc_3 = check_accuracy(train_loader, models[model_name]['model'], device=\"cuda\", check_type='train')"
      ],
      "metadata": {
        "id": "hbyCQJopsmLM"
      },
      "execution_count": null,
      "outputs": []
    },
    {
      "cell_type": "code",
      "source": [
        "val_acc_3 = check_accuracy(val_loader, models[model_name]['model'], device=\"cuda\", check_type='val')"
      ],
      "metadata": {
        "id": "dq5XN0KOsmLM"
      },
      "execution_count": null,
      "outputs": []
    },
    {
      "cell_type": "code",
      "source": [
        "print_acc(train_acc_3, val_acc_3)"
      ],
      "metadata": {
        "colab": {
          "base_uri": "https://localhost:8080/"
        },
        "outputId": "c576c85d-3fe4-4ab6-b43e-813d104d26f7",
        "id": "T-T3KzVcsmLO"
      },
      "execution_count": null,
      "outputs": [
        {
          "output_type": "stream",
          "name": "stdout",
          "text": [
            "idx\tClasses\t\ttrain\tval\n",
            "2\tRoadMarkings 0.0000\t0.0000\n",
            "3\tTree 0.9169\t0.9089\n",
            "4\tBuilding 0.0000\t0.0000\n",
            "5\tVehicle 0.0000\t0.0000\n",
            "6\tPerson 0.0000\t0.0000\n",
            "7\tLifeguardChair 0.0000\t0.0000\n",
            "8\tPicnicTable 0.0000\t0.0000\n",
            "9\tBlackWoodPanel 0.0000\t0.0000\n",
            "10\tWhiteWoodPanel 0.0000\t0.0000\n",
            "11\tOrangeLandingPad 0.0000\t0.0000\n",
            "12\tBuoy 0.0000\t0.0000\n",
            "13\tRocks 0.0708\t0.0770\n",
            "14\tLowLevelVegetation 0.0000\t0.0000\n",
            "15\tGrass_Lawn 0.7534\t0.7816\n",
            "16\tSand_Beach 0.2633\t0.1682\n",
            "17\tWater_Lake 0.5343\t0.5657\n",
            "18\tWater_Pond 0.0012\t0.0000\n",
            "19\tAsphalt 0.1340\t0.1976\n",
            "Average: 0.1407,0.1420\n"
          ]
        }
      ]
    },
    {
      "cell_type": "markdown",
      "source": [
        "## Train LinkNet 4"
      ],
      "metadata": {
        "id": "8bfue_Wq2wdF"
      }
    },
    {
      "cell_type": "code",
      "source": [
        "lr = 1e-4\n",
        "num_epochs = 50"
      ],
      "metadata": {
        "id": "Aacyx7r72wdH"
      },
      "execution_count": null,
      "outputs": []
    },
    {
      "cell_type": "markdown",
      "source": [
        "#### Load or Create the model"
      ],
      "metadata": {
        "id": "e3Win9JP2wdJ"
      }
    },
    {
      "cell_type": "code",
      "source": [
        "model_name = 'link_res_lr4'\n",
        "models[model_name] = {\n",
        "        'model': get_link_resnet_model(),\n",
        "        'path': f\"{folder_path}models/{model_name}_check_points.pt\"}"
      ],
      "metadata": {
        "id": "h1SRYmzr2wdK"
      },
      "execution_count": null,
      "outputs": []
    },
    {
      "cell_type": "markdown",
      "source": [
        "#### Set Optimiazers and Train function"
      ],
      "metadata": {
        "id": "VRrcjuMs2wdM"
      }
    },
    {
      "cell_type": "code",
      "source": [
        "optimizer = optim.Adam(filter(lambda p: p.requires_grad, models[model_name]['model'].parameters()), lr=lr)\n",
        "loss_fn = nn.CrossEntropyLoss()\n",
        "scaler = torch.cuda.amp.GradScaler()\n",
        "loss_values[model_name],accuracy_values[model_name] = train( models[model_name]['path'], {'train':train_loader,'val':val_loader}, models[model_name]['model'], optimizer, loss_fn,scaler)\n",
        "plt.plot(loss_values[model_name]['train'], label = \"train loss\")\n",
        "plt.plot(loss_values[model_name]['val'], label = \"val loss\")\n",
        "plt.legend()\n",
        "plt.show()"
      ],
      "metadata": {
        "colab": {
          "base_uri": "https://localhost:8080/",
          "height": 1000
        },
        "outputId": "f9bd3dc6-36b4-412a-d1fe-faa5b4bf7b12",
        "id": "kc0pGeHk2wdM"
      },
      "execution_count": null,
      "outputs": [
        {
          "output_type": "stream",
          "name": "stdout",
          "text": [
            "Epoch 0: Train Loss: 2.85, Val loss: 2.66\n",
            "Epoch 1: Train Loss: 2.70, Val loss: 2.63\n",
            "Epoch 2: Train Loss: 2.58, Val loss: 2.57\n",
            "Epoch 3: Train Loss: 2.49, Val loss: 2.18\n",
            "Epoch 4: Train Loss: 2.37, Val loss: 2.04\n",
            "Epoch 5: Train Loss: 2.29, Val loss: 2.00\n",
            "Epoch 6: Train Loss: 2.18, Val loss: 1.88\n",
            "Epoch 7: Train Loss: 2.11, Val loss: 1.96\n",
            "Epoch 8: Train Loss: 2.01, Val loss: 1.84\n",
            "Epoch 9: Train Loss: 1.95, Val loss: 1.55\n",
            "Epoch 10: Train Loss: 1.90, Val loss: 1.58\n",
            "Epoch 11: Train Loss: 1.80, Val loss: 1.55\n",
            "Epoch 12: Train Loss: 1.74, Val loss: 1.48\n",
            "Epoch 13: Train Loss: 1.68, Val loss: 1.40\n",
            "Epoch 14: Train Loss: 1.61, Val loss: 1.39\n",
            "Epoch 15: Train Loss: 1.55, Val loss: 1.82\n",
            "Epoch 16: Train Loss: 1.51, Val loss: 1.35\n",
            "Epoch 17: Train Loss: 1.46, Val loss: 1.22\n",
            "Epoch 18: Train Loss: 1.40, Val loss: 1.15\n",
            "Epoch 19: Train Loss: 1.37, Val loss: 1.24\n",
            "Epoch 20: Train Loss: 1.32, Val loss: 1.12\n",
            "Epoch 21: Train Loss: 1.30, Val loss: 1.08\n",
            "Epoch 22: Train Loss: 1.24, Val loss: 1.07\n",
            "Epoch 23: Train Loss: 1.21, Val loss: 0.99\n",
            "Epoch 24: Train Loss: 1.15, Val loss: 1.07\n",
            "Epoch 25: Train Loss: 1.13, Val loss: 1.13\n",
            "Epoch 26: Train Loss: 1.08, Val loss: 0.96\n",
            "Epoch 27: Train Loss: 1.05, Val loss: 0.90\n",
            "Epoch 28: Train Loss: 1.00, Val loss: 0.85\n",
            "Epoch 29: Train Loss: 1.00, Val loss: 0.86\n",
            "Epoch 30: Train Loss: 0.98, Val loss: 1.48\n",
            "Epoch 31: Train Loss: 0.96, Val loss: 1.45\n",
            "Epoch 32: Train Loss: 0.88, Val loss: 1.27\n",
            "Epoch 33: Train Loss: 0.84, Val loss: 1.15\n",
            "Epoch 34: Train Loss: 0.82, Val loss: 0.70\n",
            "Epoch 35: Train Loss: 0.80, Val loss: 0.66\n",
            "Epoch 36: Train Loss: 0.81, Val loss: 0.65\n",
            "Epoch 37: Train Loss: 0.72, Val loss: 0.61\n",
            "Epoch 38: Train Loss: 0.73, Val loss: 0.61\n",
            "Epoch 39: Train Loss: 0.70, Val loss: 0.60\n",
            "Epoch 40: Train Loss: 0.66, Val loss: 0.58\n",
            "Epoch 41: Train Loss: 0.66, Val loss: 0.59\n",
            "Epoch 42: Train Loss: 0.64, Val loss: 0.85\n",
            "Epoch 43: Train Loss: 0.62, Val loss: 0.54\n",
            "Epoch 44: Train Loss: 0.58, Val loss: 0.51\n",
            "Epoch 45: Train Loss: 0.54, Val loss: 1.13\n",
            "Epoch 46: Train Loss: 0.54, Val loss: 0.50\n",
            "Epoch 47: Train Loss: 0.55, Val loss: 0.48\n",
            "Epoch 48: Train Loss: 0.51, Val loss: 1.17\n",
            "Epoch 49: Train Loss: 0.52, Val loss: 0.44\n"
          ]
        },
        {
          "output_type": "display_data",
          "data": {
            "text/plain": [
              "<Figure size 432x288 with 1 Axes>"
            ],
            "image/png": "[encoded data removed]"
          },
          "metadata": {
            "needs_background": "light"
          }
        }
      ]
    },
    {
      "cell_type": "markdown",
      "source": [
        "### Check Accuarcy"
      ],
      "metadata": {
        "id": "hrn7KSPB2wdO"
      }
    },
    {
      "cell_type": "code",
      "source": [
        "train_acc_4 = check_accuracy(train_loader, models[model_name]['model'], device=\"cuda\", check_type='train')"
      ],
      "metadata": {
        "id": "yG3meeKp2wdO"
      },
      "execution_count": null,
      "outputs": []
    },
    {
      "cell_type": "code",
      "source": [
        "val_acc_4 = check_accuracy(val_loader, models[model_name]['model'], device=\"cuda\", check_type='val')"
      ],
      "metadata": {
        "id": "bTRVVZex2wdQ"
      },
      "execution_count": null,
      "outputs": []
    },
    {
      "cell_type": "code",
      "source": [
        "print_acc(train_acc_4, val_acc_4)"
      ],
      "metadata": {
        "colab": {
          "base_uri": "https://localhost:8080/"
        },
        "outputId": "774f5173-8b7c-4e88-81f1-d8ad6c4c01a0",
        "id": "X_70iRfi2wdT"
      },
      "execution_count": null,
      "outputs": [
        {
          "output_type": "stream",
          "name": "stdout",
          "text": [
            "idx\tClasses\t\ttrain\tval\n",
            "2\tRoadMarkings 0.0000\t0.0000\n",
            "3\tTree 0.9681\t0.9332\n",
            "4\tBuilding 0.0000\t0.0000\n",
            "5\tVehicle 0.0000\t0.0000\n",
            "6\tPerson 0.0000\t0.0000\n",
            "7\tLifeguardChair 0.0000\t0.0000\n",
            "8\tPicnicTable 0.0000\t0.0000\n",
            "9\tBlackWoodPanel 0.0000\t0.0000\n",
            "10\tWhiteWoodPanel 0.0000\t0.0000\n",
            "11\tOrangeLandingPad 0.0000\t0.0000\n",
            "12\tBuoy 0.0000\t0.0000\n",
            "13\tRocks 0.0000\t0.0000\n",
            "14\tLowLevelVegetation 0.0000\t0.0000\n",
            "15\tGrass_Lawn 0.9826\t0.9548\n",
            "16\tSand_Beach 0.9745\t0.9093\n",
            "17\tWater_Lake 0.9921\t0.9448\n",
            "18\tWater_Pond 0.0000\t0.0000\n",
            "19\tAsphalt 0.1421\t0.1285\n",
            "Average: 0.2136,0.2037\n"
          ]
        }
      ]
    },
    {
      "cell_type": "markdown",
      "source": [
        ""
      ],
      "metadata": {
        "id": "NcItpJvv6voU"
      }
    },
    {
      "cell_type": "markdown",
      "source": [
        "## Train LinkNet 5"
      ],
      "metadata": {
        "id": "rHq54kAm6wDW"
      }
    },
    {
      "cell_type": "code",
      "source": [
        "lr = 1e-3\n",
        "num_epochs = 80"
      ],
      "metadata": {
        "id": "5FEao3k16wDY"
      },
      "execution_count": null,
      "outputs": []
    },
    {
      "cell_type": "markdown",
      "source": [
        "#### Load or Create the model"
      ],
      "metadata": {
        "id": "WEPQvtjj6wDb"
      }
    },
    {
      "cell_type": "code",
      "source": [
        "model_name = 'link_res_lr5'\n",
        "models[model_name] = {\n",
        "        'model': get_link_resnet_model(),\n",
        "        'path': f\"{folder_path}models/{model_name}_check_points.pt\"}"
      ],
      "metadata": {
        "id": "Sc2M6YD06wDc"
      },
      "execution_count": null,
      "outputs": []
    },
    {
      "cell_type": "markdown",
      "source": [
        "#### Set Optimiazers and Train function"
      ],
      "metadata": {
        "id": "eFG5K4xl6wDd"
      }
    },
    {
      "cell_type": "code",
      "source": [
        "optimizer = optim.Adam(filter(lambda p: p.requires_grad, models[model_name]['model'].parameters()), lr=lr)\n",
        "loss_fn = nn.CrossEntropyLoss()\n",
        "scaler = torch.cuda.amp.GradScaler()\n",
        "loss_values[model_name],accuracy_values[model_name] = train( models[model_name]['path'], {'train':train_loader,'val':val_loader}, models[model_name]['model'], optimizer, loss_fn,scaler)\n",
        "plt.plot(loss_values[model_name]['train'], label = \"train loss\")\n",
        "plt.plot(loss_values[model_name]['val'], label = \"val loss\")\n",
        "plt.legend()\n",
        "plt.show()"
      ],
      "metadata": {
        "colab": {
          "base_uri": "https://localhost:8080/",
          "height": 1000
        },
        "outputId": "b5b83cce-11e4-460c-dd5a-41a2cfac29d0",
        "id": "Ul3ktw_q6wDd"
      },
      "execution_count": null,
      "outputs": [
        {
          "output_type": "stream",
          "name": "stdout",
          "text": [
            "Epoch 0: Train Loss: 2.43, Val loss: 2.35\n",
            "Epoch 1: Train Loss: 1.83, Val loss: 2.23\n",
            "Epoch 2: Train Loss: 1.55, Val loss: 1.92\n",
            "Epoch 3: Train Loss: 1.40, Val loss: 1.85\n",
            "Epoch 4: Train Loss: 1.29, Val loss: 1.11\n",
            "Epoch 5: Train Loss: 1.27, Val loss: 1.50\n",
            "Epoch 6: Train Loss: 1.21, Val loss: 1.05\n",
            "Epoch 7: Train Loss: 1.10, Val loss: 0.85\n",
            "Epoch 8: Train Loss: 1.02, Val loss: 0.79\n",
            "Epoch 9: Train Loss: 0.97, Val loss: 0.95\n",
            "Epoch 10: Train Loss: 0.95, Val loss: 1.13\n",
            "Epoch 11: Train Loss: 0.93, Val loss: 0.72\n",
            "Epoch 12: Train Loss: 0.90, Val loss: 0.68\n",
            "Epoch 13: Train Loss: 0.89, Val loss: 0.73\n",
            "Epoch 14: Train Loss: 0.83, Val loss: 0.64\n",
            "Epoch 15: Train Loss: 0.88, Val loss: 0.68\n",
            "Epoch 16: Train Loss: 0.82, Val loss: 0.84\n",
            "Epoch 17: Train Loss: 0.84, Val loss: 0.81\n",
            "Epoch 18: Train Loss: 0.85, Val loss: 0.73\n",
            "Epoch 19: Train Loss: 0.80, Val loss: 0.61\n",
            "Epoch 20: Train Loss: 0.80, Val loss: 0.69\n",
            "Epoch 21: Train Loss: 0.78, Val loss: 0.66\n",
            "Epoch 22: Train Loss: 0.71, Val loss: 0.73\n",
            "Epoch 23: Train Loss: 0.75, Val loss: 0.57\n",
            "Epoch 24: Train Loss: 0.77, Val loss: 0.68\n",
            "Epoch 25: Train Loss: 0.70, Val loss: 0.60\n",
            "Epoch 26: Train Loss: 0.68, Val loss: 0.57\n",
            "Epoch 27: Train Loss: 0.69, Val loss: 0.61\n",
            "Epoch 28: Train Loss: 0.69, Val loss: 0.61\n",
            "Epoch 29: Train Loss: 0.64, Val loss: 0.66\n",
            "Epoch 30: Train Loss: 0.65, Val loss: 0.66\n",
            "Epoch 31: Train Loss: 0.73, Val loss: 0.50\n",
            "Epoch 32: Train Loss: 0.66, Val loss: 0.65\n",
            "Epoch 33: Train Loss: 0.67, Val loss: 0.81\n",
            "Epoch 34: Train Loss: 0.63, Val loss: 0.67\n",
            "Epoch 35: Train Loss: 0.61, Val loss: 1.04\n",
            "Epoch 36: Train Loss: 0.58, Val loss: 0.55\n",
            "Epoch 37: Train Loss: 0.67, Val loss: 0.77\n",
            "Epoch 38: Train Loss: 0.64, Val loss: 1.13\n",
            "Epoch 39: Train Loss: 0.62, Val loss: 0.53\n",
            "Epoch 40: Train Loss: 0.60, Val loss: 0.65\n",
            "Epoch 41: Train Loss: 0.59, Val loss: 1.56\n",
            "Epoch 42: Train Loss: 0.57, Val loss: 0.47\n",
            "Epoch 43: Train Loss: 0.52, Val loss: 0.47\n",
            "Epoch 44: Train Loss: 0.56, Val loss: 0.67\n",
            "Epoch 45: Train Loss: 0.49, Val loss: 0.50\n",
            "Epoch 46: Train Loss: 0.58, Val loss: 0.48\n",
            "Epoch 47: Train Loss: 0.57, Val loss: 0.59\n",
            "Epoch 48: Train Loss: 0.49, Val loss: 0.59\n",
            "Epoch 49: Train Loss: 0.58, Val loss: 0.48\n",
            "Epoch 50: Train Loss: 0.51, Val loss: 0.52\n",
            "Epoch 51: Train Loss: 0.48, Val loss: 0.47\n",
            "Epoch 52: Train Loss: 0.45, Val loss: 0.48\n",
            "Epoch 53: Train Loss: 0.47, Val loss: 0.61\n",
            "Epoch 54: Train Loss: 0.55, Val loss: 0.99\n",
            "Epoch 55: Train Loss: 0.44, Val loss: 0.40\n",
            "Epoch 56: Train Loss: 0.46, Val loss: 0.58\n",
            "Epoch 57: Train Loss: 0.51, Val loss: 0.52\n",
            "Epoch 58: Train Loss: 0.46, Val loss: 1.14\n",
            "Epoch 59: Train Loss: 0.40, Val loss: 0.59\n",
            "Epoch 60: Train Loss: 0.42, Val loss: 0.69\n",
            "Epoch 61: Train Loss: 0.48, Val loss: 1.23\n",
            "Epoch 62: Train Loss: 0.50, Val loss: 0.46\n",
            "Epoch 63: Train Loss: 0.52, Val loss: 0.48\n",
            "Epoch 64: Train Loss: 0.50, Val loss: 0.68\n",
            "Epoch 65: Train Loss: 0.38, Val loss: 0.39\n",
            "Epoch 66: Train Loss: 0.42, Val loss: 1.16\n",
            "Epoch 67: Train Loss: 0.38, Val loss: 0.47\n",
            "Epoch 68: Train Loss: 0.36, Val loss: 0.54\n",
            "Epoch 69: Train Loss: 0.40, Val loss: 0.40\n",
            "Epoch 70: Train Loss: 0.37, Val loss: 0.35\n",
            "Epoch 71: Train Loss: 0.36, Val loss: 0.37\n",
            "Epoch 72: Train Loss: 0.34, Val loss: 0.38\n",
            "Epoch 73: Train Loss: 0.37, Val loss: 0.35\n",
            "Epoch 74: Train Loss: 0.38, Val loss: 0.42\n",
            "Epoch 75: Train Loss: 0.38, Val loss: 1.02\n",
            "Epoch 76: Train Loss: 0.32, Val loss: 0.46\n",
            "Epoch 77: Train Loss: 0.29, Val loss: 0.37\n",
            "Epoch 78: Train Loss: 0.29, Val loss: 0.46\n",
            "Epoch 79: Train Loss: 0.31, Val loss: 0.39\n"
          ]
        },
        {
          "output_type": "display_data",
          "data": {
            "text/plain": [
              "<Figure size 432x288 with 1 Axes>"
            ],
            "image/png": "[encoded data removed]"
          },
          "metadata": {
            "needs_background": "light"
          }
        }
      ]
    },
    {
      "cell_type": "markdown",
      "source": [
        "### Check Accuarcy"
      ],
      "metadata": {
        "id": "23lFcSNE6wDg"
      }
    },
    {
      "cell_type": "code",
      "source": [
        "train_acc_5 = check_accuracy(train_loader, models[model_name]['model'], device=\"cuda\", check_type='train')"
      ],
      "metadata": {
        "id": "eXVwBqn46wDk"
      },
      "execution_count": null,
      "outputs": []
    },
    {
      "cell_type": "code",
      "source": [
        "val_acc_5 = check_accuracy(val_loader, models[model_name]['model'], device=\"cuda\", check_type='val')"
      ],
      "metadata": {
        "id": "MunBgQIQ6wDl"
      },
      "execution_count": null,
      "outputs": []
    },
    {
      "cell_type": "code",
      "source": [
        "print_acc(train_acc_5, val_acc_5)"
      ],
      "metadata": {
        "colab": {
          "base_uri": "https://localhost:8080/"
        },
        "outputId": "45a453e6-9dda-4d18-b447-485053a83442",
        "id": "o2hiGU2n6wDs"
      },
      "execution_count": null,
      "outputs": [
        {
          "output_type": "stream",
          "name": "stdout",
          "text": [
            "idx\tClasses\t\ttrain\tval\n",
            "2\tRoadMarkings 0.0000\t0.0000\n",
            "3\tTree 0.9693\t0.9458\n",
            "4\tBuilding 0.0000\t0.0000\n",
            "5\tVehicle 0.0000\t0.0000\n",
            "6\tPerson 0.0000\t0.0000\n",
            "7\tLifeguardChair 0.0000\t0.0000\n",
            "8\tPicnicTable 0.0000\t0.0000\n",
            "9\tBlackWoodPanel 0.0000\t0.0000\n",
            "10\tWhiteWoodPanel 0.0000\t0.0000\n",
            "11\tOrangeLandingPad 0.0000\t0.0000\n",
            "12\tBuoy 0.0000\t0.0000\n",
            "13\tRocks 0.7830\t0.6154\n",
            "14\tLowLevelVegetation 0.0000\t0.0000\n",
            "15\tGrass_Lawn 0.9512\t0.8037\n",
            "16\tSand_Beach 0.8685\t0.7435\n",
            "17\tWater_Lake 0.8886\t0.7525\n",
            "18\tWater_Pond 0.6964\t0.4238\n",
            "19\tAsphalt 0.9514\t0.8270\n",
            "Average: 0.3215,0.2690\n"
          ]
        }
      ]
    },
    {
      "cell_type": "markdown",
      "source": [
        "## Train LinkNet 6"
      ],
      "metadata": {
        "id": "Nd6gjWzM-Bn5"
      }
    },
    {
      "cell_type": "code",
      "source": [
        "lr = 1e-3\n",
        "num_epochs = 80\n",
        "weight_decay=1e-4"
      ],
      "metadata": {
        "id": "3GDVaNja-Bn6"
      },
      "execution_count": null,
      "outputs": []
    },
    {
      "cell_type": "markdown",
      "source": [
        "#### Load or Create the model"
      ],
      "metadata": {
        "id": "nFWX9a1z-Bn7"
      }
    },
    {
      "cell_type": "code",
      "source": [
        "model_name = 'link_res_lr6'\n",
        "models[model_name] = {\n",
        "        'model': get_link_resnet_model(),\n",
        "        'path': f\"{folder_path}models/{model_name}_check_points.pt\"}"
      ],
      "metadata": {
        "id": "bNUU9rud-Bn8"
      },
      "execution_count": null,
      "outputs": []
    },
    {
      "cell_type": "markdown",
      "source": [
        "#### Set Optimiazers and Train function"
      ],
      "metadata": {
        "id": "mhd8Vcgb-Bn9"
      }
    },
    {
      "cell_type": "code",
      "source": [
        "optimizer = optim.Adam(filter(lambda p: p.requires_grad, models[model_name]['model'].parameters()), lr=lr,weight_decay=weight_decay)\n",
        "loss_fn = nn.CrossEntropyLoss()\n",
        "scaler = torch.cuda.amp.GradScaler()\n",
        "loss_values[model_name],accuracy_values[model_name] = train( models[model_name]['path'], {'train':train_loader,'val':val_loader}, models[model_name]['model'], optimizer, loss_fn,scaler)\n",
        "plt.plot(loss_values[model_name]['train'], label = \"train loss\")\n",
        "plt.plot(loss_values[model_name]['val'], label = \"val loss\")\n",
        "plt.legend()\n",
        "plt.show()"
      ],
      "metadata": {
        "colab": {
          "base_uri": "https://localhost:8080/",
          "height": 1000
        },
        "outputId": "23d87a82-52cf-4fde-9560-455e0ad9bc25",
        "id": "3dvNlFe4-Bn-"
      },
      "execution_count": null,
      "outputs": [
        {
          "output_type": "stream",
          "name": "stdout",
          "text": [
            "Epoch 0: Train Loss: 2.40, Val loss: 2.38\n",
            "Epoch 1: Train Loss: 1.80, Val loss: 2.20\n",
            "Epoch 2: Train Loss: 1.50, Val loss: 1.28\n",
            "Epoch 3: Train Loss: 1.33, Val loss: 1.07\n",
            "Epoch 4: Train Loss: 1.21, Val loss: 1.09\n",
            "Epoch 5: Train Loss: 1.21, Val loss: 0.95\n",
            "Epoch 6: Train Loss: 1.11, Val loss: 1.04\n",
            "Epoch 7: Train Loss: 1.09, Val loss: 0.95\n",
            "Epoch 8: Train Loss: 1.08, Val loss: 0.94\n",
            "Epoch 9: Train Loss: 1.07, Val loss: 1.10\n",
            "Epoch 10: Train Loss: 1.02, Val loss: 0.90\n",
            "Epoch 11: Train Loss: 0.98, Val loss: 0.81\n",
            "Epoch 12: Train Loss: 0.91, Val loss: 0.92\n",
            "Epoch 13: Train Loss: 0.89, Val loss: 0.95\n",
            "Epoch 14: Train Loss: 0.89, Val loss: 0.80\n",
            "Epoch 15: Train Loss: 0.84, Val loss: 1.59\n",
            "Epoch 16: Train Loss: 0.89, Val loss: 0.69\n",
            "Epoch 17: Train Loss: 0.81, Val loss: 0.75\n",
            "Epoch 18: Train Loss: 0.84, Val loss: 0.86\n",
            "Epoch 19: Train Loss: 0.76, Val loss: 0.76\n",
            "Epoch 20: Train Loss: 0.83, Val loss: 0.80\n",
            "Epoch 21: Train Loss: 0.78, Val loss: 0.62\n",
            "Epoch 22: Train Loss: 0.74, Val loss: 0.56\n",
            "Epoch 23: Train Loss: 0.73, Val loss: 0.63\n",
            "Epoch 24: Train Loss: 0.77, Val loss: 0.58\n",
            "Epoch 25: Train Loss: 0.69, Val loss: 0.62\n",
            "Epoch 26: Train Loss: 0.68, Val loss: 0.64\n",
            "Epoch 27: Train Loss: 0.69, Val loss: 0.85\n",
            "Epoch 28: Train Loss: 0.67, Val loss: 0.62\n",
            "Epoch 29: Train Loss: 0.72, Val loss: 0.65\n",
            "Epoch 30: Train Loss: 0.71, Val loss: 0.59\n",
            "Epoch 31: Train Loss: 0.66, Val loss: 0.55\n",
            "Epoch 32: Train Loss: 0.62, Val loss: 0.47\n",
            "Epoch 33: Train Loss: 0.60, Val loss: 0.54\n",
            "Epoch 34: Train Loss: 0.61, Val loss: 0.58\n",
            "Epoch 35: Train Loss: 0.62, Val loss: 0.49\n",
            "Epoch 36: Train Loss: 0.58, Val loss: 0.59\n",
            "Epoch 37: Train Loss: 0.59, Val loss: 0.46\n",
            "Epoch 38: Train Loss: 0.53, Val loss: 0.51\n",
            "Epoch 39: Train Loss: 0.54, Val loss: 0.45\n",
            "Epoch 40: Train Loss: 0.54, Val loss: 0.54\n",
            "Epoch 41: Train Loss: 0.61, Val loss: 1.43\n",
            "Epoch 42: Train Loss: 0.75, Val loss: 0.61\n",
            "Epoch 43: Train Loss: 0.65, Val loss: 0.49\n",
            "Epoch 44: Train Loss: 0.57, Val loss: 0.49\n",
            "Epoch 45: Train Loss: 0.51, Val loss: 0.61\n",
            "Epoch 46: Train Loss: 0.52, Val loss: 0.46\n",
            "Epoch 47: Train Loss: 0.50, Val loss: 0.37\n",
            "Epoch 48: Train Loss: 0.51, Val loss: 0.36\n",
            "Epoch 49: Train Loss: 0.46, Val loss: 1.17\n",
            "Epoch 50: Train Loss: 0.44, Val loss: 0.38\n",
            "Epoch 51: Train Loss: 0.45, Val loss: 0.36\n",
            "Epoch 52: Train Loss: 0.42, Val loss: 0.37\n",
            "Epoch 53: Train Loss: 0.40, Val loss: 0.47\n",
            "Epoch 54: Train Loss: 0.44, Val loss: 0.68\n",
            "Epoch 55: Train Loss: 0.40, Val loss: 0.39\n",
            "Epoch 56: Train Loss: 0.40, Val loss: 0.39\n",
            "Epoch 57: Train Loss: 0.38, Val loss: 1.08\n",
            "Epoch 58: Train Loss: 0.35, Val loss: 0.36\n",
            "Epoch 59: Train Loss: 0.35, Val loss: 0.42\n",
            "Epoch 60: Train Loss: 0.36, Val loss: 0.49\n",
            "Epoch 61: Train Loss: 0.33, Val loss: 0.35\n",
            "Epoch 62: Train Loss: 0.33, Val loss: 0.31\n",
            "Epoch 63: Train Loss: 0.31, Val loss: 0.26\n",
            "Epoch 64: Train Loss: 0.32, Val loss: 0.29\n",
            "Epoch 65: Train Loss: 0.33, Val loss: 0.32\n",
            "Epoch 66: Train Loss: 0.37, Val loss: 0.50\n",
            "Epoch 67: Train Loss: 0.35, Val loss: 0.35\n",
            "Epoch 68: Train Loss: 0.33, Val loss: 0.38\n",
            "Epoch 69: Train Loss: 0.30, Val loss: 0.33\n",
            "Epoch 70: Train Loss: 0.27, Val loss: 0.35\n",
            "Epoch 71: Train Loss: 0.33, Val loss: 0.42\n",
            "Epoch 72: Train Loss: 0.28, Val loss: 0.30\n",
            "Epoch 73: Train Loss: 0.29, Val loss: 0.28\n",
            "Epoch 74: Train Loss: 0.25, Val loss: 0.37\n",
            "Epoch 75: Train Loss: 0.32, Val loss: 0.33\n",
            "Epoch 76: Train Loss: 0.29, Val loss: 1.35\n",
            "Epoch 77: Train Loss: 0.24, Val loss: 0.76\n",
            "Epoch 78: Train Loss: 0.25, Val loss: 0.33\n",
            "Epoch 79: Train Loss: 0.28, Val loss: 0.31\n"
          ]
        },
        {
          "output_type": "display_data",
          "data": {
            "text/plain": [
              "<Figure size 432x288 with 1 Axes>"
            ],
            "image/png": "[encoded data removed]"
          },
          "metadata": {
            "needs_background": "light"
          }
        }
      ]
    },
    {
      "cell_type": "markdown",
      "source": [
        "### Check Accuarcy"
      ],
      "metadata": {
        "id": "pgJgFabN-Bn_"
      }
    },
    {
      "cell_type": "code",
      "source": [
        "train_acc_6 = check_accuracy(train_loader, models[model_name]['model'], device=\"cuda\", check_type='train')"
      ],
      "metadata": {
        "id": "s61ywDkF-BoA"
      },
      "execution_count": null,
      "outputs": []
    },
    {
      "cell_type": "code",
      "source": [
        "val_acc_6 = check_accuracy(val_loader, models[model_name]['model'], device=\"cuda\", check_type='val')"
      ],
      "metadata": {
        "id": "IhN0obYn-BoA"
      },
      "execution_count": null,
      "outputs": []
    },
    {
      "cell_type": "code",
      "source": [
        "print_acc(train_acc_6, val_acc_6)"
      ],
      "metadata": {
        "colab": {
          "base_uri": "https://localhost:8080/"
        },
        "outputId": "d7d78154-73d6-43ea-b33a-32e1cd7a87ab",
        "id": "roylfwDN-BoC"
      },
      "execution_count": null,
      "outputs": [
        {
          "output_type": "stream",
          "name": "stdout",
          "text": [
            "idx\tClasses\t\ttrain\tval\n",
            "2\tRoadMarkings 0.0165\t0.0269\n",
            "3\tTree 0.8877\t0.8610\n",
            "4\tBuilding 0.0000\t0.0000\n",
            "5\tVehicle 0.0000\t0.0000\n",
            "6\tPerson 0.0000\t0.0000\n",
            "7\tLifeguardChair 0.0000\t0.0000\n",
            "8\tPicnicTable 0.0000\t0.0000\n",
            "9\tBlackWoodPanel 0.0000\t0.0000\n",
            "10\tWhiteWoodPanel 0.0000\t0.0000\n",
            "11\tOrangeLandingPad 0.0000\t0.0000\n",
            "12\tBuoy 0.0000\t0.0000\n",
            "13\tRocks 0.6885\t0.5687\n",
            "14\tLowLevelVegetation 0.0000\t0.0000\n",
            "15\tGrass_Lawn 0.9597\t0.9291\n",
            "16\tSand_Beach 0.9614\t0.8871\n",
            "17\tWater_Lake 0.9785\t0.8921\n",
            "18\tWater_Pond 0.4324\t0.1817\n",
            "19\tAsphalt 0.9743\t0.8902\n",
            "Average: 0.3105,0.2756\n"
          ]
        }
      ]
    },
    {
      "cell_type": "markdown",
      "source": [
        "## Train LinkNet 7"
      ],
      "metadata": {
        "id": "w0qQhBg5BDYk"
      }
    },
    {
      "cell_type": "code",
      "source": [
        "lr = 1e-3\n",
        "num_epochs = 40\n",
        "weight_decay=1e-3"
      ],
      "metadata": {
        "id": "RSZYAchWBDYl"
      },
      "execution_count": null,
      "outputs": []
    },
    {
      "cell_type": "markdown",
      "source": [
        "#### Load or Create the model"
      ],
      "metadata": {
        "id": "48HfT-EuBDYm"
      }
    },
    {
      "cell_type": "code",
      "source": [
        "model_name = 'link_res_lr7'\n",
        "models[model_name] = {\n",
        "        'model': get_link_resnet_model(),\n",
        "        'path': f\"{folder_path}models/{model_name}_check_points.pt\"}"
      ],
      "metadata": {
        "id": "Dva6bsp7BDYn"
      },
      "execution_count": null,
      "outputs": []
    },
    {
      "cell_type": "markdown",
      "source": [
        "#### Set Optimiazers and Train function"
      ],
      "metadata": {
        "id": "O5e-lELWBDYo"
      }
    },
    {
      "cell_type": "code",
      "source": [
        "optimizer = optim.Adam(filter(lambda p: p.requires_grad, models[model_name]['model'].parameters()), lr=lr,weight_decay=weight_decay)\n",
        "loss_fn = nn.CrossEntropyLoss()\n",
        "scaler = torch.cuda.amp.GradScaler()\n",
        "loss_values[model_name],accuracy_values[model_name] = train( models[model_name]['path'], {'train':train_loader,'val':val_loader}, models[model_name]['model'], optimizer, loss_fn,scaler)\n",
        "plt.plot(loss_values[model_name]['train'], label = \"train loss\")\n",
        "plt.plot(loss_values[model_name]['val'], label = \"val loss\")\n",
        "plt.legend()\n",
        "plt.show()"
      ],
      "metadata": {
        "colab": {
          "base_uri": "https://localhost:8080/",
          "height": 960
        },
        "outputId": "ad2f57c4-63a8-4d2d-d535-58cdafde1817",
        "id": "ule7cEugBDYp"
      },
      "execution_count": null,
      "outputs": [
        {
          "output_type": "stream",
          "name": "stdout",
          "text": [
            "Epoch 0: Train Loss: 2.58, Val loss: 2.42\n",
            "Epoch 1: Train Loss: 1.93, Val loss: 2.18\n",
            "Epoch 2: Train Loss: 1.57, Val loss: 2.01\n",
            "Epoch 3: Train Loss: 1.43, Val loss: 1.26\n",
            "Epoch 4: Train Loss: 1.33, Val loss: 1.68\n",
            "Epoch 5: Train Loss: 1.25, Val loss: 1.29\n",
            "Epoch 6: Train Loss: 1.17, Val loss: 1.06\n",
            "Epoch 7: Train Loss: 1.14, Val loss: 3.69\n",
            "Epoch 8: Train Loss: 1.12, Val loss: 0.93\n",
            "Epoch 9: Train Loss: 1.12, Val loss: 1.07\n",
            "Epoch 10: Train Loss: 1.09, Val loss: 1.92\n",
            "Epoch 11: Train Loss: 1.06, Val loss: 1.74\n",
            "Epoch 12: Train Loss: 1.06, Val loss: 1.02\n",
            "Epoch 13: Train Loss: 1.02, Val loss: 1.14\n",
            "Epoch 14: Train Loss: 1.02, Val loss: 1.82\n",
            "Epoch 15: Train Loss: 1.00, Val loss: 2.11\n",
            "Epoch 16: Train Loss: 0.96, Val loss: 0.79\n",
            "Epoch 17: Train Loss: 0.98, Val loss: 0.90\n",
            "Epoch 18: Train Loss: 0.96, Val loss: 0.90\n",
            "Epoch 19: Train Loss: 0.91, Val loss: 0.89\n",
            "Epoch 20: Train Loss: 0.91, Val loss: 1.52\n",
            "Epoch 21: Train Loss: 0.88, Val loss: 0.73\n",
            "Epoch 22: Train Loss: 0.90, Val loss: 1.75\n",
            "Epoch 23: Train Loss: 0.86, Val loss: 1.04\n",
            "Epoch 24: Train Loss: 0.87, Val loss: 0.79\n",
            "Epoch 25: Train Loss: 0.85, Val loss: 0.78\n",
            "Epoch 26: Train Loss: 0.82, Val loss: 0.78\n",
            "Epoch 27: Train Loss: 0.83, Val loss: 0.85\n",
            "Epoch 28: Train Loss: 0.81, Val loss: 1.07\n",
            "Epoch 29: Train Loss: 0.84, Val loss: 1.28\n",
            "Epoch 30: Train Loss: 0.78, Val loss: 1.63\n",
            "Epoch 31: Train Loss: 0.80, Val loss: 1.36\n",
            "Epoch 32: Train Loss: 0.76, Val loss: 0.71\n",
            "Epoch 33: Train Loss: 0.81, Val loss: 0.62\n",
            "Epoch 34: Train Loss: 0.77, Val loss: 0.59\n",
            "Epoch 35: Train Loss: 0.76, Val loss: 0.73\n",
            "Epoch 36: Train Loss: 0.75, Val loss: 0.60\n",
            "Epoch 37: Train Loss: 0.77, Val loss: 0.74\n",
            "Epoch 38: Train Loss: 0.76, Val loss: 0.75\n",
            "Epoch 39: Train Loss: 0.77, Val loss: 0.78\n"
          ]
        },
        {
          "output_type": "display_data",
          "data": {
            "text/plain": [
              "<Figure size 432x288 with 1 Axes>"
            ],
            "image/png": "[encoded data removed]"
          },
          "metadata": {
            "needs_background": "light"
          }
        }
      ]
    },
    {
      "cell_type": "markdown",
      "source": [
        "### Check Accuarcy"
      ],
      "metadata": {
        "id": "CqOhxOxjBDYq"
      }
    },
    {
      "cell_type": "code",
      "source": [
        "train_acc_7 = check_accuracy(train_loader, models[model_name]['model'], device=\"cuda\", check_type='train')"
      ],
      "metadata": {
        "id": "8Ab0EmrqBDYr"
      },
      "execution_count": null,
      "outputs": []
    },
    {
      "cell_type": "code",
      "source": [
        "val_acc_7 = check_accuracy(val_loader, models[model_name]['model'], device=\"cuda\", check_type='val')"
      ],
      "metadata": {
        "id": "9cmrtk_8BDYr"
      },
      "execution_count": null,
      "outputs": []
    },
    {
      "cell_type": "code",
      "source": [
        "print_acc(train_acc_7, val_acc_7)"
      ],
      "metadata": {
        "colab": {
          "base_uri": "https://localhost:8080/"
        },
        "outputId": "ce2e419f-2324-44d3-a9eb-6b409a493741",
        "id": "f1TAL_ALBDYt"
      },
      "execution_count": null,
      "outputs": [
        {
          "output_type": "stream",
          "name": "stdout",
          "text": [
            "idx\tClasses\t\ttrain\tval\n",
            "2\tRoadMarkings 0.0000\t0.0000\n",
            "3\tTree 0.9519\t0.9732\n",
            "4\tBuilding 0.0000\t0.0000\n",
            "5\tVehicle 0.0000\t0.0000\n",
            "6\tPerson 0.0000\t0.0000\n",
            "7\tLifeguardChair 0.0000\t0.0000\n",
            "8\tPicnicTable 0.0000\t0.0000\n",
            "9\tBlackWoodPanel 0.0000\t0.0000\n",
            "10\tWhiteWoodPanel 0.0000\t0.0000\n",
            "11\tOrangeLandingPad 0.0000\t0.0000\n",
            "12\tBuoy 0.0000\t0.0000\n",
            "13\tRocks 0.0000\t0.0000\n",
            "14\tLowLevelVegetation 0.0000\t0.0000\n",
            "15\tGrass_Lawn 0.8443\t0.8604\n",
            "16\tSand_Beach 0.2008\t0.1909\n",
            "17\tWater_Lake 0.8124\t0.7417\n",
            "18\tWater_Pond 0.0000\t0.0000\n",
            "19\tAsphalt 0.0047\t0.0042\n",
            "Average: 0.1481,0.1458\n"
          ]
        }
      ]
    },
    {
      "cell_type": "markdown",
      "source": [
        "## Train LinkNet 8"
      ],
      "metadata": {
        "id": "5GJvS9atDQ6m"
      }
    },
    {
      "cell_type": "code",
      "source": [
        "lr = 1e-3\n",
        "num_epochs = 80\n",
        "weight_decay=1e-5"
      ],
      "metadata": {
        "id": "JbQl1b9TDQ6o"
      },
      "execution_count": null,
      "outputs": []
    },
    {
      "cell_type": "markdown",
      "source": [
        "#### Load or Create the model"
      ],
      "metadata": {
        "id": "66E5UsXjDQ6p"
      }
    },
    {
      "cell_type": "code",
      "source": [
        "model_name = 'link_res_lr8'\n",
        "models[model_name] = {\n",
        "        'model': get_link_resnet_model(),\n",
        "        'path': f\"{folder_path}models/{model_name}_check_points.pt\"}"
      ],
      "metadata": {
        "id": "D25yNYeDDQ6q"
      },
      "execution_count": null,
      "outputs": []
    },
    {
      "cell_type": "markdown",
      "source": [
        "#### Set Optimiazers and Train function"
      ],
      "metadata": {
        "id": "g1MnvUBbDQ6s"
      }
    },
    {
      "cell_type": "code",
      "source": [
        "optimizer = optim.Adam(filter(lambda p: p.requires_grad, models[model_name]['model'].parameters()), lr=lr,weight_decay=weight_decay)\n",
        "loss_fn = nn.CrossEntropyLoss()\n",
        "scaler = torch.cuda.amp.GradScaler()\n",
        "loss_values[model_name],accuracy_values[model_name] = train( models[model_name]['path'], {'train':train_loader,'val':val_loader}, models[model_name]['model'], optimizer, loss_fn,scaler)\n",
        "plt.plot(loss_values[model_name]['train'], label = \"train loss\")\n",
        "plt.plot(loss_values[model_name]['val'], label = \"val loss\")\n",
        "plt.legend()\n",
        "plt.show()"
      ],
      "metadata": {
        "colab": {
          "base_uri": "https://localhost:8080/",
          "height": 1000
        },
        "outputId": "c3424b52-7066-4ca0-d034-0ffa849cbfe6",
        "id": "6hFWg069DQ6t"
      },
      "execution_count": null,
      "outputs": [
        {
          "output_type": "stream",
          "name": "stdout",
          "text": [
            "Epoch 0: Train Loss: 2.42, Val loss: 2.58\n",
            "Epoch 1: Train Loss: 1.78, Val loss: 2.44\n",
            "Epoch 2: Train Loss: 1.48, Val loss: 1.33\n",
            "Epoch 3: Train Loss: 1.34, Val loss: 1.22\n",
            "Epoch 4: Train Loss: 1.22, Val loss: 1.42\n",
            "Epoch 5: Train Loss: 1.20, Val loss: 1.06\n",
            "Epoch 6: Train Loss: 1.11, Val loss: 1.55\n",
            "Epoch 7: Train Loss: 1.07, Val loss: 1.08\n",
            "Epoch 8: Train Loss: 1.01, Val loss: 0.89\n",
            "Epoch 9: Train Loss: 0.96, Val loss: 0.89\n",
            "Epoch 10: Train Loss: 0.94, Val loss: 0.92\n",
            "Epoch 11: Train Loss: 0.93, Val loss: 1.04\n",
            "Epoch 12: Train Loss: 0.84, Val loss: 0.82\n",
            "Epoch 13: Train Loss: 0.85, Val loss: 1.36\n",
            "Epoch 14: Train Loss: 0.88, Val loss: 0.97\n",
            "Epoch 15: Train Loss: 0.80, Val loss: 1.38\n",
            "Epoch 16: Train Loss: 0.82, Val loss: 0.78\n",
            "Epoch 17: Train Loss: 0.80, Val loss: 0.75\n",
            "Epoch 18: Train Loss: 0.82, Val loss: 0.81\n",
            "Epoch 19: Train Loss: 0.80, Val loss: 0.66\n",
            "Epoch 20: Train Loss: 0.73, Val loss: 0.71\n",
            "Epoch 21: Train Loss: 0.75, Val loss: 0.73\n",
            "Epoch 22: Train Loss: 0.74, Val loss: 1.79\n",
            "Epoch 23: Train Loss: 0.75, Val loss: 0.71\n",
            "Epoch 24: Train Loss: 0.75, Val loss: 1.50\n",
            "Epoch 25: Train Loss: 0.71, Val loss: 0.63\n",
            "Epoch 26: Train Loss: 0.71, Val loss: 0.61\n",
            "Epoch 27: Train Loss: 0.69, Val loss: 1.11\n",
            "Epoch 28: Train Loss: 0.67, Val loss: 0.61\n",
            "Epoch 29: Train Loss: 0.71, Val loss: 0.75\n",
            "Epoch 30: Train Loss: 0.71, Val loss: 0.59\n",
            "Epoch 31: Train Loss: 0.65, Val loss: 0.74\n",
            "Epoch 32: Train Loss: 0.63, Val loss: 0.54\n",
            "Epoch 33: Train Loss: 0.63, Val loss: 0.65\n",
            "Epoch 34: Train Loss: 0.63, Val loss: 0.58\n",
            "Epoch 35: Train Loss: 0.65, Val loss: 1.32\n",
            "Epoch 36: Train Loss: 0.60, Val loss: 0.55\n",
            "Epoch 37: Train Loss: 0.63, Val loss: 0.62\n",
            "Epoch 38: Train Loss: 0.62, Val loss: 1.24\n",
            "Epoch 39: Train Loss: 0.58, Val loss: 0.62\n",
            "Epoch 40: Train Loss: 0.65, Val loss: 0.78\n",
            "Epoch 41: Train Loss: 0.60, Val loss: 0.78\n",
            "Epoch 42: Train Loss: 0.59, Val loss: 0.88\n",
            "Epoch 43: Train Loss: 0.58, Val loss: 0.79\n",
            "Epoch 44: Train Loss: 0.63, Val loss: 1.07\n",
            "Epoch 45: Train Loss: 0.61, Val loss: 0.57\n",
            "Epoch 46: Train Loss: 0.55, Val loss: 0.91\n",
            "Epoch 47: Train Loss: 0.56, Val loss: 1.70\n",
            "Epoch 48: Train Loss: 0.52, Val loss: 0.48\n",
            "Epoch 49: Train Loss: 0.50, Val loss: 1.79\n",
            "Epoch 50: Train Loss: 0.53, Val loss: 1.52\n",
            "Epoch 51: Train Loss: 0.49, Val loss: 0.69\n",
            "Epoch 52: Train Loss: 0.49, Val loss: 0.49\n",
            "Epoch 53: Train Loss: 0.51, Val loss: 0.71\n",
            "Epoch 54: Train Loss: 0.49, Val loss: 2.11\n",
            "Epoch 55: Train Loss: 0.50, Val loss: 2.29\n",
            "Epoch 56: Train Loss: 0.45, Val loss: 0.82\n",
            "Epoch 57: Train Loss: 0.51, Val loss: 0.89\n",
            "Epoch 58: Train Loss: 0.50, Val loss: 0.85\n",
            "Epoch 59: Train Loss: 0.46, Val loss: 0.53\n",
            "Epoch 60: Train Loss: 0.45, Val loss: 0.54\n",
            "Epoch 61: Train Loss: 0.42, Val loss: 0.51\n",
            "Epoch 62: Train Loss: 0.46, Val loss: 0.53\n",
            "Epoch 63: Train Loss: 0.47, Val loss: 0.71\n",
            "Epoch 64: Train Loss: 0.45, Val loss: 0.53\n",
            "Epoch 65: Train Loss: 0.45, Val loss: 0.59\n",
            "Epoch 66: Train Loss: 0.48, Val loss: 0.70\n",
            "Epoch 67: Train Loss: 0.45, Val loss: 0.52\n",
            "Epoch 68: Train Loss: 0.40, Val loss: 0.51\n",
            "Epoch 69: Train Loss: 0.40, Val loss: 0.43\n",
            "Epoch 70: Train Loss: 0.38, Val loss: 0.53\n",
            "Epoch 71: Train Loss: 0.45, Val loss: 0.65\n",
            "Epoch 72: Train Loss: 0.38, Val loss: 0.86\n",
            "Epoch 73: Train Loss: 0.40, Val loss: 0.59\n",
            "Epoch 74: Train Loss: 0.37, Val loss: 0.45\n",
            "Epoch 75: Train Loss: 0.33, Val loss: 0.43\n",
            "Epoch 76: Train Loss: 0.31, Val loss: 0.41\n",
            "Epoch 77: Train Loss: 0.33, Val loss: 0.46\n",
            "Epoch 78: Train Loss: 0.33, Val loss: 0.71\n",
            "Epoch 79: Train Loss: 0.28, Val loss: 0.43\n"
          ]
        },
        {
          "output_type": "display_data",
          "data": {
            "text/plain": [
              "<Figure size 432x288 with 1 Axes>"
            ],
            "image/png": "[encoded data removed]"
          },
          "metadata": {
            "needs_background": "light"
          }
        }
      ]
    },
    {
      "cell_type": "markdown",
      "source": [
        "### Check Accuarcy"
      ],
      "metadata": {
        "id": "MZ1vqpESDQ6v"
      }
    },
    {
      "cell_type": "code",
      "source": [
        "train_acc_8 = check_accuracy(train_loader, models[model_name]['model'], device=\"cuda\", check_type='train')"
      ],
      "metadata": {
        "id": "uInVs86EDQ6w"
      },
      "execution_count": null,
      "outputs": []
    },
    {
      "cell_type": "code",
      "source": [
        "val_acc_8 = check_accuracy(val_loader, models[model_name]['model'], device=\"cuda\", check_type='val')"
      ],
      "metadata": {
        "id": "oHPGw9nUDQ6w"
      },
      "execution_count": null,
      "outputs": []
    },
    {
      "cell_type": "code",
      "source": [
        "print_acc(train_acc_8, val_acc_8)"
      ],
      "metadata": {
        "colab": {
          "base_uri": "https://localhost:8080/"
        },
        "outputId": "fec381e5-f7fa-4c6a-c957-21193510b98e",
        "id": "jD7WWtuwDQ6x"
      },
      "execution_count": null,
      "outputs": [
        {
          "output_type": "stream",
          "name": "stdout",
          "text": [
            "idx\tClasses\t\ttrain\tval\n",
            "2\tRoadMarkings 0.0000\t0.0000\n",
            "3\tTree 0.0000\t0.0000\n",
            "4\tBuilding 0.0000\t0.0000\n",
            "5\tVehicle 0.0000\t0.0000\n",
            "6\tPerson 0.0000\t0.0000\n",
            "7\tLifeguardChair 0.0000\t0.0000\n",
            "8\tPicnicTable 0.0000\t0.0000\n",
            "9\tBlackWoodPanel 0.0000\t0.0000\n",
            "10\tWhiteWoodPanel 0.0000\t0.0000\n",
            "11\tOrangeLandingPad 0.0000\t0.0000\n",
            "12\tBuoy 0.0000\t0.0000\n",
            "13\tRocks 0.0000\t0.0000\n",
            "14\tLowLevelVegetation 0.0000\t0.0000\n",
            "15\tGrass_Lawn 0.0000\t0.0000\n",
            "16\tSand_Beach 0.0000\t0.0000\n",
            "17\tWater_Lake 0.0000\t0.0000\n",
            "18\tWater_Pond 0.0000\t0.0000\n",
            "19\tAsphalt 0.0000\t0.0000\n",
            "Average: 0.0000,0.0000\n"
          ]
        }
      ]
    },
    {
      "cell_type": "markdown",
      "source": [
        "## Train LinkNet 9 (SGD)"
      ],
      "metadata": {
        "id": "F6Uxfj1QGqKo"
      }
    },
    {
      "cell_type": "code",
      "source": [
        "lr = 1e-3\n",
        "num_epochs = 80\n",
        "momentum = 0.9"
      ],
      "metadata": {
        "id": "ZI-kYX1SGqKo"
      },
      "execution_count": null,
      "outputs": []
    },
    {
      "cell_type": "markdown",
      "source": [
        "#### Load or Create the model"
      ],
      "metadata": {
        "id": "I5xyyI51GqKr"
      }
    },
    {
      "cell_type": "code",
      "source": [
        "model_name = 'link_res_lr9'\n",
        "models[model_name] = {\n",
        "        'model': get_link_resnet_model(),\n",
        "        'path': f\"{folder_path}models/{model_name}_check_points.pt\"}"
      ],
      "metadata": {
        "id": "qtEUXR9AGqKr"
      },
      "execution_count": null,
      "outputs": []
    },
    {
      "cell_type": "markdown",
      "source": [
        "#### Set Optimiazers and Train function"
      ],
      "metadata": {
        "id": "pj6gpXnUGqKs"
      }
    },
    {
      "cell_type": "code",
      "source": [
        "optimizer = optim.SGD(filter(lambda p: p.requires_grad, models[model_name]['model'].parameters()), lr=lr,momentum=momentum)\n",
        "loss_fn = nn.CrossEntropyLoss()\n",
        "scaler = torch.cuda.amp.GradScaler()\n",
        "loss_values[model_name],accuracy_values[model_name] = train( models[model_name]['path'], {'train':train_loader,'val':val_loader}, models[model_name]['model'], optimizer, loss_fn,scaler)\n",
        "plt.plot(loss_values[model_name]['train'], label = \"train loss\")\n",
        "plt.plot(loss_values[model_name]['val'], label = \"val loss\")\n",
        "plt.legend()\n",
        "plt.show()"
      ],
      "metadata": {
        "colab": {
          "base_uri": "https://localhost:8080/",
          "height": 1000
        },
        "outputId": "bdf2969d-5477-4940-e78b-1b31bbab4ec6",
        "id": "-NaS73S8GqKt"
      },
      "execution_count": null,
      "outputs": [
        {
          "output_type": "stream",
          "name": "stdout",
          "text": [
            "Epoch 0: Train Loss: 2.92, Val loss: 2.63\n",
            "Epoch 1: Train Loss: 2.82, Val loss: 2.57\n",
            "Epoch 2: Train Loss: 2.72, Val loss: 2.45\n",
            "Epoch 3: Train Loss: 2.62, Val loss: 2.35\n",
            "Epoch 4: Train Loss: 2.50, Val loss: 2.25\n",
            "Epoch 5: Train Loss: 2.38, Val loss: 2.14\n",
            "Epoch 6: Train Loss: 2.27, Val loss: 2.02\n",
            "Epoch 7: Train Loss: 2.15, Val loss: 1.90\n",
            "Epoch 8: Train Loss: 2.03, Val loss: 1.79\n",
            "Epoch 9: Train Loss: 1.96, Val loss: 1.69\n",
            "Epoch 10: Train Loss: 1.87, Val loss: 1.65\n",
            "Epoch 11: Train Loss: 1.80, Val loss: 1.62\n",
            "Epoch 12: Train Loss: 1.75, Val loss: 1.53\n",
            "Epoch 13: Train Loss: 1.70, Val loss: 1.51\n",
            "Epoch 14: Train Loss: 1.67, Val loss: 1.48\n",
            "Epoch 15: Train Loss: 1.64, Val loss: 1.46\n",
            "Epoch 16: Train Loss: 1.58, Val loss: 1.41\n",
            "Epoch 17: Train Loss: 1.56, Val loss: 1.37\n",
            "Epoch 18: Train Loss: 1.50, Val loss: 1.36\n",
            "Epoch 19: Train Loss: 1.49, Val loss: 1.32\n",
            "Epoch 20: Train Loss: 1.46, Val loss: 1.28\n",
            "Epoch 21: Train Loss: 1.44, Val loss: 1.26\n",
            "Epoch 22: Train Loss: 1.40, Val loss: 1.26\n",
            "Epoch 23: Train Loss: 1.40, Val loss: 1.28\n",
            "Epoch 24: Train Loss: 1.35, Val loss: 1.21\n",
            "Epoch 25: Train Loss: 1.31, Val loss: 1.20\n",
            "Epoch 26: Train Loss: 1.33, Val loss: 1.18\n",
            "Epoch 27: Train Loss: 1.31, Val loss: 1.13\n",
            "Epoch 28: Train Loss: 1.26, Val loss: 1.11\n",
            "Epoch 29: Train Loss: 1.24, Val loss: 1.15\n",
            "Epoch 30: Train Loss: 1.25, Val loss: 1.09\n",
            "Epoch 31: Train Loss: 1.24, Val loss: 1.14\n",
            "Epoch 32: Train Loss: 1.21, Val loss: 1.06\n",
            "Epoch 33: Train Loss: 1.19, Val loss: 1.04\n",
            "Epoch 34: Train Loss: 1.18, Val loss: 1.03\n",
            "Epoch 35: Train Loss: 1.15, Val loss: 0.99\n",
            "Epoch 36: Train Loss: 1.13, Val loss: 1.02\n",
            "Epoch 37: Train Loss: 1.13, Val loss: 0.98\n",
            "Epoch 38: Train Loss: 1.12, Val loss: 0.96\n",
            "Epoch 39: Train Loss: 1.09, Val loss: 0.94\n",
            "Epoch 40: Train Loss: 1.11, Val loss: 0.94\n",
            "Epoch 41: Train Loss: 1.11, Val loss: 1.10\n",
            "Epoch 42: Train Loss: 1.07, Val loss: 0.91\n",
            "Epoch 43: Train Loss: 1.03, Val loss: 0.91\n",
            "Epoch 44: Train Loss: 1.03, Val loss: 0.97\n",
            "Epoch 45: Train Loss: 1.03, Val loss: 0.92\n",
            "Epoch 46: Train Loss: 1.04, Val loss: 0.88\n",
            "Epoch 47: Train Loss: 0.98, Val loss: 0.85\n",
            "Epoch 48: Train Loss: 0.98, Val loss: 0.82\n",
            "Epoch 49: Train Loss: 0.96, Val loss: 0.79\n",
            "Epoch 50: Train Loss: 0.97, Val loss: 0.82\n",
            "Epoch 51: Train Loss: 0.95, Val loss: 0.93\n",
            "Epoch 52: Train Loss: 0.91, Val loss: 0.87\n",
            "Epoch 53: Train Loss: 0.93, Val loss: 0.79\n",
            "Epoch 54: Train Loss: 0.93, Val loss: 0.77\n",
            "Epoch 55: Train Loss: 0.91, Val loss: 0.76\n",
            "Epoch 56: Train Loss: 0.87, Val loss: 0.76\n",
            "Epoch 57: Train Loss: 0.88, Val loss: 0.73\n",
            "Epoch 58: Train Loss: 0.85, Val loss: 0.77\n",
            "Epoch 59: Train Loss: 0.87, Val loss: 0.79\n",
            "Epoch 60: Train Loss: 0.84, Val loss: 0.72\n",
            "Epoch 61: Train Loss: 0.84, Val loss: 0.72\n",
            "Epoch 62: Train Loss: 0.85, Val loss: 0.73\n",
            "Epoch 63: Train Loss: 0.84, Val loss: 0.70\n",
            "Epoch 64: Train Loss: 0.85, Val loss: 0.76\n",
            "Epoch 65: Train Loss: 0.81, Val loss: 0.76\n",
            "Epoch 66: Train Loss: 0.83, Val loss: 0.71\n",
            "Epoch 67: Train Loss: 0.83, Val loss: 0.75\n",
            "Epoch 68: Train Loss: 0.85, Val loss: 0.69\n",
            "Epoch 69: Train Loss: 0.79, Val loss: 0.69\n",
            "Epoch 70: Train Loss: 0.84, Val loss: 0.71\n",
            "Epoch 71: Train Loss: 0.84, Val loss: 0.70\n",
            "Epoch 72: Train Loss: 0.77, Val loss: 0.68\n",
            "Epoch 73: Train Loss: 0.78, Val loss: 0.68\n",
            "Epoch 74: Train Loss: 0.75, Val loss: 0.67\n",
            "Epoch 75: Train Loss: 0.76, Val loss: 0.68\n",
            "Epoch 76: Train Loss: 0.78, Val loss: 0.68\n",
            "Epoch 77: Train Loss: 0.75, Val loss: 0.68\n",
            "Epoch 78: Train Loss: 0.77, Val loss: 0.70\n",
            "Epoch 79: Train Loss: 0.75, Val loss: 0.66\n"
          ]
        },
        {
          "output_type": "display_data",
          "data": {
            "text/plain": [
              "<Figure size 432x288 with 1 Axes>"
            ],
            "image/png": "[encoded data removed]"
          },
          "metadata": {
            "needs_background": "light"
          }
        }
      ]
    },
    {
      "cell_type": "markdown",
      "source": [
        "### Check Accuarcy"
      ],
      "metadata": {
        "id": "IzxEhPUpGqKt"
      }
    },
    {
      "cell_type": "code",
      "source": [
        "train_acc_9 = check_accuracy(train_loader, models[model_name]['model'], device=\"cuda\", check_type='train')"
      ],
      "metadata": {
        "id": "gK4e_EMyGqKv"
      },
      "execution_count": null,
      "outputs": []
    },
    {
      "cell_type": "code",
      "source": [
        "val_acc_9 = check_accuracy(val_loader, models[model_name]['model'], device=\"cuda\", check_type='val')"
      ],
      "metadata": {
        "id": "t9j4ihkBGqKv"
      },
      "execution_count": null,
      "outputs": []
    },
    {
      "cell_type": "code",
      "source": [
        "print_acc(train_acc_9, val_acc_9)"
      ],
      "metadata": {
        "colab": {
          "base_uri": "https://localhost:8080/"
        },
        "outputId": "564863f4-109f-4497-84ce-722647e38efe",
        "id": "1gy9kZNVGqKx"
      },
      "execution_count": null,
      "outputs": [
        {
          "output_type": "stream",
          "name": "stdout",
          "text": [
            "idx\tClasses\t\ttrain\tval\n",
            "2\tRoadMarkings 0.0000\t0.0000\n",
            "3\tTree 0.9571\t0.9395\n",
            "4\tBuilding 0.0000\t0.0000\n",
            "5\tVehicle 0.0000\t0.0000\n",
            "6\tPerson 0.0000\t0.0000\n",
            "7\tLifeguardChair 0.0000\t0.0000\n",
            "8\tPicnicTable 0.0000\t0.0000\n",
            "9\tBlackWoodPanel 0.0000\t0.0000\n",
            "10\tWhiteWoodPanel 0.0000\t0.0000\n",
            "11\tOrangeLandingPad 0.0000\t0.0000\n",
            "12\tBuoy 0.0000\t0.0000\n",
            "13\tRocks 0.0000\t0.0000\n",
            "14\tLowLevelVegetation 0.0000\t0.0000\n",
            "15\tGrass_Lawn 0.9603\t0.8883\n",
            "16\tSand_Beach 0.0643\t0.0436\n",
            "17\tWater_Lake 0.0000\t0.0000\n",
            "18\tWater_Pond 0.0000\t0.0000\n",
            "19\tAsphalt 0.0000\t0.0000\n",
            "Average: 0.1043,0.0985\n"
          ]
        }
      ]
    },
    {
      "cell_type": "markdown",
      "source": [
        "## Train LinkNet 10"
      ],
      "metadata": {
        "id": "o5MyQYEzKTbh"
      }
    },
    {
      "cell_type": "code",
      "source": [
        "lr = 1e-2\n",
        "num_epochs = 80\n",
        "momentum = 0.9\n",
        "weight_decay=1e-4"
      ],
      "metadata": {
        "id": "P5CMu0GzKTbi"
      },
      "execution_count": null,
      "outputs": []
    },
    {
      "cell_type": "markdown",
      "source": [
        "#### Load or Create the model"
      ],
      "metadata": {
        "id": "AbPBXuWsKTbk"
      }
    },
    {
      "cell_type": "code",
      "source": [
        "model_name = 'link_res_lr10'\n",
        "models[model_name] = {\n",
        "        'model': get_link_resnet_model(),\n",
        "        'path': f\"{folder_path}models/{model_name}_check_points.pt\"}"
      ],
      "metadata": {
        "id": "Q1Bnfy2RKTbk"
      },
      "execution_count": null,
      "outputs": []
    },
    {
      "cell_type": "markdown",
      "source": [
        "#### Set Optimiazers and Train function"
      ],
      "metadata": {
        "id": "lZ0K0pF_KTbm"
      }
    },
    {
      "cell_type": "code",
      "source": [
        "optimizer = optim.SGD(filter(lambda p: p.requires_grad, models[model_name]['model'].parameters()), lr=lr,momentum=momentum,weight_decay=weight_decay)\n",
        "loss_fn = nn.CrossEntropyLoss()\n",
        "scaler = torch.cuda.amp.GradScaler()\n",
        "loss_values[model_name],accuracy_values[model_name] = train( models[model_name]['path'], {'train':train_loader,'val':val_loader}, models[model_name]['model'], optimizer, loss_fn,scaler)\n",
        "plt.plot(loss_values[model_name]['train'], label = \"train loss\")\n",
        "plt.plot(loss_values[model_name]['val'], label = \"val loss\")\n",
        "plt.legend()\n",
        "plt.show()"
      ],
      "metadata": {
        "colab": {
          "base_uri": "https://localhost:8080/",
          "height": 1000
        },
        "outputId": "9f9cebe9-fae7-4ce0-a393-cbd5993de6d3",
        "id": "gubfgw7MKTbm"
      },
      "execution_count": null,
      "outputs": [
        {
          "output_type": "stream",
          "name": "stdout",
          "text": [
            "Epoch 0: Train Loss: 2.55, Val loss: 2.30\n",
            "Epoch 1: Train Loss: 1.83, Val loss: 2.15\n",
            "Epoch 2: Train Loss: 1.63, Val loss: 1.39\n",
            "Epoch 3: Train Loss: 1.56, Val loss: 1.31\n",
            "Epoch 4: Train Loss: 1.42, Val loss: 1.18\n",
            "Epoch 5: Train Loss: 1.30, Val loss: 1.06\n",
            "Epoch 6: Train Loss: 1.18, Val loss: 0.96\n",
            "Epoch 7: Train Loss: 1.14, Val loss: 0.96\n",
            "Epoch 8: Train Loss: 1.04, Val loss: 0.78\n",
            "Epoch 9: Train Loss: 0.95, Val loss: 0.85\n",
            "Epoch 10: Train Loss: 0.96, Val loss: 0.80\n",
            "Epoch 11: Train Loss: 0.92, Val loss: 0.94\n",
            "Epoch 12: Train Loss: 0.89, Val loss: 0.68\n",
            "Epoch 13: Train Loss: 0.88, Val loss: 0.70\n",
            "Epoch 14: Train Loss: 0.82, Val loss: 0.74\n",
            "Epoch 15: Train Loss: 0.78, Val loss: 0.63\n",
            "Epoch 16: Train Loss: 0.73, Val loss: 0.60\n",
            "Epoch 17: Train Loss: 0.75, Val loss: 0.74\n",
            "Epoch 18: Train Loss: 0.66, Val loss: 0.56\n",
            "Epoch 19: Train Loss: 0.70, Val loss: 0.65\n",
            "Epoch 20: Train Loss: 0.62, Val loss: 0.55\n",
            "Epoch 21: Train Loss: 0.66, Val loss: 0.55\n",
            "Epoch 22: Train Loss: 0.61, Val loss: 0.52\n",
            "Epoch 23: Train Loss: 0.55, Val loss: 0.45\n",
            "Epoch 24: Train Loss: 0.61, Val loss: 0.59\n",
            "Epoch 25: Train Loss: 0.62, Val loss: 0.73\n",
            "Epoch 26: Train Loss: 0.53, Val loss: 0.45\n",
            "Epoch 27: Train Loss: 0.54, Val loss: 0.40\n",
            "Epoch 28: Train Loss: 0.49, Val loss: 0.39\n",
            "Epoch 29: Train Loss: 0.46, Val loss: 0.44\n",
            "Epoch 30: Train Loss: 0.46, Val loss: 0.49\n",
            "Epoch 31: Train Loss: 0.42, Val loss: 0.49\n",
            "Epoch 32: Train Loss: 0.38, Val loss: 0.31\n",
            "Epoch 33: Train Loss: 0.38, Val loss: 0.28\n",
            "Epoch 34: Train Loss: 0.35, Val loss: 0.33\n",
            "Epoch 35: Train Loss: 0.37, Val loss: 0.30\n",
            "Epoch 36: Train Loss: 0.42, Val loss: 0.39\n",
            "Epoch 37: Train Loss: 0.33, Val loss: 0.27\n",
            "Epoch 38: Train Loss: 0.29, Val loss: 0.26\n",
            "Epoch 39: Train Loss: 0.24, Val loss: 0.30\n",
            "Epoch 40: Train Loss: 0.24, Val loss: 0.27\n",
            "Epoch 41: Train Loss: 0.30, Val loss: 0.28\n",
            "Epoch 42: Train Loss: 0.28, Val loss: 0.28\n",
            "Epoch 43: Train Loss: 0.24, Val loss: 0.28\n",
            "Epoch 44: Train Loss: 0.23, Val loss: 0.33\n",
            "Epoch 45: Train Loss: 0.18, Val loss: 0.22\n",
            "Epoch 46: Train Loss: 0.20, Val loss: 0.20\n",
            "Epoch 47: Train Loss: 0.19, Val loss: 0.27\n",
            "Epoch 48: Train Loss: 0.20, Val loss: 0.28\n",
            "Epoch 49: Train Loss: 0.26, Val loss: 0.29\n",
            "Epoch 50: Train Loss: 0.21, Val loss: 0.25\n",
            "Epoch 51: Train Loss: 0.17, Val loss: 0.21\n",
            "Epoch 52: Train Loss: 0.18, Val loss: 0.24\n",
            "Epoch 53: Train Loss: 0.17, Val loss: 0.22\n",
            "Epoch 54: Train Loss: 0.17, Val loss: 0.22\n",
            "Epoch 55: Train Loss: 0.15, Val loss: 0.22\n",
            "Epoch 56: Train Loss: 0.19, Val loss: 0.27\n",
            "Epoch 57: Train Loss: 0.17, Val loss: 0.34\n",
            "Epoch 58: Train Loss: 0.20, Val loss: 0.40\n",
            "Epoch 59: Train Loss: 0.21, Val loss: 0.37\n",
            "Epoch 60: Train Loss: 0.24, Val loss: 0.24\n",
            "Epoch 61: Train Loss: 0.19, Val loss: 0.24\n",
            "Epoch 62: Train Loss: 0.22, Val loss: 0.22\n",
            "Epoch 63: Train Loss: 0.20, Val loss: 0.32\n",
            "Epoch 64: Train Loss: 0.16, Val loss: 0.26\n",
            "Epoch 65: Train Loss: 0.17, Val loss: 0.26\n",
            "Epoch 66: Train Loss: 0.16, Val loss: 0.22\n",
            "Epoch 67: Train Loss: 0.14, Val loss: 0.30\n",
            "Epoch 68: Train Loss: 0.13, Val loss: 0.22\n",
            "Epoch 69: Train Loss: 0.11, Val loss: 0.22\n",
            "Epoch 70: Train Loss: 0.11, Val loss: 0.21\n",
            "Epoch 71: Train Loss: 0.11, Val loss: 0.23\n",
            "Epoch 72: Train Loss: 0.10, Val loss: 0.22\n",
            "Epoch 73: Train Loss: 0.09, Val loss: 0.18\n",
            "Epoch 74: Train Loss: 0.09, Val loss: 0.19\n",
            "Epoch 75: Train Loss: 0.11, Val loss: 0.21\n",
            "Epoch 76: Train Loss: 0.09, Val loss: 0.17\n",
            "Epoch 77: Train Loss: 0.08, Val loss: 0.17\n",
            "Epoch 78: Train Loss: 0.08, Val loss: 0.17\n",
            "Epoch 79: Train Loss: 0.08, Val loss: 0.20\n"
          ]
        },
        {
          "output_type": "display_data",
          "data": {
            "text/plain": [
              "<Figure size 432x288 with 1 Axes>"
            ],
            "image/png": "[encoded data removed]"
          },
          "metadata": {
            "needs_background": "light"
          }
        }
      ]
    },
    {
      "cell_type": "markdown",
      "source": [
        "### Check Accuarcy"
      ],
      "metadata": {
        "id": "UyxI8fmWKTbo"
      }
    },
    {
      "cell_type": "code",
      "source": [
        "train_acc_10 = check_accuracy(train_loader, models[model_name]['model'], device=\"cuda\", check_type='train')"
      ],
      "metadata": {
        "id": "pjdn93vbKTbp"
      },
      "execution_count": null,
      "outputs": []
    },
    {
      "cell_type": "code",
      "source": [
        "val_acc_10 = check_accuracy(val_loader, models[model_name]['model'], device=\"cuda\", check_type='val')"
      ],
      "metadata": {
        "id": "GetxlaYkKTbq"
      },
      "execution_count": null,
      "outputs": []
    },
    {
      "cell_type": "code",
      "source": [
        "print_acc(train_acc_10, val_acc_10)"
      ],
      "metadata": {
        "colab": {
          "base_uri": "https://localhost:8080/"
        },
        "outputId": "f6be68a4-a057-4623-f12b-13ad44d5bd5f",
        "id": "WtKvzNJjKTbr"
      },
      "execution_count": null,
      "outputs": [
        {
          "output_type": "stream",
          "name": "stdout",
          "text": [
            "idx\tClasses\t\ttrain\tval\n",
            "2\tRoadMarkings 0.0000\t0.0000\n",
            "3\tTree 0.9855\t0.9768\n",
            "4\tBuilding 0.3546\t0.0165\n",
            "5\tVehicle 0.0000\t0.0000\n",
            "6\tPerson 0.0000\t0.0000\n",
            "7\tLifeguardChair 0.0000\t0.0000\n",
            "8\tPicnicTable 0.0000\t0.0000\n",
            "9\tBlackWoodPanel 0.0000\t0.0000\n",
            "10\tWhiteWoodPanel 0.0000\t0.0000\n",
            "11\tOrangeLandingPad 0.0000\t0.0000\n",
            "12\tBuoy 0.0000\t0.0000\n",
            "13\tRocks 0.9165\t0.6993\n",
            "14\tLowLevelVegetation 0.9259\t0.4494\n",
            "15\tGrass_Lawn 0.9881\t0.9672\n",
            "16\tSand_Beach 0.9862\t0.9475\n",
            "17\tWater_Lake 0.9956\t0.8835\n",
            "18\tWater_Pond 0.9806\t0.7623\n",
            "19\tAsphalt 0.9918\t0.9137\n",
            "Average: 0.4276,0.3482\n"
          ]
        }
      ]
    },
    {
      "cell_type": "markdown",
      "source": [
        "## Train LinkNet 11"
      ],
      "metadata": {
        "id": "TBiCiDCdOMKH"
      }
    },
    {
      "cell_type": "code",
      "source": [
        "lr = 1e-4\n",
        "num_epochs = 80\n",
        "momentum = 0.9\n",
        "weight_decay=1e-4"
      ],
      "metadata": {
        "id": "fWEz3J6SOMKJ"
      },
      "execution_count": null,
      "outputs": []
    },
    {
      "cell_type": "markdown",
      "source": [
        "#### Load or Create the model"
      ],
      "metadata": {
        "id": "2tPQ7tNfOMKK"
      }
    },
    {
      "cell_type": "code",
      "source": [
        "model_name = 'link_res_lr11'\n",
        "models[model_name] = {\n",
        "        'model': get_link_resnet_model(),\n",
        "        'path': f\"{folder_path}models/{model_name}_check_points.pt\"}"
      ],
      "metadata": {
        "id": "26XiotuyOMKL"
      },
      "execution_count": null,
      "outputs": []
    },
    {
      "cell_type": "markdown",
      "source": [
        "#### Set Optimiazers and Train function"
      ],
      "metadata": {
        "id": "kE94_1x0OMKL"
      }
    },
    {
      "cell_type": "code",
      "source": [
        "optimizer = optim.SGD(filter(lambda p: p.requires_grad, models[model_name]['model'].parameters()), lr=lr,momentum=momentum,weight_decay=weight_decay)\n",
        "loss_fn = nn.CrossEntropyLoss()\n",
        "scaler = torch.cuda.amp.GradScaler()\n",
        "loss_values[model_name],accuracy_values[model_name] = train( models[model_name]['path'], {'train':train_loader,'val':val_loader}, models[model_name]['model'], optimizer, loss_fn,scaler)\n",
        "plt.plot(loss_values[model_name]['train'], label = \"train loss\")\n",
        "plt.plot(loss_values[model_name]['val'], label = \"val loss\")\n",
        "plt.legend()\n",
        "plt.show()"
      ],
      "metadata": {
        "colab": {
          "base_uri": "https://localhost:8080/",
          "height": 1000
        },
        "outputId": "33adf2d6-b357-4d7c-8e54-3e2cdf3bb538",
        "id": "oB2d9oCROMKM"
      },
      "execution_count": null,
      "outputs": [
        {
          "output_type": "stream",
          "name": "stdout",
          "text": [
            "Epoch 0: Train Loss: 2.94, Val loss: 2.67\n",
            "Epoch 1: Train Loss: 2.92, Val loss: 2.68\n",
            "Epoch 2: Train Loss: 2.91, Val loss: 2.68\n",
            "Epoch 3: Train Loss: 2.90, Val loss: 2.67\n",
            "Epoch 4: Train Loss: 2.89, Val loss: 2.66\n",
            "Epoch 5: Train Loss: 2.88, Val loss: 2.65\n",
            "Epoch 6: Train Loss: 2.87, Val loss: 2.64\n",
            "Epoch 7: Train Loss: 2.86, Val loss: 2.63\n",
            "Epoch 8: Train Loss: 2.85, Val loss: 2.62\n",
            "Epoch 9: Train Loss: 2.84, Val loss: 2.61\n",
            "Epoch 10: Train Loss: 2.83, Val loss: 2.60\n",
            "Epoch 11: Train Loss: 2.82, Val loss: 2.59\n",
            "Epoch 12: Train Loss: 2.81, Val loss: 2.58\n",
            "Epoch 13: Train Loss: 2.80, Val loss: 2.57\n",
            "Epoch 14: Train Loss: 2.79, Val loss: 2.57\n",
            "Epoch 15: Train Loss: 2.78, Val loss: 2.56\n",
            "Epoch 16: Train Loss: 2.77, Val loss: 2.55\n",
            "Epoch 17: Train Loss: 2.76, Val loss: 2.54\n",
            "Epoch 18: Train Loss: 2.75, Val loss: 2.53\n",
            "Epoch 19: Train Loss: 2.74, Val loss: 2.52\n",
            "Epoch 20: Train Loss: 2.73, Val loss: 2.51\n",
            "Epoch 21: Train Loss: 2.72, Val loss: 2.50\n",
            "Epoch 22: Train Loss: 2.71, Val loss: 2.49\n",
            "Epoch 23: Train Loss: 2.70, Val loss: 2.48\n",
            "Epoch 24: Train Loss: 2.69, Val loss: 2.48\n",
            "Epoch 25: Train Loss: 2.68, Val loss: 2.47\n",
            "Epoch 26: Train Loss: 2.67, Val loss: 2.46\n",
            "Epoch 27: Train Loss: 2.66, Val loss: 2.45\n",
            "Epoch 28: Train Loss: 2.65, Val loss: 2.44\n",
            "Epoch 29: Train Loss: 2.64, Val loss: 2.43\n",
            "Epoch 30: Train Loss: 2.63, Val loss: 2.42\n",
            "Epoch 31: Train Loss: 2.62, Val loss: 2.41\n",
            "Epoch 32: Train Loss: 2.61, Val loss: 2.40\n",
            "Epoch 33: Train Loss: 2.60, Val loss: 2.40\n",
            "Epoch 34: Train Loss: 2.60, Val loss: 2.38\n",
            "Epoch 35: Train Loss: 2.59, Val loss: 2.38\n",
            "Epoch 36: Train Loss: 2.57, Val loss: 2.37\n",
            "Epoch 37: Train Loss: 2.57, Val loss: 2.36\n",
            "Epoch 38: Train Loss: 2.55, Val loss: 2.35\n",
            "Epoch 39: Train Loss: 2.54, Val loss: 2.34\n",
            "Epoch 40: Train Loss: 2.54, Val loss: 2.33\n",
            "Epoch 41: Train Loss: 2.52, Val loss: 2.32\n",
            "Epoch 42: Train Loss: 2.52, Val loss: 2.31\n",
            "Epoch 43: Train Loss: 2.50, Val loss: 2.30\n",
            "Epoch 44: Train Loss: 2.49, Val loss: 2.29\n",
            "Epoch 45: Train Loss: 2.48, Val loss: 2.28\n",
            "Epoch 46: Train Loss: 2.47, Val loss: 2.27\n",
            "Epoch 47: Train Loss: 2.46, Val loss: 2.26\n",
            "Epoch 48: Train Loss: 2.45, Val loss: 2.25\n",
            "Epoch 49: Train Loss: 2.44, Val loss: 2.24\n",
            "Epoch 50: Train Loss: 2.43, Val loss: 2.23\n",
            "Epoch 51: Train Loss: 2.42, Val loss: 2.22\n",
            "Epoch 52: Train Loss: 2.40, Val loss: 2.21\n",
            "Epoch 53: Train Loss: 2.40, Val loss: 2.20\n",
            "Epoch 54: Train Loss: 2.39, Val loss: 2.19\n",
            "Epoch 55: Train Loss: 2.37, Val loss: 2.18\n",
            "Epoch 56: Train Loss: 2.36, Val loss: 2.17\n",
            "Epoch 57: Train Loss: 2.35, Val loss: 2.16\n",
            "Epoch 58: Train Loss: 2.35, Val loss: 2.15\n",
            "Epoch 59: Train Loss: 2.33, Val loss: 2.13\n",
            "Epoch 60: Train Loss: 2.32, Val loss: 2.12\n",
            "Epoch 61: Train Loss: 2.31, Val loss: 2.11\n",
            "Epoch 62: Train Loss: 2.29, Val loss: 2.10\n",
            "Epoch 63: Train Loss: 2.28, Val loss: 2.09\n",
            "Epoch 64: Train Loss: 2.27, Val loss: 2.07\n",
            "Epoch 65: Train Loss: 2.26, Val loss: 2.07\n",
            "Epoch 66: Train Loss: 2.25, Val loss: 2.05\n",
            "Epoch 67: Train Loss: 2.24, Val loss: 2.04\n",
            "Epoch 68: Train Loss: 2.23, Val loss: 2.03\n",
            "Epoch 69: Train Loss: 2.21, Val loss: 2.02\n",
            "Epoch 70: Train Loss: 2.20, Val loss: 2.01\n",
            "Epoch 71: Train Loss: 2.19, Val loss: 2.00\n",
            "Epoch 72: Train Loss: 2.17, Val loss: 1.99\n",
            "Epoch 73: Train Loss: 2.17, Val loss: 1.98\n",
            "Epoch 74: Train Loss: 2.15, Val loss: 1.96\n",
            "Epoch 75: Train Loss: 2.14, Val loss: 1.95\n",
            "Epoch 76: Train Loss: 2.13, Val loss: 1.95\n",
            "Epoch 77: Train Loss: 2.13, Val loss: 1.92\n",
            "Epoch 78: Train Loss: 2.10, Val loss: 1.92\n",
            "Epoch 79: Train Loss: 2.10, Val loss: 1.90\n"
          ]
        },
        {
          "output_type": "display_data",
          "data": {
            "text/plain": [
              "<Figure size 432x288 with 1 Axes>"
            ],
            "image/png": "[encoded data removed]"
          },
          "metadata": {
            "needs_background": "light"
          }
        }
      ]
    },
    {
      "cell_type": "markdown",
      "source": [
        "### Check Accuarcy"
      ],
      "metadata": {
        "id": "psYuHSEtOMKO"
      }
    },
    {
      "cell_type": "code",
      "source": [
        "train_acc_11 = check_accuracy(train_loader, models[model_name]['model'], device=\"cuda\", check_type='train')"
      ],
      "metadata": {
        "id": "VqkC6vQJOMKP"
      },
      "execution_count": null,
      "outputs": []
    },
    {
      "cell_type": "code",
      "source": [
        "val_acc_11 = check_accuracy(val_loader, models[model_name]['model'], device=\"cuda\", check_type='val')"
      ],
      "metadata": {
        "id": "yyDl7WwTOMKQ"
      },
      "execution_count": null,
      "outputs": []
    },
    {
      "cell_type": "code",
      "source": [
        "print_acc(train_acc_11, val_acc_11)"
      ],
      "metadata": {
        "colab": {
          "base_uri": "https://localhost:8080/"
        },
        "outputId": "a4180074-7c45-48a6-b7b0-e81142b1e130",
        "id": "z5KeWQlLOMKR"
      },
      "execution_count": null,
      "outputs": [
        {
          "output_type": "stream",
          "name": "stdout",
          "text": [
            "idx\tClasses\t\ttrain\tval\n",
            "2\tRoadMarkings 0.0000\t0.0000\n",
            "3\tTree 0.0000\t0.0000\n",
            "4\tBuilding 0.0000\t0.0000\n",
            "5\tVehicle 0.0000\t0.0000\n",
            "6\tPerson 0.0000\t0.0000\n",
            "7\tLifeguardChair 0.0000\t0.0000\n",
            "8\tPicnicTable 0.0000\t0.0000\n",
            "9\tBlackWoodPanel 0.0000\t0.0000\n",
            "10\tWhiteWoodPanel 0.0000\t0.0000\n",
            "11\tOrangeLandingPad 0.0000\t0.0000\n",
            "12\tBuoy 0.0000\t0.0000\n",
            "13\tRocks 0.0000\t0.0000\n",
            "14\tLowLevelVegetation 0.0000\t0.0000\n",
            "15\tGrass_Lawn 0.0516\t0.0259\n",
            "16\tSand_Beach 0.0000\t0.0000\n",
            "17\tWater_Lake 0.0000\t0.0000\n",
            "18\tWater_Pond 0.0000\t0.0000\n",
            "19\tAsphalt 0.0000\t0.0000\n",
            "Average: 0.0027,0.0014\n"
          ]
        }
      ]
    },
    {
      "cell_type": "markdown",
      "source": [
        "## Train LinkNet 12"
      ],
      "metadata": {
        "id": "-CyBn0A7S_io"
      }
    },
    {
      "cell_type": "code",
      "source": [
        "lr = 1e-3\n",
        "batch_size=32\n",
        "num_epochs = 80"
      ],
      "metadata": {
        "id": "5wbykG3oS_iq"
      },
      "execution_count": 18,
      "outputs": []
    },
    {
      "cell_type": "markdown",
      "source": [
        "#### Load or Create the model"
      ],
      "metadata": {
        "id": "SSObCO-XS_it"
      }
    },
    {
      "cell_type": "code",
      "source": [
        "model_name = 'link_res_lr12'\n",
        "models[model_name] = {\n",
        "        'model': get_link_resnet_model(),\n",
        "        'path': f\"{folder_path}models/{model_name}_check_points.pt\"}"
      ],
      "metadata": {
        "id": "pWUvmIFLS_iv"
      },
      "execution_count": 19,
      "outputs": []
    },
    {
      "cell_type": "markdown",
      "source": [
        "#### Set Optimiazers and Train function"
      ],
      "metadata": {
        "id": "XwwslRHGS_iw"
      }
    },
    {
      "cell_type": "code",
      "source": [
        "optimizer = optim.Adam(filter(lambda p: p.requires_grad, models[model_name]['model'].parameters()), lr=lr)\n",
        "loss_fn = nn.CrossEntropyLoss()\n",
        "scaler = torch.cuda.amp.GradScaler()\n",
        "loss_values[model_name],accuracy_values[model_name] = train( models[model_name]['path'], {'train':train_loader,'val':val_loader}, models[model_name]['model'], optimizer, loss_fn,scaler)\n",
        "plt.plot(loss_values[model_name]['train'], label = \"train loss\")\n",
        "plt.plot(loss_values[model_name]['val'], label = \"val loss\")\n",
        "plt.legend()\n",
        "plt.show()"
      ],
      "metadata": {
        "colab": {
          "base_uri": "https://localhost:8080/",
          "height": 1000
        },
        "outputId": "6196352b-5488-414b-c511-c76f65d6fe45",
        "id": "yvWVEcPJS_ix"
      },
      "execution_count": 20,
      "outputs": [
        {
          "output_type": "stream",
          "name": "stdout",
          "text": [
            "Epoch 0: Train Loss: 2.53, Val loss: 2.25\n",
            "Epoch 1: Train Loss: 2.14, Val loss: 2.10\n",
            "Epoch 2: Train Loss: 1.85, Val loss: 1.98\n",
            "Epoch 3: Train Loss: 1.62, Val loss: 1.92\n",
            "Epoch 4: Train Loss: 1.48, Val loss: 1.89\n",
            "Epoch 5: Train Loss: 1.35, Val loss: 1.72\n",
            "Epoch 6: Train Loss: 1.29, Val loss: 1.12\n",
            "Epoch 7: Train Loss: 1.19, Val loss: 0.92\n",
            "Epoch 8: Train Loss: 1.17, Val loss: 0.93\n",
            "Epoch 9: Train Loss: 1.09, Val loss: 0.89\n",
            "Epoch 10: Train Loss: 1.01, Val loss: 1.22\n",
            "Epoch 11: Train Loss: 0.99, Val loss: 1.46\n",
            "Epoch 12: Train Loss: 0.93, Val loss: 0.82\n",
            "Epoch 13: Train Loss: 0.93, Val loss: 0.77\n",
            "Epoch 14: Train Loss: 0.87, Val loss: 1.29\n",
            "Epoch 15: Train Loss: 0.85, Val loss: 0.72\n",
            "Epoch 16: Train Loss: 0.80, Val loss: 0.71\n",
            "Epoch 17: Train Loss: 0.81, Val loss: 0.78\n",
            "Epoch 18: Train Loss: 0.79, Val loss: 0.63\n",
            "Epoch 19: Train Loss: 0.71, Val loss: 0.54\n",
            "Epoch 20: Train Loss: 0.67, Val loss: 1.09\n",
            "Epoch 21: Train Loss: 0.65, Val loss: 0.58\n",
            "Epoch 22: Train Loss: 0.68, Val loss: 1.37\n",
            "Epoch 23: Train Loss: 0.66, Val loss: 0.48\n",
            "Epoch 24: Train Loss: 0.66, Val loss: 0.59\n",
            "Epoch 25: Train Loss: 0.60, Val loss: 0.46\n",
            "Epoch 26: Train Loss: 0.59, Val loss: 0.42\n",
            "Epoch 27: Train Loss: 0.57, Val loss: 0.53\n",
            "Epoch 28: Train Loss: 0.59, Val loss: 1.27\n",
            "Epoch 29: Train Loss: 0.53, Val loss: 1.02\n",
            "Epoch 30: Train Loss: 0.53, Val loss: 0.42\n",
            "Epoch 31: Train Loss: 0.48, Val loss: 0.38\n",
            "Epoch 32: Train Loss: 0.51, Val loss: 1.10\n",
            "Epoch 33: Train Loss: 0.52, Val loss: 0.40\n",
            "Epoch 34: Train Loss: 0.53, Val loss: 0.56\n",
            "Epoch 35: Train Loss: 0.51, Val loss: 0.35\n",
            "Epoch 36: Train Loss: 0.49, Val loss: 0.45\n",
            "Epoch 37: Train Loss: 0.45, Val loss: 0.34\n",
            "Epoch 38: Train Loss: 0.41, Val loss: 1.00\n",
            "Epoch 39: Train Loss: 0.45, Val loss: 0.32\n",
            "Epoch 40: Train Loss: 0.40, Val loss: 0.36\n",
            "Epoch 41: Train Loss: 0.41, Val loss: 0.31\n",
            "Epoch 42: Train Loss: 0.43, Val loss: 1.43\n",
            "Epoch 43: Train Loss: 0.38, Val loss: 0.46\n",
            "Epoch 44: Train Loss: 0.38, Val loss: 0.29\n",
            "Epoch 45: Train Loss: 0.38, Val loss: 0.29\n",
            "Epoch 46: Train Loss: 0.42, Val loss: 0.47\n",
            "Epoch 47: Train Loss: 0.37, Val loss: 1.38\n",
            "Epoch 48: Train Loss: 0.33, Val loss: 0.34\n",
            "Epoch 49: Train Loss: 0.33, Val loss: 0.26\n",
            "Epoch 50: Train Loss: 0.32, Val loss: 0.67\n",
            "Epoch 51: Train Loss: 0.29, Val loss: 0.29\n",
            "Epoch 52: Train Loss: 0.29, Val loss: 0.64\n",
            "Epoch 53: Train Loss: 0.34, Val loss: 0.70\n",
            "Epoch 54: Train Loss: 0.29, Val loss: 0.33\n",
            "Epoch 55: Train Loss: 0.34, Val loss: 0.36\n",
            "Epoch 56: Train Loss: 0.28, Val loss: 0.33\n",
            "Epoch 57: Train Loss: 0.25, Val loss: 0.26\n",
            "Epoch 58: Train Loss: 0.24, Val loss: 0.22\n",
            "Epoch 59: Train Loss: 0.21, Val loss: 0.25\n",
            "Epoch 60: Train Loss: 0.26, Val loss: 0.27\n",
            "Epoch 61: Train Loss: 0.26, Val loss: 0.29\n",
            "Epoch 62: Train Loss: 0.26, Val loss: 0.23\n",
            "Epoch 63: Train Loss: 0.27, Val loss: 0.27\n",
            "Epoch 64: Train Loss: 0.26, Val loss: 0.34\n",
            "Epoch 65: Train Loss: 0.24, Val loss: 0.38\n",
            "Epoch 66: Train Loss: 0.23, Val loss: 0.32\n",
            "Epoch 67: Train Loss: 0.21, Val loss: 0.23\n",
            "Epoch 68: Train Loss: 0.25, Val loss: 0.27\n",
            "Epoch 69: Train Loss: 0.22, Val loss: 0.30\n",
            "Epoch 70: Train Loss: 0.20, Val loss: 0.20\n",
            "Epoch 71: Train Loss: 0.20, Val loss: 0.43\n",
            "Epoch 72: Train Loss: 0.19, Val loss: 0.24\n",
            "Epoch 73: Train Loss: 0.19, Val loss: 0.28\n",
            "Epoch 74: Train Loss: 0.19, Val loss: 0.24\n",
            "Epoch 75: Train Loss: 0.24, Val loss: 0.34\n",
            "Epoch 76: Train Loss: 0.23, Val loss: 0.24\n",
            "Epoch 77: Train Loss: 0.19, Val loss: 0.24\n",
            "Epoch 78: Train Loss: 0.19, Val loss: 0.26\n",
            "Epoch 79: Train Loss: 0.18, Val loss: 1.20\n"
          ]
        },
        {
          "output_type": "display_data",
          "data": {
            "text/plain": [
              "<Figure size 432x288 with 1 Axes>"
            ],
            "image/png": "[encoded data removed]"
          },
          "metadata": {
            "needs_background": "light"
          }
        }
      ]
    },
    {
      "cell_type": "markdown",
      "source": [
        "### Check Accuarcy"
      ],
      "metadata": {
        "id": "aXnlJ4YES_iy"
      }
    },
    {
      "cell_type": "code",
      "source": [
        "train_acc_12 = check_accuracy(train_loader, models[model_name]['model'], device=\"cuda\", check_type='train')"
      ],
      "metadata": {
        "id": "HdBTMtfcS_iz"
      },
      "execution_count": 21,
      "outputs": []
    },
    {
      "cell_type": "code",
      "source": [
        "val_acc_12 = check_accuracy(val_loader, models[model_name]['model'], device=\"cuda\", check_type='val')"
      ],
      "metadata": {
        "id": "5xJSKlGwS_i0"
      },
      "execution_count": 22,
      "outputs": []
    },
    {
      "cell_type": "code",
      "source": [
        "print_acc(train_acc_12, val_acc_12)"
      ],
      "metadata": {
        "colab": {
          "base_uri": "https://localhost:8080/"
        },
        "outputId": "068b6553-db24-4ecf-ee7b-8ac32cde65c2",
        "id": "NvimdcJwS_i2"
      },
      "execution_count": 23,
      "outputs": [
        {
          "output_type": "stream",
          "name": "stdout",
          "text": [
            "idx\tClasses\t\ttrain\tval\n",
            "2\tRoadMarkings 0.0000\t0.0000\n",
            "3\tTree 0.9704\t0.9399\n",
            "4\tBuilding 0.0000\t0.0000\n",
            "5\tVehicle 0.0000\t0.0000\n",
            "6\tPerson 0.0000\t0.0000\n",
            "7\tLifeguardChair 0.0000\t0.0000\n",
            "8\tPicnicTable 0.0000\t0.0000\n",
            "9\tBlackWoodPanel 0.0000\t0.0000\n",
            "10\tWhiteWoodPanel 0.0000\t0.0000\n",
            "11\tOrangeLandingPad 0.0000\t0.0000\n",
            "12\tBuoy 0.0000\t0.0000\n",
            "13\tRocks 0.6280\t0.4809\n",
            "14\tLowLevelVegetation 0.0000\t0.0000\n",
            "15\tGrass_Lawn 0.9789\t0.9644\n",
            "16\tSand_Beach 0.9559\t0.8735\n",
            "17\tWater_Lake 0.9902\t0.9422\n",
            "18\tWater_Pond 0.8729\t0.5441\n",
            "19\tAsphalt 0.9606\t0.8535\n",
            "Average: 0.3346,0.2947\n"
          ]
        }
      ]
    },
    {
      "cell_type": "markdown",
      "source": [
        "## Train LinkNet 13\n",
        "batch_size=32"
      ],
      "metadata": {
        "id": "BT66MgaOZL3Z"
      }
    },
    {
      "cell_type": "code",
      "source": [
        "lr = 1e-3\n",
        "batch_size=32\n",
        "num_epochs = 100"
      ],
      "metadata": {
        "id": "VQbff5qEZQ_G"
      },
      "execution_count": 24,
      "outputs": []
    },
    {
      "cell_type": "markdown",
      "source": [
        "#### Load or Create the model"
      ],
      "metadata": {
        "id": "d5kjSGsPZQ_I"
      }
    },
    {
      "cell_type": "code",
      "source": [
        "model_name = 'link_res_lr13'\n",
        "models[model_name] = {\n",
        "        'model': get_link_resnet_model(),\n",
        "        'path': f\"{folder_path}models/{model_name}_check_points.pt\"}"
      ],
      "metadata": {
        "id": "BpzsqsFsZQ_K"
      },
      "execution_count": 25,
      "outputs": []
    },
    {
      "cell_type": "markdown",
      "source": [
        "#### Set Optimiazers and Train function"
      ],
      "metadata": {
        "id": "xo-1bym_ZQ_L"
      }
    },
    {
      "cell_type": "code",
      "source": [
        "optimizer = optim.Adam(filter(lambda p: p.requires_grad, models[model_name]['model'].parameters()), lr=lr)\n",
        "loss_fn = nn.CrossEntropyLoss()\n",
        "scaler = torch.cuda.amp.GradScaler()\n",
        "loss_values[model_name],accuracy_values[model_name] = train( models[model_name]['path'], {'train':train_loader,'val':val_loader}, models[model_name]['model'], optimizer, loss_fn,scaler)\n",
        "plt.plot(loss_values[model_name]['train'], label = \"train loss\")\n",
        "plt.plot(loss_values[model_name]['val'], label = \"val loss\")\n",
        "plt.legend()\n",
        "plt.show()"
      ],
      "metadata": {
        "colab": {
          "base_uri": "https://localhost:8080/",
          "height": 1000
        },
        "outputId": "e859c265-e6f6-4411-efb2-4627865709b4",
        "id": "iCvYBsIhZQ_M"
      },
      "execution_count": 26,
      "outputs": [
        {
          "output_type": "stream",
          "name": "stdout",
          "text": [
            "Epoch 0: Train Loss: 2.58, Val loss: 2.24\n",
            "Epoch 1: Train Loss: 2.16, Val loss: 2.10\n",
            "Epoch 2: Train Loss: 1.83, Val loss: 2.05\n",
            "Epoch 3: Train Loss: 1.60, Val loss: 1.97\n",
            "Epoch 4: Train Loss: 1.44, Val loss: 1.88\n",
            "Epoch 5: Train Loss: 1.29, Val loss: 1.69\n",
            "Epoch 6: Train Loss: 1.17, Val loss: 0.97\n",
            "Epoch 7: Train Loss: 1.10, Val loss: 0.95\n",
            "Epoch 8: Train Loss: 1.06, Val loss: 0.86\n",
            "Epoch 9: Train Loss: 0.96, Val loss: 0.93\n",
            "Epoch 10: Train Loss: 0.91, Val loss: 0.69\n",
            "Epoch 11: Train Loss: 0.84, Val loss: 0.69\n",
            "Epoch 12: Train Loss: 0.82, Val loss: 0.74\n",
            "Epoch 13: Train Loss: 0.80, Val loss: 0.80\n",
            "Epoch 14: Train Loss: 0.77, Val loss: 0.62\n",
            "Epoch 15: Train Loss: 0.73, Val loss: 0.66\n",
            "Epoch 16: Train Loss: 0.73, Val loss: 0.77\n",
            "Epoch 17: Train Loss: 0.72, Val loss: 0.50\n",
            "Epoch 18: Train Loss: 0.70, Val loss: 0.48\n",
            "Epoch 19: Train Loss: 0.68, Val loss: 0.65\n",
            "Epoch 20: Train Loss: 0.67, Val loss: 0.88\n",
            "Epoch 21: Train Loss: 0.64, Val loss: 0.47\n",
            "Epoch 22: Train Loss: 0.62, Val loss: 0.50\n",
            "Epoch 23: Train Loss: 0.56, Val loss: 0.41\n",
            "Epoch 24: Train Loss: 0.57, Val loss: 0.45\n",
            "Epoch 25: Train Loss: 0.57, Val loss: 0.44\n",
            "Epoch 26: Train Loss: 0.57, Val loss: 0.95\n",
            "Epoch 27: Train Loss: 0.61, Val loss: 0.47\n",
            "Epoch 28: Train Loss: 0.58, Val loss: 0.67\n",
            "Epoch 29: Train Loss: 0.55, Val loss: 0.38\n",
            "Epoch 30: Train Loss: 0.54, Val loss: 1.15\n",
            "Epoch 31: Train Loss: 0.51, Val loss: 0.73\n",
            "Epoch 32: Train Loss: 0.53, Val loss: 0.44\n",
            "Epoch 33: Train Loss: 0.51, Val loss: 0.48\n",
            "Epoch 34: Train Loss: 0.52, Val loss: 0.39\n",
            "Epoch 35: Train Loss: 0.51, Val loss: 0.37\n",
            "Epoch 36: Train Loss: 0.43, Val loss: 0.38\n",
            "Epoch 37: Train Loss: 0.44, Val loss: 1.07\n",
            "Epoch 38: Train Loss: 0.42, Val loss: 0.30\n",
            "Epoch 39: Train Loss: 0.43, Val loss: 0.32\n",
            "Epoch 40: Train Loss: 0.44, Val loss: 0.31\n",
            "Epoch 41: Train Loss: 0.38, Val loss: 0.28\n",
            "Epoch 42: Train Loss: 0.36, Val loss: 0.27\n",
            "Epoch 43: Train Loss: 0.36, Val loss: 0.31\n",
            "Epoch 44: Train Loss: 0.37, Val loss: 0.39\n",
            "Epoch 45: Train Loss: 0.37, Val loss: 0.33\n",
            "Epoch 46: Train Loss: 0.31, Val loss: 0.30\n",
            "Epoch 47: Train Loss: 0.37, Val loss: 0.31\n",
            "Epoch 48: Train Loss: 0.39, Val loss: 0.29\n",
            "Epoch 49: Train Loss: 0.37, Val loss: 0.24\n",
            "Epoch 50: Train Loss: 0.31, Val loss: 0.30\n",
            "Epoch 51: Train Loss: 0.32, Val loss: 0.25\n",
            "Epoch 52: Train Loss: 0.27, Val loss: 0.20\n",
            "Epoch 53: Train Loss: 0.28, Val loss: 0.29\n",
            "Epoch 54: Train Loss: 0.32, Val loss: 0.26\n",
            "Epoch 55: Train Loss: 0.30, Val loss: 0.26\n",
            "Epoch 56: Train Loss: 0.35, Val loss: 0.36\n",
            "Epoch 57: Train Loss: 0.36, Val loss: 0.64\n",
            "Epoch 58: Train Loss: 0.31, Val loss: 0.54\n",
            "Epoch 59: Train Loss: 0.32, Val loss: 1.51\n",
            "Epoch 60: Train Loss: 0.28, Val loss: 0.50\n",
            "Epoch 61: Train Loss: 0.32, Val loss: 0.35\n",
            "Epoch 62: Train Loss: 0.28, Val loss: 0.30\n",
            "Epoch 63: Train Loss: 0.28, Val loss: 0.92\n",
            "Epoch 64: Train Loss: 0.23, Val loss: 0.28\n",
            "Epoch 65: Train Loss: 0.23, Val loss: 0.44\n",
            "Epoch 66: Train Loss: 0.24, Val loss: 0.18\n",
            "Epoch 67: Train Loss: 0.24, Val loss: 0.23\n",
            "Epoch 68: Train Loss: 0.20, Val loss: 0.18\n",
            "Epoch 69: Train Loss: 0.21, Val loss: 0.20\n",
            "Epoch 70: Train Loss: 0.23, Val loss: 0.25\n",
            "Epoch 71: Train Loss: 0.19, Val loss: 0.18\n",
            "Epoch 72: Train Loss: 0.20, Val loss: 0.18\n",
            "Epoch 73: Train Loss: 0.18, Val loss: 0.19\n",
            "Epoch 74: Train Loss: 0.17, Val loss: 0.17\n",
            "Epoch 75: Train Loss: 0.15, Val loss: 0.21\n",
            "Epoch 76: Train Loss: 0.16, Val loss: 0.17\n",
            "Epoch 77: Train Loss: 0.16, Val loss: 0.14\n",
            "Epoch 78: Train Loss: 0.15, Val loss: 0.16\n",
            "Epoch 79: Train Loss: 0.13, Val loss: 0.16\n",
            "Epoch 80: Train Loss: 0.17, Val loss: 0.20\n",
            "Epoch 81: Train Loss: 0.17, Val loss: 0.27\n",
            "Epoch 82: Train Loss: 0.17, Val loss: 0.20\n",
            "Epoch 83: Train Loss: 0.14, Val loss: 0.19\n",
            "Epoch 84: Train Loss: 0.13, Val loss: 0.16\n",
            "Epoch 85: Train Loss: 0.13, Val loss: 0.14\n",
            "Epoch 86: Train Loss: 0.13, Val loss: 0.16\n",
            "Epoch 87: Train Loss: 0.11, Val loss: 0.16\n",
            "Epoch 88: Train Loss: 0.11, Val loss: 0.16\n",
            "Epoch 89: Train Loss: 0.10, Val loss: 0.19\n",
            "Epoch 90: Train Loss: 0.10, Val loss: 0.14\n",
            "Epoch 91: Train Loss: 0.10, Val loss: 0.17\n",
            "Epoch 92: Train Loss: 0.10, Val loss: 0.18\n",
            "Epoch 93: Train Loss: 0.09, Val loss: 0.15\n",
            "Epoch 94: Train Loss: 0.08, Val loss: 0.12\n",
            "Epoch 95: Train Loss: 0.12, Val loss: 0.15\n",
            "Epoch 96: Train Loss: 0.09, Val loss: 0.17\n",
            "Epoch 97: Train Loss: 0.10, Val loss: 0.25\n",
            "Epoch 98: Train Loss: 0.10, Val loss: 0.18\n",
            "Epoch 99: Train Loss: 0.14, Val loss: 0.29\n"
          ]
        },
        {
          "output_type": "display_data",
          "data": {
            "text/plain": [
              "<Figure size 432x288 with 1 Axes>"
            ],
            "image/png": "[encoded data removed]"
          },
          "metadata": {
            "needs_background": "light"
          }
        }
      ]
    },
    {
      "cell_type": "markdown",
      "source": [
        "### Check Accuarcy"
      ],
      "metadata": {
        "id": "f0URsAhSZQ_N"
      }
    },
    {
      "cell_type": "code",
      "source": [
        "train_acc_13 = check_accuracy(train_loader, models[model_name]['model'], device=\"cuda\", check_type='train')"
      ],
      "metadata": {
        "id": "yPxmPny8ZQ_O"
      },
      "execution_count": 27,
      "outputs": []
    },
    {
      "cell_type": "code",
      "source": [
        "val_acc_13 = check_accuracy(val_loader, models[model_name]['model'], device=\"cuda\", check_type='val')"
      ],
      "metadata": {
        "id": "A30Q-COdZQ_V"
      },
      "execution_count": 28,
      "outputs": []
    },
    {
      "cell_type": "code",
      "source": [
        "print_acc(train_acc_13, val_acc_13)"
      ],
      "metadata": {
        "colab": {
          "base_uri": "https://localhost:8080/"
        },
        "outputId": "288b4c83-170f-4798-a966-c3c02341f5b4",
        "id": "fJ9rlXNEZQ_Z"
      },
      "execution_count": 29,
      "outputs": [
        {
          "output_type": "stream",
          "name": "stdout",
          "text": [
            "idx\tClasses\t\ttrain\tval\n",
            "2\tRoadMarkings 0.0000\t0.0000\n",
            "3\tTree 0.9775\t0.9558\n",
            "4\tBuilding 0.3439\t0.0000\n",
            "5\tVehicle 0.0000\t0.0000\n",
            "6\tPerson 0.0000\t0.0000\n",
            "7\tLifeguardChair 0.0000\t0.0000\n",
            "8\tPicnicTable 0.0000\t0.0000\n",
            "9\tBlackWoodPanel 0.0000\t0.0000\n",
            "10\tWhiteWoodPanel 0.0000\t0.0000\n",
            "11\tOrangeLandingPad 0.0000\t0.0000\n",
            "12\tBuoy 0.0000\t0.0000\n",
            "13\tRocks 0.8949\t0.7972\n",
            "14\tLowLevelVegetation 0.8412\t0.2209\n",
            "15\tGrass_Lawn 0.7627\t0.7796\n",
            "16\tSand_Beach 0.9653\t0.8849\n",
            "17\tWater_Lake 0.9930\t0.9847\n",
            "18\tWater_Pond 0.8914\t0.3248\n",
            "19\tAsphalt 0.9412\t0.8389\n",
            "Average: 0.4006,0.3046\n"
          ]
        }
      ]
    },
    {
      "cell_type": "markdown",
      "source": [
        "## Train LinkNet 14"
      ],
      "metadata": {
        "id": "hqwoXVBecqTJ"
      }
    },
    {
      "cell_type": "code",
      "source": [
        "lr = 1e-3\n",
        "batch_size=32\n",
        "num_epochs = 100\n",
        "weight_decay=1e-4"
      ],
      "metadata": {
        "id": "MCTZ0U6tcqTK"
      },
      "execution_count": 30,
      "outputs": []
    },
    {
      "cell_type": "markdown",
      "source": [
        "#### Load or Create the model"
      ],
      "metadata": {
        "id": "cxBWzaW7cqTL"
      }
    },
    {
      "cell_type": "code",
      "source": [
        "model_name = 'link_res_lr14'\n",
        "models[model_name] = {\n",
        "        'model': get_link_resnet_model(),\n",
        "        'path': f\"{folder_path}models/{model_name}_check_points.pt\"}"
      ],
      "metadata": {
        "id": "-PuPZqBZcqTM"
      },
      "execution_count": 31,
      "outputs": []
    },
    {
      "cell_type": "markdown",
      "source": [
        "#### Set Optimiazers and Train function"
      ],
      "metadata": {
        "id": "C95lCtANcqTN"
      }
    },
    {
      "cell_type": "code",
      "source": [
        "optimizer = optim.Adam(filter(lambda p: p.requires_grad, models[model_name]['model'].parameters()), lr=lr)\n",
        "loss_fn = nn.CrossEntropyLoss()\n",
        "scaler = torch.cuda.amp.GradScaler()\n",
        "loss_values[model_name],accuracy_values[model_name] = train( models[model_name]['path'], {'train':train_loader,'val':val_loader}, models[model_name]['model'], optimizer, loss_fn,scaler)\n",
        "plt.plot(loss_values[model_name]['train'], label = \"train loss\")\n",
        "plt.plot(loss_values[model_name]['val'], label = \"val loss\")\n",
        "plt.legend()\n",
        "plt.show()"
      ],
      "metadata": {
        "colab": {
          "base_uri": "https://localhost:8080/",
          "height": 1000
        },
        "outputId": "c1df7f07-46f8-4b61-d0f2-a9df6a8e7fc5",
        "id": "iA3dAYTWcqTO"
      },
      "execution_count": 32,
      "outputs": [
        {
          "output_type": "stream",
          "name": "stdout",
          "text": [
            "Epoch 0: Train Loss: 2.56, Val loss: 2.24\n",
            "Epoch 1: Train Loss: 2.15, Val loss: 2.08\n",
            "Epoch 2: Train Loss: 1.84, Val loss: 1.95\n",
            "Epoch 3: Train Loss: 1.60, Val loss: 1.94\n",
            "Epoch 4: Train Loss: 1.42, Val loss: 1.93\n",
            "Epoch 5: Train Loss: 1.30, Val loss: 1.65\n",
            "Epoch 6: Train Loss: 1.19, Val loss: 1.56\n",
            "Epoch 7: Train Loss: 1.09, Val loss: 0.99\n",
            "Epoch 8: Train Loss: 1.04, Val loss: 0.91\n",
            "Epoch 9: Train Loss: 1.01, Val loss: 0.77\n",
            "Epoch 10: Train Loss: 0.93, Val loss: 0.87\n",
            "Epoch 11: Train Loss: 0.90, Val loss: 0.87\n",
            "Epoch 12: Train Loss: 0.89, Val loss: 1.31\n",
            "Epoch 13: Train Loss: 0.85, Val loss: 0.64\n",
            "Epoch 14: Train Loss: 0.82, Val loss: 1.10\n",
            "Epoch 15: Train Loss: 0.82, Val loss: 0.79\n",
            "Epoch 16: Train Loss: 0.75, Val loss: 0.73\n",
            "Epoch 17: Train Loss: 0.82, Val loss: 0.57\n",
            "Epoch 18: Train Loss: 0.77, Val loss: 1.31\n",
            "Epoch 19: Train Loss: 0.72, Val loss: 0.52\n",
            "Epoch 20: Train Loss: 0.69, Val loss: 0.60\n",
            "Epoch 21: Train Loss: 0.67, Val loss: 1.30\n",
            "Epoch 22: Train Loss: 0.72, Val loss: 0.61\n",
            "Epoch 23: Train Loss: 0.71, Val loss: 0.63\n",
            "Epoch 24: Train Loss: 0.68, Val loss: 0.43\n",
            "Epoch 25: Train Loss: 0.64, Val loss: 0.65\n",
            "Epoch 26: Train Loss: 0.73, Val loss: 0.80\n",
            "Epoch 27: Train Loss: 0.69, Val loss: 0.56\n",
            "Epoch 28: Train Loss: 0.64, Val loss: 0.57\n",
            "Epoch 29: Train Loss: 0.62, Val loss: 0.62\n",
            "Epoch 30: Train Loss: 0.59, Val loss: 1.58\n",
            "Epoch 31: Train Loss: 0.64, Val loss: 0.58\n",
            "Epoch 32: Train Loss: 0.59, Val loss: 0.49\n",
            "Epoch 33: Train Loss: 0.60, Val loss: 0.53\n",
            "Epoch 34: Train Loss: 0.57, Val loss: 0.58\n",
            "Epoch 35: Train Loss: 0.54, Val loss: 0.58\n",
            "Epoch 36: Train Loss: 0.55, Val loss: 0.44\n",
            "Epoch 37: Train Loss: 0.54, Val loss: 0.40\n",
            "Epoch 38: Train Loss: 0.56, Val loss: 0.45\n",
            "Epoch 39: Train Loss: 0.53, Val loss: 0.38\n",
            "Epoch 40: Train Loss: 0.51, Val loss: 0.46\n",
            "Epoch 41: Train Loss: 0.49, Val loss: 0.59\n",
            "Epoch 42: Train Loss: 0.51, Val loss: 0.55\n",
            "Epoch 43: Train Loss: 0.47, Val loss: 0.54\n",
            "Epoch 44: Train Loss: 0.49, Val loss: 0.42\n",
            "Epoch 45: Train Loss: 0.45, Val loss: 1.25\n",
            "Epoch 46: Train Loss: 0.49, Val loss: 0.45\n",
            "Epoch 47: Train Loss: 0.42, Val loss: 0.50\n",
            "Epoch 48: Train Loss: 0.41, Val loss: 0.43\n",
            "Epoch 49: Train Loss: 0.41, Val loss: 0.78\n",
            "Epoch 50: Train Loss: 0.40, Val loss: 0.38\n",
            "Epoch 51: Train Loss: 0.43, Val loss: 0.29\n",
            "Epoch 52: Train Loss: 0.39, Val loss: 0.45\n",
            "Epoch 53: Train Loss: 0.39, Val loss: 0.36\n",
            "Epoch 54: Train Loss: 0.39, Val loss: 0.36\n",
            "Epoch 55: Train Loss: 0.39, Val loss: 0.45\n",
            "Epoch 56: Train Loss: 0.37, Val loss: 0.39\n",
            "Epoch 57: Train Loss: 0.40, Val loss: 0.46\n",
            "Epoch 58: Train Loss: 0.36, Val loss: 0.36\n",
            "Epoch 59: Train Loss: 0.31, Val loss: 0.33\n",
            "Epoch 60: Train Loss: 0.30, Val loss: 0.33\n",
            "Epoch 61: Train Loss: 0.36, Val loss: 0.31\n",
            "Epoch 62: Train Loss: 0.33, Val loss: 0.34\n",
            "Epoch 63: Train Loss: 0.30, Val loss: 0.37\n",
            "Epoch 64: Train Loss: 0.30, Val loss: 0.35\n",
            "Epoch 65: Train Loss: 0.35, Val loss: 0.39\n",
            "Epoch 66: Train Loss: 0.33, Val loss: 0.44\n",
            "Epoch 67: Train Loss: 0.36, Val loss: 0.29\n",
            "Epoch 68: Train Loss: 0.35, Val loss: 1.31\n",
            "Epoch 69: Train Loss: 0.29, Val loss: 0.39\n",
            "Epoch 70: Train Loss: 0.25, Val loss: 0.38\n",
            "Epoch 71: Train Loss: 0.22, Val loss: 0.39\n",
            "Epoch 72: Train Loss: 0.25, Val loss: 0.32\n",
            "Epoch 73: Train Loss: 0.24, Val loss: 0.25\n",
            "Epoch 74: Train Loss: 0.25, Val loss: 0.49\n",
            "Epoch 75: Train Loss: 0.23, Val loss: 0.24\n",
            "Epoch 76: Train Loss: 0.24, Val loss: 0.33\n",
            "Epoch 77: Train Loss: 0.21, Val loss: 1.23\n",
            "Epoch 78: Train Loss: 0.25, Val loss: 0.35\n",
            "Epoch 79: Train Loss: 0.21, Val loss: 0.44\n",
            "Epoch 80: Train Loss: 0.22, Val loss: 1.28\n",
            "Epoch 81: Train Loss: 0.23, Val loss: 0.53\n",
            "Epoch 82: Train Loss: 0.22, Val loss: 0.37\n",
            "Epoch 83: Train Loss: 0.20, Val loss: 1.06\n",
            "Epoch 84: Train Loss: 0.23, Val loss: 0.48\n",
            "Epoch 85: Train Loss: 0.22, Val loss: 0.28\n",
            "Epoch 86: Train Loss: 0.21, Val loss: 0.29\n",
            "Epoch 87: Train Loss: 0.17, Val loss: 1.41\n",
            "Epoch 88: Train Loss: 0.16, Val loss: 0.30\n",
            "Epoch 89: Train Loss: 0.14, Val loss: 0.25\n",
            "Epoch 90: Train Loss: 0.14, Val loss: 0.84\n",
            "Epoch 91: Train Loss: 0.18, Val loss: 0.48\n",
            "Epoch 92: Train Loss: 0.14, Val loss: 0.25\n",
            "Epoch 93: Train Loss: 0.11, Val loss: 0.27\n",
            "Epoch 94: Train Loss: 0.15, Val loss: 0.36\n",
            "Epoch 95: Train Loss: 0.15, Val loss: 0.97\n",
            "Epoch 96: Train Loss: 0.17, Val loss: 0.29\n",
            "Epoch 97: Train Loss: 0.14, Val loss: 0.23\n",
            "Epoch 98: Train Loss: 0.13, Val loss: 0.26\n",
            "Epoch 99: Train Loss: 0.11, Val loss: 0.36\n"
          ]
        },
        {
          "output_type": "display_data",
          "data": {
            "text/plain": [
              "<Figure size 432x288 with 1 Axes>"
            ],
            "image/png": "[encoded data removed]"
          },
          "metadata": {
            "needs_background": "light"
          }
        }
      ]
    },
    {
      "cell_type": "markdown",
      "source": [
        "### Check Accuarcy"
      ],
      "metadata": {
        "id": "rUFitzPwcqTO"
      }
    },
    {
      "cell_type": "code",
      "source": [
        "train_acc_14 = check_accuracy(train_loader, models[model_name]['model'], device=\"cuda\", check_type='train')"
      ],
      "metadata": {
        "id": "AYyJUaoUcqTQ"
      },
      "execution_count": 33,
      "outputs": []
    },
    {
      "cell_type": "code",
      "source": [
        "val_acc_14 = check_accuracy(val_loader, models[model_name]['model'], device=\"cuda\", check_type='val')"
      ],
      "metadata": {
        "id": "IStSjTdocqTQ"
      },
      "execution_count": 34,
      "outputs": []
    },
    {
      "cell_type": "code",
      "source": [
        "print_acc(train_acc_14, val_acc_14)"
      ],
      "metadata": {
        "colab": {
          "base_uri": "https://localhost:8080/"
        },
        "outputId": "14a12bfd-219a-4322-ee12-171a3eb9dc2d",
        "id": "kyfW4vjzcqTS"
      },
      "execution_count": 35,
      "outputs": [
        {
          "output_type": "stream",
          "name": "stdout",
          "text": [
            "idx\tClasses\t\ttrain\tval\n",
            "2\tRoadMarkings 0.0003\t0.0000\n",
            "3\tTree 0.9252\t0.7823\n",
            "4\tBuilding 0.7240\t0.0000\n",
            "5\tVehicle 0.0000\t0.0000\n",
            "6\tPerson 0.0000\t0.0000\n",
            "7\tLifeguardChair 0.0000\t0.0000\n",
            "8\tPicnicTable 0.0000\t0.0000\n",
            "9\tBlackWoodPanel 0.0000\t0.0000\n",
            "10\tWhiteWoodPanel 0.0000\t0.0000\n",
            "11\tOrangeLandingPad 0.0000\t0.0000\n",
            "12\tBuoy 0.0000\t0.0000\n",
            "13\tRocks 0.8632\t0.6891\n",
            "14\tLowLevelVegetation 0.8781\t0.3398\n",
            "15\tGrass_Lawn 0.9920\t0.9680\n",
            "16\tSand_Beach 0.9350\t0.6112\n",
            "17\tWater_Lake 0.9917\t0.8923\n",
            "18\tWater_Pond 0.9682\t0.7804\n",
            "19\tAsphalt 0.9838\t0.9234\n",
            "Average: 0.4348,0.3151\n"
          ]
        }
      ]
    },
    {
      "cell_type": "markdown",
      "source": [
        ""
      ],
      "metadata": {
        "id": "kGKarS4gf0tT"
      }
    },
    {
      "cell_type": "markdown",
      "source": [
        "## Train LinkNet 15"
      ],
      "metadata": {
        "id": "7G-1hILcf1Q5"
      }
    },
    {
      "cell_type": "code",
      "source": [
        "lr = 1e-3\n",
        "batch_size=32\n",
        "num_epochs = 40\n",
        "weight_decay=1e-2"
      ],
      "metadata": {
        "id": "izfbkxStf1Q7"
      },
      "execution_count": 36,
      "outputs": []
    },
    {
      "cell_type": "markdown",
      "source": [
        "#### Load or Create the model"
      ],
      "metadata": {
        "id": "A6ehcWlsf1Q8"
      }
    },
    {
      "cell_type": "code",
      "source": [
        "model_name = 'link_res_lr15'\n",
        "models[model_name] = {\n",
        "        'model': get_link_resnet_model(),\n",
        "        'path': f\"{folder_path}models/{model_name}_check_points.pt\"}"
      ],
      "metadata": {
        "id": "UwmI0B04f1Q8"
      },
      "execution_count": 37,
      "outputs": []
    },
    {
      "cell_type": "markdown",
      "source": [
        "#### Set Optimiazers and Train function"
      ],
      "metadata": {
        "id": "cbdLZAhkf1Q9"
      }
    },
    {
      "cell_type": "code",
      "source": [
        "optimizer = optim.Adam(filter(lambda p: p.requires_grad, models[model_name]['model'].parameters()), lr=lr)\n",
        "loss_fn = nn.CrossEntropyLoss()\n",
        "scaler = torch.cuda.amp.GradScaler()\n",
        "loss_values[model_name],accuracy_values[model_name] = train( models[model_name]['path'], {'train':train_loader,'val':val_loader}, models[model_name]['model'], optimizer, loss_fn,scaler)\n",
        "plt.plot(loss_values[model_name]['train'], label = \"train loss\")\n",
        "plt.plot(loss_values[model_name]['val'], label = \"val loss\")\n",
        "plt.legend()\n",
        "plt.show()"
      ],
      "metadata": {
        "colab": {
          "base_uri": "https://localhost:8080/",
          "height": 960
        },
        "outputId": "9fa7c357-9ce4-4c16-df79-812c72d62143",
        "id": "WQVuor1Lf1Q-"
      },
      "execution_count": 38,
      "outputs": [
        {
          "output_type": "stream",
          "name": "stdout",
          "text": [
            "Epoch 0: Train Loss: 2.62, Val loss: 2.27\n",
            "Epoch 1: Train Loss: 2.20, Val loss: 2.11\n",
            "Epoch 2: Train Loss: 1.83, Val loss: 2.02\n",
            "Epoch 3: Train Loss: 1.53, Val loss: 1.96\n",
            "Epoch 4: Train Loss: 1.33, Val loss: 1.92\n",
            "Epoch 5: Train Loss: 1.19, Val loss: 1.38\n",
            "Epoch 6: Train Loss: 1.11, Val loss: 1.26\n",
            "Epoch 7: Train Loss: 1.00, Val loss: 0.81\n",
            "Epoch 8: Train Loss: 0.93, Val loss: 0.75\n",
            "Epoch 9: Train Loss: 0.90, Val loss: 0.70\n",
            "Epoch 10: Train Loss: 0.87, Val loss: 0.67\n",
            "Epoch 11: Train Loss: 0.88, Val loss: 0.84\n",
            "Epoch 12: Train Loss: 0.82, Val loss: 0.68\n",
            "Epoch 13: Train Loss: 0.83, Val loss: 0.73\n",
            "Epoch 14: Train Loss: 0.77, Val loss: 0.57\n",
            "Epoch 15: Train Loss: 0.75, Val loss: 0.75\n",
            "Epoch 16: Train Loss: 0.74, Val loss: 0.84\n",
            "Epoch 17: Train Loss: 0.71, Val loss: 0.57\n",
            "Epoch 18: Train Loss: 0.66, Val loss: 0.53\n",
            "Epoch 19: Train Loss: 0.64, Val loss: 0.46\n",
            "Epoch 20: Train Loss: 0.63, Val loss: 0.45\n",
            "Epoch 21: Train Loss: 0.65, Val loss: 0.66\n",
            "Epoch 22: Train Loss: 0.63, Val loss: 0.54\n",
            "Epoch 23: Train Loss: 0.60, Val loss: 0.65\n",
            "Epoch 24: Train Loss: 0.59, Val loss: 0.44\n",
            "Epoch 25: Train Loss: 0.53, Val loss: 0.48\n",
            "Epoch 26: Train Loss: 0.54, Val loss: 0.51\n",
            "Epoch 27: Train Loss: 0.54, Val loss: 0.55\n",
            "Epoch 28: Train Loss: 0.52, Val loss: 0.45\n",
            "Epoch 29: Train Loss: 0.47, Val loss: 0.39\n",
            "Epoch 30: Train Loss: 0.48, Val loss: 0.37\n",
            "Epoch 31: Train Loss: 0.48, Val loss: 0.40\n",
            "Epoch 32: Train Loss: 0.43, Val loss: 0.38\n",
            "Epoch 33: Train Loss: 0.44, Val loss: 0.36\n",
            "Epoch 34: Train Loss: 0.44, Val loss: 0.34\n",
            "Epoch 35: Train Loss: 0.43, Val loss: 0.36\n",
            "Epoch 36: Train Loss: 0.41, Val loss: 0.29\n",
            "Epoch 37: Train Loss: 0.39, Val loss: 0.39\n",
            "Epoch 38: Train Loss: 0.39, Val loss: 0.43\n",
            "Epoch 39: Train Loss: 0.49, Val loss: 1.30\n"
          ]
        },
        {
          "output_type": "display_data",
          "data": {
            "text/plain": [
              "<Figure size 432x288 with 1 Axes>"
            ],
            "image/png": "[encoded data removed]"
          },
          "metadata": {
            "needs_background": "light"
          }
        }
      ]
    },
    {
      "cell_type": "markdown",
      "source": [
        "### Check Accuarcy"
      ],
      "metadata": {
        "id": "_0T9j_vHf1Q_"
      }
    },
    {
      "cell_type": "code",
      "source": [
        "train_acc_15 = check_accuracy(train_loader, models[model_name]['model'], device=\"cuda\", check_type='train')"
      ],
      "metadata": {
        "id": "xoxqE9gyf1RA"
      },
      "execution_count": 39,
      "outputs": []
    },
    {
      "cell_type": "code",
      "source": [
        "val_acc_15 = check_accuracy(val_loader, models[model_name]['model'], device=\"cuda\", check_type='val')"
      ],
      "metadata": {
        "id": "KhdH7pw5f1RC"
      },
      "execution_count": 40,
      "outputs": []
    },
    {
      "cell_type": "code",
      "source": [
        "print_acc(train_acc_15, val_acc_15)"
      ],
      "metadata": {
        "colab": {
          "base_uri": "https://localhost:8080/"
        },
        "outputId": "73b6e2fc-0b34-4759-c2e4-5b72587fd679",
        "id": "JmT6H4Syf1RD"
      },
      "execution_count": 41,
      "outputs": [
        {
          "output_type": "stream",
          "name": "stdout",
          "text": [
            "idx\tClasses\t\ttrain\tval\n",
            "2\tRoadMarkings 0.0000\t0.0000\n",
            "3\tTree 0.7404\t0.5736\n",
            "4\tBuilding 0.0000\t0.0000\n",
            "5\tVehicle 0.0000\t0.0000\n",
            "6\tPerson 0.0000\t0.0000\n",
            "7\tLifeguardChair 0.0000\t0.0000\n",
            "8\tPicnicTable 0.0000\t0.0000\n",
            "9\tBlackWoodPanel 0.0000\t0.0000\n",
            "10\tWhiteWoodPanel 0.0000\t0.0000\n",
            "11\tOrangeLandingPad 0.0000\t0.0000\n",
            "12\tBuoy 0.0000\t0.0000\n",
            "13\tRocks 0.0000\t0.0000\n",
            "14\tLowLevelVegetation 0.0000\t0.0000\n",
            "15\tGrass_Lawn 0.6552\t0.6542\n",
            "16\tSand_Beach 0.9100\t0.8756\n",
            "17\tWater_Lake 0.4105\t0.3886\n",
            "18\tWater_Pond 0.0000\t0.0000\n",
            "19\tAsphalt 0.2527\t0.2833\n",
            "Average: 0.1563,0.1461\n"
          ]
        }
      ]
    },
    {
      "cell_type": "markdown",
      "source": [
        ""
      ],
      "metadata": {
        "id": "_ejgRCuvhyIG"
      }
    },
    {
      "cell_type": "markdown",
      "source": [
        "## Train LinkNet 16\n",
        "batch_size=64"
      ],
      "metadata": {
        "id": "kc5H3uCmhyoj"
      }
    },
    {
      "cell_type": "code",
      "source": [
        "lr = 1e-3\n",
        "batch_size=64\n",
        "num_epochs = 100"
      ],
      "metadata": {
        "id": "__zyY0b7hyok"
      },
      "execution_count": 16,
      "outputs": []
    },
    {
      "cell_type": "markdown",
      "source": [
        "#### Load or Create the model"
      ],
      "metadata": {
        "id": "Wgc7cpW6hyol"
      }
    },
    {
      "cell_type": "code",
      "source": [
        "model_name = 'link_res_lr16'\n",
        "models[model_name] = {\n",
        "        'model': get_link_resnet_model(),\n",
        "        'path': f\"{folder_path}models/{model_name}_check_points.pt\"}"
      ],
      "metadata": {
        "id": "W_zbqSm6hyon"
      },
      "execution_count": 17,
      "outputs": []
    },
    {
      "cell_type": "markdown",
      "source": [
        "#### Set Optimiazers and Train function"
      ],
      "metadata": {
        "id": "7MMDgVW7hyoo"
      }
    },
    {
      "cell_type": "code",
      "source": [
        "optimizer = optim.Adam(filter(lambda p: p.requires_grad, models[model_name]['model'].parameters()), lr=lr)\n",
        "loss_fn = nn.CrossEntropyLoss()\n",
        "scaler = torch.cuda.amp.GradScaler()\n",
        "loss_values[model_name],accuracy_values[model_name] = train( models[model_name]['path'], {'train':train_loader,'val':val_loader}, models[model_name]['model'], optimizer, loss_fn,scaler)\n",
        "plt.plot(loss_values[model_name]['train'], label = \"train loss\")\n",
        "plt.plot(loss_values[model_name]['val'], label = \"val loss\")\n",
        "plt.legend()\n",
        "plt.show()"
      ],
      "metadata": {
        "colab": {
          "base_uri": "https://localhost:8080/",
          "height": 1000
        },
        "outputId": "8e8aea69-4dea-4fa0-ac4a-2ad51da9b670",
        "id": "ItoX28Gvhyop"
      },
      "execution_count": 18,
      "outputs": [
        {
          "output_type": "stream",
          "name": "stdout",
          "text": [
            "Epoch 0: Train Loss: 2.55, Val loss: 2.32\n",
            "Epoch 1: Train Loss: 2.30, Val loss: 2.28\n",
            "Epoch 2: Train Loss: 2.13, Val loss: 2.21\n",
            "Epoch 3: Train Loss: 1.93, Val loss: 2.15\n",
            "Epoch 4: Train Loss: 1.75, Val loss: 2.11\n",
            "Epoch 5: Train Loss: 1.59, Val loss: 2.04\n",
            "Epoch 6: Train Loss: 1.44, Val loss: 2.06\n",
            "Epoch 7: Train Loss: 1.36, Val loss: 2.02\n",
            "Epoch 8: Train Loss: 1.30, Val loss: 1.99\n",
            "Epoch 9: Train Loss: 1.14, Val loss: 1.96\n",
            "Epoch 10: Train Loss: 1.06, Val loss: 1.77\n",
            "Epoch 11: Train Loss: 1.01, Val loss: 1.48\n",
            "Epoch 12: Train Loss: 0.89, Val loss: 1.42\n",
            "Epoch 13: Train Loss: 0.87, Val loss: 1.57\n",
            "Epoch 14: Train Loss: 0.81, Val loss: 1.30\n",
            "Epoch 15: Train Loss: 0.79, Val loss: 0.83\n",
            "Epoch 16: Train Loss: 0.73, Val loss: 0.75\n",
            "Epoch 17: Train Loss: 0.74, Val loss: 1.03\n",
            "Epoch 18: Train Loss: 0.73, Val loss: 1.20\n",
            "Epoch 19: Train Loss: 0.82, Val loss: 1.30\n",
            "Epoch 20: Train Loss: 0.78, Val loss: 0.89\n",
            "Epoch 21: Train Loss: 0.71, Val loss: 1.18\n",
            "Epoch 22: Train Loss: 0.67, Val loss: 0.70\n",
            "Epoch 23: Train Loss: 0.63, Val loss: 0.89\n",
            "Epoch 24: Train Loss: 0.61, Val loss: 0.94\n",
            "Epoch 25: Train Loss: 0.60, Val loss: 0.52\n",
            "Epoch 26: Train Loss: 0.55, Val loss: 0.56\n",
            "Epoch 27: Train Loss: 0.54, Val loss: 0.54\n",
            "Epoch 28: Train Loss: 0.55, Val loss: 0.47\n",
            "Epoch 29: Train Loss: 0.53, Val loss: 0.62\n",
            "Epoch 30: Train Loss: 0.51, Val loss: 0.73\n",
            "Epoch 31: Train Loss: 0.49, Val loss: 0.46\n",
            "Epoch 32: Train Loss: 0.50, Val loss: 0.55\n",
            "Epoch 33: Train Loss: 0.45, Val loss: 0.45\n",
            "Epoch 34: Train Loss: 0.47, Val loss: 0.46\n",
            "Epoch 35: Train Loss: 0.44, Val loss: 0.42\n",
            "Epoch 36: Train Loss: 0.45, Val loss: 0.41\n",
            "Epoch 37: Train Loss: 0.45, Val loss: 0.39\n",
            "Epoch 38: Train Loss: 0.48, Val loss: 0.50\n",
            "Epoch 39: Train Loss: 0.45, Val loss: 0.41\n",
            "Epoch 40: Train Loss: 0.44, Val loss: 0.38\n",
            "Epoch 41: Train Loss: 0.42, Val loss: 0.53\n",
            "Epoch 42: Train Loss: 0.43, Val loss: 0.46\n",
            "Epoch 43: Train Loss: 0.44, Val loss: 0.60\n",
            "Epoch 44: Train Loss: 0.41, Val loss: 0.36\n",
            "Epoch 45: Train Loss: 0.39, Val loss: 0.36\n",
            "Epoch 46: Train Loss: 0.35, Val loss: 0.37\n",
            "Epoch 47: Train Loss: 0.31, Val loss: 0.37\n",
            "Epoch 48: Train Loss: 0.30, Val loss: 0.30\n",
            "Epoch 49: Train Loss: 0.31, Val loss: 0.50\n",
            "Epoch 50: Train Loss: 0.31, Val loss: 0.33\n",
            "Epoch 51: Train Loss: 0.33, Val loss: 0.44\n",
            "Epoch 52: Train Loss: 0.36, Val loss: 0.34\n",
            "Epoch 53: Train Loss: 0.31, Val loss: 0.39\n",
            "Epoch 54: Train Loss: 0.32, Val loss: 0.30\n",
            "Epoch 55: Train Loss: 0.36, Val loss: 0.63\n",
            "Epoch 56: Train Loss: 0.38, Val loss: 0.78\n",
            "Epoch 57: Train Loss: 0.36, Val loss: 0.53\n",
            "Epoch 58: Train Loss: 0.34, Val loss: 0.34\n",
            "Epoch 59: Train Loss: 0.29, Val loss: 0.33\n",
            "Epoch 60: Train Loss: 0.26, Val loss: 0.30\n",
            "Epoch 61: Train Loss: 0.27, Val loss: 0.29\n",
            "Epoch 62: Train Loss: 0.23, Val loss: 0.25\n",
            "Epoch 63: Train Loss: 0.22, Val loss: 0.28\n",
            "Epoch 64: Train Loss: 0.21, Val loss: 0.27\n",
            "Epoch 65: Train Loss: 0.18, Val loss: 0.24\n",
            "Epoch 66: Train Loss: 0.18, Val loss: 0.22\n",
            "Epoch 67: Train Loss: 0.19, Val loss: 0.23\n",
            "Epoch 68: Train Loss: 0.22, Val loss: 0.24\n",
            "Epoch 69: Train Loss: 0.23, Val loss: 0.38\n",
            "Epoch 70: Train Loss: 0.20, Val loss: 0.25\n",
            "Epoch 71: Train Loss: 0.19, Val loss: 0.41\n",
            "Epoch 72: Train Loss: 0.18, Val loss: 0.25\n",
            "Epoch 73: Train Loss: 0.15, Val loss: 0.26\n",
            "Epoch 74: Train Loss: 0.13, Val loss: 0.57\n",
            "Epoch 75: Train Loss: 0.14, Val loss: 0.19\n",
            "Epoch 76: Train Loss: 0.12, Val loss: 0.18\n",
            "Epoch 77: Train Loss: 0.14, Val loss: 0.24\n",
            "Epoch 78: Train Loss: 0.15, Val loss: 0.22\n",
            "Epoch 79: Train Loss: 0.18, Val loss: 0.26\n",
            "Epoch 80: Train Loss: 0.15, Val loss: 0.30\n",
            "Epoch 81: Train Loss: 0.13, Val loss: 0.24\n",
            "Epoch 82: Train Loss: 0.19, Val loss: 0.26\n",
            "Epoch 83: Train Loss: 0.16, Val loss: 0.28\n",
            "Epoch 84: Train Loss: 0.18, Val loss: 0.35\n",
            "Epoch 85: Train Loss: 0.19, Val loss: 0.85\n",
            "Epoch 86: Train Loss: 0.17, Val loss: 0.32\n",
            "Epoch 87: Train Loss: 0.20, Val loss: 0.38\n",
            "Epoch 88: Train Loss: 0.16, Val loss: 0.29\n",
            "Epoch 89: Train Loss: 0.15, Val loss: 0.22\n",
            "Epoch 90: Train Loss: 0.18, Val loss: 0.33\n",
            "Epoch 91: Train Loss: 0.18, Val loss: 0.26\n",
            "Epoch 92: Train Loss: 0.21, Val loss: 0.34\n",
            "Epoch 93: Train Loss: 0.18, Val loss: 0.28\n",
            "Epoch 94: Train Loss: 0.15, Val loss: 1.38\n",
            "Epoch 95: Train Loss: 0.14, Val loss: 1.07\n",
            "Epoch 96: Train Loss: 0.13, Val loss: 0.20\n",
            "Epoch 97: Train Loss: 0.11, Val loss: 0.20\n",
            "Epoch 98: Train Loss: 0.10, Val loss: 0.21\n",
            "Epoch 99: Train Loss: 0.10, Val loss: 0.21\n"
          ]
        },
        {
          "output_type": "display_data",
          "data": {
            "text/plain": [
              "<Figure size 432x288 with 1 Axes>"
            ],
            "image/png": "[encoded data removed]"
          },
          "metadata": {
            "needs_background": "light"
          }
        }
      ]
    },
    {
      "cell_type": "markdown",
      "source": [
        "### Check Accuarcy"
      ],
      "metadata": {
        "id": "IOr9qBFchyoq"
      }
    },
    {
      "cell_type": "code",
      "source": [
        "train_acc_16 = check_accuracy(train_loader, models[model_name]['model'], device=\"cuda\", check_type='train')"
      ],
      "metadata": {
        "id": "caJm-Nr1hyoq"
      },
      "execution_count": 19,
      "outputs": []
    },
    {
      "cell_type": "code",
      "source": [
        "val_acc_16 = check_accuracy(val_loader, models[model_name]['model'], device=\"cuda\", check_type='val')"
      ],
      "metadata": {
        "id": "tmxlNWzwhyor"
      },
      "execution_count": 20,
      "outputs": []
    },
    {
      "cell_type": "code",
      "source": [
        "print_acc(train_acc_16, val_acc_16)"
      ],
      "metadata": {
        "colab": {
          "base_uri": "https://localhost:8080/"
        },
        "outputId": "625abf4f-074a-43ae-c6f0-bac7cc5d740b",
        "id": "1GEgRajphyot"
      },
      "execution_count": 21,
      "outputs": [
        {
          "output_type": "stream",
          "name": "stdout",
          "text": [
            "idx\tClasses\t\ttrain\tval\n",
            "2\tRoadMarkings 0.0000\t0.0000\n",
            "3\tTree 0.9833\t0.9258\n",
            "4\tBuilding 0.0000\t0.0000\n",
            "5\tVehicle 0.0000\t0.0000\n",
            "6\tPerson 0.0000\t0.0000\n",
            "7\tLifeguardChair 0.0000\t0.0000\n",
            "8\tPicnicTable 0.0000\t0.0000\n",
            "9\tBlackWoodPanel 0.0000\t0.0000\n",
            "10\tWhiteWoodPanel 0.0000\t0.0000\n",
            "11\tOrangeLandingPad 0.0000\t0.0000\n",
            "12\tBuoy 0.0000\t0.0000\n",
            "13\tRocks 0.7970\t0.5859\n",
            "14\tLowLevelVegetation 0.8551\t0.2003\n",
            "15\tGrass_Lawn 0.9712\t0.9630\n",
            "16\tSand_Beach 0.9540\t0.8402\n",
            "17\tWater_Lake 0.9799\t0.9119\n",
            "18\tWater_Pond 0.9539\t0.8523\n",
            "19\tAsphalt 0.9827\t0.8908\n",
            "Average: 0.3935,0.3247\n"
          ]
        }
      ]
    },
    {
      "cell_type": "markdown",
      "source": [
        "# Test\n"
      ],
      "metadata": {
        "id": "_DK227c7jksV"
      }
    },
    {
      "cell_type": "code",
      "source": [
        "# LinkNet 6\n",
        "# lr = 1e-3\n",
        "# num_epochs = 80\n",
        "# weight_decay=1e-4\n",
        "test_acc_6 = check_accuracy(test_loader, models['link_res_lr6']['model'], device=\"cuda\", check_type='test')"
      ],
      "metadata": {
        "id": "gVniQ7BpotEs"
      },
      "execution_count": 88,
      "outputs": []
    },
    {
      "cell_type": "code",
      "source": [
        "print_single_acc(test_acc_6)"
      ],
      "metadata": {
        "colab": {
          "base_uri": "https://localhost:8080/"
        },
        "id": "c52P0Z57FQfs",
        "outputId": "00243e52-a033-4cbc-81fd-fd255329b3f6"
      },
      "execution_count": 89,
      "outputs": [
        {
          "output_type": "stream",
          "name": "stdout",
          "text": [
            "idx\tClasses\t\tAccuarcy\n",
            "2\tRoadMarkings 0.0822\n",
            "3\tTree 0.7258\n",
            "4\tBuilding 0.0000\n",
            "5\tVehicle 0.0000\n",
            "6\tPerson 0.0000\n",
            "7\tLifeguardChair 0.0000\n",
            "8\tPicnicTable 0.0000\n",
            "9\tBlackWoodPanel 0.0000\n",
            "10\tWhiteWoodPanel 0.0000\n",
            "11\tOrangeLandingPad 0.0000\n",
            "12\tBuoy 0.0000\n",
            "13\tRocks 0.4850\n",
            "14\tLowLevelVegetation 0.0000\n",
            "15\tGrass_Lawn 0.8392\n",
            "16\tSand_Beach 0.8592\n",
            "17\tWater_Lake 0.9008\n",
            "18\tWater_Pond 0.0891\n",
            "19\tAsphalt 0.8561\n",
            "Average: 0.2546\n"
          ]
        }
      ]
    },
    {
      "cell_type": "code",
      "source": [
        "# LinkNet 12\n",
        "# lr = 1e-3\n",
        "# batch_size=32\n",
        "# num_epochs = 80\n",
        "test_acc_12 = check_accuracy(test_loader, models['link_res_lr12']['model'], device=\"cuda\", check_type='test')"
      ],
      "metadata": {
        "id": "IYO51anrFXOm"
      },
      "execution_count": 42,
      "outputs": []
    },
    {
      "cell_type": "code",
      "source": [
        "print_single_acc(test_acc_12)"
      ],
      "metadata": {
        "colab": {
          "base_uri": "https://localhost:8080/"
        },
        "id": "XY1tUIQcFkkr",
        "outputId": "fa9fccf1-8dcd-4920-fe9d-d7ce93d8e483"
      },
      "execution_count": 43,
      "outputs": [
        {
          "output_type": "stream",
          "name": "stdout",
          "text": [
            "idx\tClasses\t\tAccuarcy\n",
            "2\tRoadMarkings 0.0000\n",
            "3\tTree 0.7700\n",
            "4\tBuilding 0.0000\n",
            "5\tVehicle 0.0000\n",
            "6\tPerson 0.0000\n",
            "7\tLifeguardChair 0.0000\n",
            "8\tPicnicTable 0.0000\n",
            "9\tBlackWoodPanel 0.0000\n",
            "10\tWhiteWoodPanel 0.0000\n",
            "11\tOrangeLandingPad 0.0000\n",
            "12\tBuoy 0.0000\n",
            "13\tRocks 0.4710\n",
            "14\tLowLevelVegetation 0.0000\n",
            "15\tGrass_Lawn 0.8384\n",
            "16\tSand_Beach 0.7987\n",
            "17\tWater_Lake 0.9302\n",
            "18\tWater_Pond 0.3617\n",
            "19\tAsphalt 0.7464\n",
            "Average: 0.2588\n"
          ]
        }
      ]
    },
    {
      "cell_type": "code",
      "source": [
        "# LinkNet 14\n",
        "# lr = 1e-3\n",
        "# batch_size=32\n",
        "# num_epochs = 100\n",
        "# weight_decay=1e-4\n",
        "test_acc_14 = check_accuracy(test_loader, models['link_res_lr14']['model'], device=\"cuda\", check_type='test')"
      ],
      "metadata": {
        "id": "1E-TpB5GFtdd"
      },
      "execution_count": 44,
      "outputs": []
    },
    {
      "cell_type": "code",
      "source": [
        "print_single_acc(test_acc_14)"
      ],
      "metadata": {
        "colab": {
          "base_uri": "https://localhost:8080/"
        },
        "id": "uSjTPODEFtqh",
        "outputId": "5ca46386-3692-458e-9599-4498decb0e3c"
      },
      "execution_count": 45,
      "outputs": [
        {
          "output_type": "stream",
          "name": "stdout",
          "text": [
            "idx\tClasses\t\tAccuarcy\n",
            "2\tRoadMarkings 0.0002\n",
            "3\tTree 0.6583\n",
            "4\tBuilding 0.1469\n",
            "5\tVehicle 0.0000\n",
            "6\tPerson 0.0000\n",
            "7\tLifeguardChair 0.0000\n",
            "8\tPicnicTable 0.0000\n",
            "9\tBlackWoodPanel 0.0000\n",
            "10\tWhiteWoodPanel 0.0000\n",
            "11\tOrangeLandingPad 0.0000\n",
            "12\tBuoy 0.0000\n",
            "13\tRocks 0.7752\n",
            "14\tLowLevelVegetation 0.1882\n",
            "15\tGrass_Lawn 0.8602\n",
            "16\tSand_Beach 0.4227\n",
            "17\tWater_Lake 0.8160\n",
            "18\tWater_Pond 0.3796\n",
            "19\tAsphalt 0.6855\n",
            "Average: 0.2596\n"
          ]
        }
      ]
    },
    {
      "cell_type": "code",
      "source": [
        "# LinkNet 16\n",
        "# lr = 1e-3\n",
        "# batch_size=64\n",
        "# num_epochs = 100\n",
        "test_acc_16 = check_accuracy(test_loader, models['link_res_lr16']['model'], device=\"cuda\", check_type='test')"
      ],
      "metadata": {
        "id": "4C9bWGkYUED-"
      },
      "execution_count": 22,
      "outputs": []
    },
    {
      "cell_type": "code",
      "source": [
        "print_single_acc(test_acc_16)"
      ],
      "metadata": {
        "colab": {
          "base_uri": "https://localhost:8080/"
        },
        "id": "z_ojHLAxUFjE",
        "outputId": "958a8707-e0dd-4726-e038-e2793a36d785"
      },
      "execution_count": 23,
      "outputs": [
        {
          "output_type": "stream",
          "name": "stdout",
          "text": [
            "idx\tClasses\t\tAccuarcy\n",
            "2\tRoadMarkings 0.0000\n",
            "3\tTree 0.8188\n",
            "4\tBuilding 0.0000\n",
            "5\tVehicle 0.0000\n",
            "6\tPerson 0.0000\n",
            "7\tLifeguardChair 0.0000\n",
            "8\tPicnicTable 0.0000\n",
            "9\tBlackWoodPanel 0.0000\n",
            "10\tWhiteWoodPanel 0.0000\n",
            "11\tOrangeLandingPad 0.0000\n",
            "12\tBuoy 0.0000\n",
            "13\tRocks 0.5843\n",
            "14\tLowLevelVegetation 0.2718\n",
            "15\tGrass_Lawn 0.7846\n",
            "16\tSand_Beach 0.7064\n",
            "17\tWater_Lake 0.8509\n",
            "18\tWater_Pond 0.2522\n",
            "19\tAsphalt 0.8640\n",
            "Average: 0.2702\n"
          ]
        }
      ]
    },
    {
      "cell_type": "markdown",
      "source": [
        "# TIMING"
      ],
      "metadata": {
        "id": "8VExVsEVrFlD"
      }
    },
    {
      "cell_type": "code",
      "source": [
        "starter, ender = torch.cuda.Event(enable_timing=True), torch.cuda.Event(enable_timing=True)\n",
        "repetitions = 1\n",
        "timings=np.zeros((repetitions,5))\n",
        "#GPU-WARM-UP\n",
        "# MEASURE PERFORMANCE\n",
        "for rep in range(repetitions):\n",
        "  starter.record()\n",
        "  check_accuracy(test_loader, models['link_res_lr16']['model'], device=device, check_type='test')\n",
        "  ender.record()\n",
        "  # WAIT FOR GPU SYNC\n",
        "  torch.cuda.synchronize()\n",
        "  curr_time = starter.elapsed_time(ender)\n",
        "  timings[rep] = curr_time\n",
        "  mean_syn = np.sum(timings) / repetitions\n",
        "std_syn = np.std(timings)\n",
        "print(f'{mean_syn//1000}ms')"
      ],
      "metadata": {
        "id": "YMXukBOEiT16",
        "colab": {
          "base_uri": "https://localhost:8080/"
        },
        "outputId": "43ab34ba-57f8-42da-d381-e84a7455e89a"
      },
      "execution_count": 42,
      "outputs": [
        {
          "output_type": "stream",
          "name": "stdout",
          "text": [
            "270.0ms\n"
          ]
        }
      ]
    },
    {
      "cell_type": "markdown",
      "source": [
        "# Test some images"
      ],
      "metadata": {
        "id": "z9caQ5OIEZq9"
      }
    },
    {
      "cell_type": "code",
      "source": [
        "idx = range(1,len(train_loader))\n",
        "model = models['link_res_lr16']['model']\n",
        "model.eval()\n",
        "images = img2plot(model,train_loader, idx)\n",
        "fig, ax = plt.subplots(int(len(images)/4) + int(len(images)%4 > 0),4)\n",
        "for i, img in enumerate(images):\n",
        "    ax[0, 0].set_title(\"Target Mask\")\n",
        "    ax[0, 1].set_title(\"Pred Mask\")\n",
        "    ax[0, 2].set_title(\"RGB image\")\n",
        "    ax[0, 3].set_title(\"Similarity (white=sim, black=diff)\")\n",
        "    if (i+1)%4 == 0:\n",
        "      cmap = 'gray'\n",
        "    else: cmap = 'jet'\n",
        "    fig.set_figheight(15)\n",
        "    fig.set_figwidth(15)\n",
        "    ax[int(i/4), i%4].imshow(img,cmap=cmap,interpolation='none')"
      ],
      "metadata": {
        "id": "is5fSYChr9HL",
        "colab": {
          "base_uri": "https://localhost:8080/",
          "height": 914
        },
        "outputId": "a1d49ef9-17a3-4b02-9f71-f2fc9e959f64"
      },
      "execution_count": 40,
      "outputs": [
        {
          "output_type": "stream",
          "name": "stderr",
          "text": [
            "/usr/local/lib/python3.7/dist-packages/ipykernel_launcher.py:28: UserWarning: Implicit dimension choice for softmax has been deprecated. Change the call to include dim=X as an argument.\n",
            "/usr/local/lib/python3.7/dist-packages/ipykernel_launcher.py:55: RuntimeWarning: invalid value encountered in true_divide\n"
          ]
        },
        {
          "output_type": "display_data",
          "data": {
            "text/plain": [
              "<Figure size 1080x1080 with 32 Axes>"
            ],
            "image/png": "[encoded data removed]"
          },
          "metadata": {
            "needs_background": "light"
          }
        }
      ]
    }
  ]
}